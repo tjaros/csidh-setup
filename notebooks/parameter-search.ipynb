{
 "cells": [
  {
   "cell_type": "code",
   "execution_count": null,
   "id": "4dd6eda9-6565-4f73-a430-4ad5371ae465",
   "metadata": {},
   "outputs": [],
   "source": [
    "PATH = \"/home/xjaros2/Documents/git/csidh-setup/\"\n",
    "SCOPETYPE = 'OPENADC'\n",
    "PLATFORM = 'CW308_STM32F3'\n",
    "\n",
    "SS_VER = 'SS_VER_2_1'\n",
    "attack_type = \"A1\""
   ]
  },
  {
   "cell_type": "code",
   "execution_count": null,
   "id": "e8c4a394-f605-4287-8320-75c82b7ec312",
   "metadata": {
    "scrolled": true
   },
   "outputs": [],
   "source": [
    "%cd $PATH/scripts\n",
    "%run ./init.ipynb\n",
    "%cd $PATH/scripts"
   ]
  },
  {
   "cell_type": "code",
   "execution_count": null,
   "id": "d8e16d7f-38b7-4543-a1f9-b6a41eea501e",
   "metadata": {},
   "outputs": [],
   "source": [
    "# csidh.voltage_glitching_setup()\n",
    "csidh.scope.cglitch_setup()"
   ]
  },
  {
   "cell_type": "code",
   "execution_count": null,
   "id": "8e73f9f7-9b14-4316-acd1-d8e624ab7f76",
   "metadata": {},
   "outputs": [],
   "source": [
    "Unit.is_husky = csidh.scope._is_husky\n",
    "\n",
    "if Unit.is_husky:\n",
    "    Unit.OFFSET_MIN = 0 \n",
    "    Unit.OFFSET_MAX = csidh.scope.glitch.phase_shift_steps // 2 \t\n",
    "    Unit.OFFSET_RANGE = Unit.OFFSET_MAX - Unit.OFFSET_MIN\n",
    "    \n",
    "    Unit.WIDTH_MIN = 0\n",
    "    Unit.WIDTH_MAX = csidh.scope.glitch.phase_shift_steps // 2\n",
    "    Unit.WIDTH_RANGE = Unit.WIDTH_MAX - Unit.WIDTH_MIN\n",
    "else:\n",
    "    Unit.OFFSET_MIN = -48 \t \n",
    "    Unit.OFFSET_MAX = 48\n",
    "    Unit.OFFSET_RANGE = Unit.OFFSET_MAX - Unit.OFFSET_MIN\n",
    "    \n",
    "    Unit.WIDTH_MIN = 0\n",
    "    Unit.WIDTH_MAX = 48\n",
    "    Unit.WIDTH_RANGE = Unit.WIDTH_MAX - Unit.WIDTH_MIN\n",
    "\n",
    "Unit.EXT_OFFSET_MIN = 0\n",
    "Unit.EXT_OFFSET_MAX = MAX_EXT_OFFSET // 4 \n",
    "Unit.EXT_OFFSET_RANGE = Unit.EXT_OFFSET_MAX - Unit.EXT_OFFSET_MIN\n",
    "\n",
    "Unit.REPEAT_MIN = 1\n",
    "Unit.REPEAT_MAX = 10"
   ]
  },
  {
   "cell_type": "code",
   "execution_count": null,
   "id": "9a7e0ede-d29b-4f30-99f2-d3f1d11ba9a7",
   "metadata": {},
   "outputs": [],
   "source": [
    "csidh.action_sleep = 0.25"
   ]
  },
  {
   "cell_type": "code",
   "execution_count": null,
   "id": "6397ffbf-b982-466e-b393-1571135d3e78",
   "metadata": {},
   "outputs": [],
   "source": [
    "POPULATION_SIZE = 250000\n",
    "CACHE_INTERVAL = 2\n",
    "NUM_TRIES = 1\n",
    "\n",
    "cache.clear()\n",
    "\n",
    "def evaluate_unit_wrapper(csidh, unit):\n",
    "    evaluate_unit(csidh, unit, NUM_TRIES)\n",
    "\n",
    "population = generate_population(POPULATION_SIZE)\n",
    "for i in trange(0, len(population), CACHE_INTERVAL):\n",
    "    batch = population[i:i+CACHE_INTERVAL]\n",
    "    evaluate_batch(csidh, batch, evaluate_unit_wrapper)\n",
    "    write_cache_to_file(f\"husky-clock-param-search-random-(+5)(-3)(+1).json\", cache)  "
   ]
  },
  {
   "cell_type": "code",
   "execution_count": null,
   "id": "018165c6-17db-42a7-92dc-7ae83024efa0",
   "metadata": {},
   "outputs": [],
   "source": []
  }
 ],
 "metadata": {
  "kernelspec": {
   "display_name": "Python 3 (ipykernel)",
   "language": "python",
   "name": "python3"
  },
  "language_info": {
   "codemirror_mode": {
    "name": "ipython",
    "version": 3
   },
   "file_extension": ".py",
   "mimetype": "text/x-python",
   "name": "python",
   "nbconvert_exporter": "python",
   "pygments_lexer": "ipython3",
   "version": "3.11.6"
  }
 },
 "nbformat": 4,
 "nbformat_minor": 5
}
