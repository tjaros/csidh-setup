{
 "cells": [
  {
   "cell_type": "code",
   "execution_count": 1,
   "id": "4dd6eda9-6565-4f73-a430-4ad5371ae465",
   "metadata": {},
   "outputs": [],
   "source": [
    "PATH = \"/home/xjaros2/Documents/git/csidh-setup/\"\n",
    "SCOPETYPE = 'OPENADC'\n",
    "PLATFORM = 'CW308_STM32F3'\n",
    "\n",
    "SS_VER = 'SS_VER_2_1'\n",
    "attack_type = \"A1\""
   ]
  },
  {
   "cell_type": "code",
   "execution_count": 2,
   "id": "e8c4a394-f605-4287-8320-75c82b7ec312",
   "metadata": {
    "scrolled": true
   },
   "outputs": [
    {
     "name": "stdout",
     "output_type": "stream",
     "text": [
      "/home/xjaros2/Documents/git/csidh-setup/scripts\n",
      "INFO: Found ChipWhisperer😍\n",
      "scope.gain.gain                          changed from 0                         to 22                       \n",
      "scope.gain.db                            changed from 15.0                      to 25.091743119266056       \n",
      "scope.adc.samples                        changed from 131124                    to 5000                     \n",
      "scope.clock.clkgen_freq                  changed from 0                         to 7370129.87012987         \n",
      "scope.clock.adc_freq                     changed from 0                         to 29480519.48051948        \n",
      "scope.clock.extclk_monitor_enabled       changed from True                      to False                    \n",
      "scope.clock.extclk_tolerance             changed from 1144409.1796875           to 13096723.705530167       \n",
      "scope.io.tio1                            changed from serial_tx                 to serial_rx                \n",
      "scope.io.tio2                            changed from serial_rx                 to serial_tx                \n",
      "scope.io.hs2                             changed from None                      to clkgen                   \n",
      "scope.glitch.phase_shift_steps           changed from 0                         to 4592                     \n",
      "scope.trace.clock.fe_freq                changed from 96000000.0                to 95999988.5559082         \n",
      "scope.trace.capture.trigger_source       changed from trace trigger, rule #0    to firmware trigger         \n",
      "SS_VER set to SS_VER_2_1\n",
      ".\n",
      "-------- begin --------\n",
      ".\n",
      "Cleaning project:\n",
      "rm -f -- main-CW308_CC2538.hex main-CW301_AVR.hex main-CW303.hex main-CW304.hex main-CW308_MEGARF.hex main-CW308_SAM4L.hex main-CW308_STM32F0.hex main-CW308_STM32F1.hex main-CW308_STM32F2.hex main-CW308_STM32F3.hex main-CW308_STM32F4.hex main-CW308_K24F.hex main-CW308_NRF52.hex main-CW308_AURIX.hex main-CW308_SAML11.hex main-CW308_EFM32TG11B.hex main-CWLITEARM.hex main-CWLITEXMEGA.hex main-CWNANO.hex main-CW308_K82F.hex main-CW308_PSOC62.hex main-CW308_IMXRT1062.hex main-CW308_FE310.hex main-CW308_EFR32MG21A.hex main-CW308_EFM32GG11.hex main-CW308_STM32L5.hex main-CW308_NEORV32.hex main-CW308_SAM4S.hex main-CW305_IBEX.hex\n",
      "rm -f -- main-CW308_CC2538.eep main-CW301_AVR.eep main-CW303.eep main-CW304.eep main-CW308_MEGARF.eep main-CW308_SAM4L.eep main-CW308_STM32F0.eep main-CW308_STM32F1.eep main-CW308_STM32F2.eep main-CW308_STM32F3.eep main-CW308_STM32F4.eep main-CW308_K24F.eep main-CW308_NRF52.eep main-CW308_AURIX.eep main-CW308_SAML11.eep main-CW308_EFM32TG11B.eep main-CWLITEARM.eep main-CWLITEXMEGA.eep main-CWNANO.eep main-CW308_K82F.eep main-CW308_PSOC62.eep main-CW308_IMXRT1062.eep main-CW308_FE310.eep main-CW308_EFR32MG21A.eep main-CW308_EFM32GG11.eep main-CW308_STM32L5.eep main-CW308_NEORV32.eep main-CW308_SAM4S.eep main-CW305_IBEX.eep\n",
      "rm -f -- main-CW308_CC2538.cof main-CW301_AVR.cof main-CW303.cof main-CW304.cof main-CW308_MEGARF.cof main-CW308_SAM4L.cof main-CW308_STM32F0.cof main-CW308_STM32F1.cof main-CW308_STM32F2.cof main-CW308_STM32F3.cof main-CW308_STM32F4.cof main-CW308_K24F.cof main-CW308_NRF52.cof main-CW308_AURIX.cof main-CW308_SAML11.cof main-CW308_EFM32TG11B.cof main-CWLITEARM.cof main-CWLITEXMEGA.cof main-CWNANO.cof main-CW308_K82F.cof main-CW308_PSOC62.cof main-CW308_IMXRT1062.cof main-CW308_FE310.cof main-CW308_EFR32MG21A.cof main-CW308_EFM32GG11.cof main-CW308_STM32L5.cof main-CW308_NEORV32.cof main-CW308_SAM4S.cof main-CW305_IBEX.cof\n",
      "rm -f -- main-CW308_CC2538.elf main-CW301_AVR.elf main-CW303.elf main-CW304.elf main-CW308_MEGARF.elf main-CW308_SAM4L.elf main-CW308_STM32F0.elf main-CW308_STM32F1.elf main-CW308_STM32F2.elf main-CW308_STM32F3.elf main-CW308_STM32F4.elf main-CW308_K24F.elf main-CW308_NRF52.elf main-CW308_AURIX.elf main-CW308_SAML11.elf main-CW308_EFM32TG11B.elf main-CWLITEARM.elf main-CWLITEXMEGA.elf main-CWNANO.elf main-CW308_K82F.elf main-CW308_PSOC62.elf main-CW308_IMXRT1062.elf main-CW308_FE310.elf main-CW308_EFR32MG21A.elf main-CW308_EFM32GG11.elf main-CW308_STM32L5.elf main-CW308_NEORV32.elf main-CW308_SAM4S.elf main-CW305_IBEX.elf\n",
      "rm -f -- main-CW308_CC2538.map main-CW301_AVR.map main-CW303.map main-CW304.map main-CW308_MEGARF.map main-CW308_SAM4L.map main-CW308_STM32F0.map main-CW308_STM32F1.map main-CW308_STM32F2.map main-CW308_STM32F3.map main-CW308_STM32F4.map main-CW308_K24F.map main-CW308_NRF52.map main-CW308_AURIX.map main-CW308_SAML11.map main-CW308_EFM32TG11B.map main-CWLITEARM.map main-CWLITEXMEGA.map main-CWNANO.map main-CW308_K82F.map main-CW308_PSOC62.map main-CW308_IMXRT1062.map main-CW308_FE310.map main-CW308_EFR32MG21A.map main-CW308_EFM32GG11.map main-CW308_STM32L5.map main-CW308_NEORV32.map main-CW308_SAM4S.map main-CW305_IBEX.map\n",
      "rm -f -- main-CW308_CC2538.sym main-CW301_AVR.sym main-CW303.sym main-CW304.sym main-CW308_MEGARF.sym main-CW308_SAM4L.sym main-CW308_STM32F0.sym main-CW308_STM32F1.sym main-CW308_STM32F2.sym main-CW308_STM32F3.sym main-CW308_STM32F4.sym main-CW308_K24F.sym main-CW308_NRF52.sym main-CW308_AURIX.sym main-CW308_SAML11.sym main-CW308_EFM32TG11B.sym main-CWLITEARM.sym main-CWLITEXMEGA.sym main-CWNANO.sym main-CW308_K82F.sym main-CW308_PSOC62.sym main-CW308_IMXRT1062.sym main-CW308_FE310.sym main-CW308_EFR32MG21A.sym main-CW308_EFM32GG11.sym main-CW308_STM32L5.sym main-CW308_NEORV32.sym main-CW308_SAM4S.sym main-CW305_IBEX.sym\n",
      "rm -f -- main-CW308_CC2538.lss main-CW301_AVR.lss main-CW303.lss main-CW304.lss main-CW308_MEGARF.lss main-CW308_SAM4L.lss main-CW308_STM32F0.lss main-CW308_STM32F1.lss main-CW308_STM32F2.lss main-CW308_STM32F3.lss main-CW308_STM32F4.lss main-CW308_K24F.lss main-CW308_NRF52.lss main-CW308_AURIX.lss main-CW308_SAML11.lss main-CW308_EFM32TG11B.lss main-CWLITEARM.lss main-CWLITEXMEGA.lss main-CWNANO.lss main-CW308_K82F.lss main-CW308_PSOC62.lss main-CW308_IMXRT1062.lss main-CW308_FE310.lss main-CW308_EFR32MG21A.lss main-CW308_EFM32GG11.lss main-CW308_STM32L5.lss main-CW308_NEORV32.lss main-CW308_SAM4S.lss main-CW305_IBEX.lss\n",
      "rm -f -- objdir/*.o\n",
      "rm -f -- objdir/*.lst\n",
      "rm -rf objdir\n",
      "rm -f -- main.s csidh.s fp.s mont.s randombytes.s uint.s parametrization.s simpleserial.s\n",
      "rm -f -- main.d csidh.d fp.d mont.d randombytes.d uint.d parametrization.d simpleserial.d\n",
      "rm -f -- main.i csidh.i fp.i mont.i randombytes.i uint.i parametrization.i simpleserial.i\n",
      "rm -rf .dep\n",
      "+--------------------------------------------------------\n",
      "+ Built for platform Unknown Platform\n",
      "+--------------------------------------------------------\n",
      "SS_VER set to SS_VER_2_1\n",
      "rm -f -- main-CW308_STM32F3.hex\n",
      "rm -f -- main-CW308_STM32F3.eep\n",
      "rm -f -- main-CW308_STM32F3.cof\n",
      "rm -f -- main-CW308_STM32F3.elf\n",
      "rm -f -- main-CW308_STM32F3.map\n",
      "rm -f -- main-CW308_STM32F3.sym\n",
      "rm -f -- main-CW308_STM32F3.lss\n",
      "rm -f -- objdir/*.o\n",
      "rm -f -- objdir/*.lst\n",
      "rm -f -- main.s csidh.s fp.s mont.s randombytes.s uint.s parametrization.s simpleserial.s stm32f3_hal.s stm32f3_hal_lowlevel.s stm32f3_sysmem.s\n",
      "rm -f -- main.d csidh.d fp.d mont.d randombytes.d uint.d parametrization.d simpleserial.d stm32f3_hal.d stm32f3_hal_lowlevel.d stm32f3_sysmem.d\n",
      "rm -f -- main.i csidh.i fp.i mont.i randombytes.i uint.i parametrization.i simpleserial.i stm32f3_hal.i stm32f3_hal_lowlevel.i stm32f3_sysmem.i\n",
      "mkdir objdir \n",
      "mkdir .dep\n",
      ".\n",
      "-------- begin --------\n",
      "arm-none-eabi-gcc (GNU Arm Embedded Toolchain 9-2020-q2-update) 9.3.1 20200408 (release)\n",
      "Copyright (C) 2019 Free Software Foundation, Inc.\n",
      "This is free software; see the source for copying conditions.  There is NO\n",
      "warranty; not even for MERCHANTABILITY or FITNESS FOR A PARTICULAR PURPOSE.\n",
      "\n",
      ".\n",
      "Compiling C: main.c\n",
      "arm-none-eabi-gcc -c -mcpu=cortex-m4 -I. -DTRACE -DA1 -DF419 -DHAL -mthumb -mfloat-abi=soft -fmessage-length=0 -ffunction-sections -gdwarf-2 -DSS_VER=SS_VER_2_1 -DSTM32F303xC -DSTM32F3 -DSTM32 -DDEBUG -DHAL_TYPE=HAL_stm32f3 -DPLATFORM=CW308_STM32F3 -DF_CPU=7372800UL -Os -funsigned-char -funsigned-bitfields -fshort-enums -Wall -Wstrict-prototypes -Wa,-adhlns=objdir/main.lst -I./simpleserial/ -I./hal -I./hal/stm32f3 -I./hal/stm32f3/CMSIS -I./hal/stm32f3/CMSIS/core -I./hal/stm32f3/CMSIS/device -I./hal/stm32f4/Legacy -std=gnu99 -MMD -MP -MF .dep/main.o.d main.c -o objdir/main.o \n",
      ".\n",
      "Compiling C: csidh.c\n",
      "arm-none-eabi-gcc -c -mcpu=cortex-m4 -I. -DTRACE -DA1 -DF419 -DHAL -mthumb -mfloat-abi=soft -fmessage-length=0 -ffunction-sections -gdwarf-2 -DSS_VER=SS_VER_2_1 -DSTM32F303xC -DSTM32F3 -DSTM32 -DDEBUG -DHAL_TYPE=HAL_stm32f3 -DPLATFORM=CW308_STM32F3 -DF_CPU=7372800UL -Os -funsigned-char -funsigned-bitfields -fshort-enums -Wall -Wstrict-prototypes -Wa,-adhlns=objdir/csidh.lst -I./simpleserial/ -I./hal -I./hal/stm32f3 -I./hal/stm32f3/CMSIS -I./hal/stm32f3/CMSIS/core -I./hal/stm32f3/CMSIS/device -I./hal/stm32f4/Legacy -std=gnu99 -MMD -MP -MF .dep/csidh.o.d csidh.c -o objdir/csidh.o \n",
      ".\n",
      "Compiling C: fp.c\n",
      "arm-none-eabi-gcc -c -mcpu=cortex-m4 -I. -DTRACE -DA1 -DF419 -DHAL -mthumb -mfloat-abi=soft -fmessage-length=0 -ffunction-sections -gdwarf-2 -DSS_VER=SS_VER_2_1 -DSTM32F303xC -DSTM32F3 -DSTM32 -DDEBUG -DHAL_TYPE=HAL_stm32f3 -DPLATFORM=CW308_STM32F3 -DF_CPU=7372800UL -Os -funsigned-char -funsigned-bitfields -fshort-enums -Wall -Wstrict-prototypes -Wa,-adhlns=objdir/fp.lst -I./simpleserial/ -I./hal -I./hal/stm32f3 -I./hal/stm32f3/CMSIS -I./hal/stm32f3/CMSIS/core -I./hal/stm32f3/CMSIS/device -I./hal/stm32f4/Legacy -std=gnu99 -MMD -MP -MF .dep/fp.o.d fp.c -o objdir/fp.o \n",
      ".\n",
      "Compiling C: mont.c\n",
      "arm-none-eabi-gcc -c -mcpu=cortex-m4 -I. -DTRACE -DA1 -DF419 -DHAL -mthumb -mfloat-abi=soft -fmessage-length=0 -ffunction-sections -gdwarf-2 -DSS_VER=SS_VER_2_1 -DSTM32F303xC -DSTM32F3 -DSTM32 -DDEBUG -DHAL_TYPE=HAL_stm32f3 -DPLATFORM=CW308_STM32F3 -DF_CPU=7372800UL -Os -funsigned-char -funsigned-bitfields -fshort-enums -Wall -Wstrict-prototypes -Wa,-adhlns=objdir/mont.lst -I./simpleserial/ -I./hal -I./hal/stm32f3 -I./hal/stm32f3/CMSIS -I./hal/stm32f3/CMSIS/core -I./hal/stm32f3/CMSIS/device -I./hal/stm32f4/Legacy -std=gnu99 -MMD -MP -MF .dep/mont.o.d mont.c -o objdir/mont.o \n"
     ]
    },
    {
     "name": "stderr",
     "output_type": "stream",
     "text": [
      "main.c: In function 'run_csidh':\n",
      "main.c:57:13: warning: unused variable 'error' [-Wunused-variable]\n",
      "   57 |     uint8_t error = csidh(&result, &pk, &sk, num_batches, max_exponent, num_isogenies, my);\n",
      "      |             ^~~~~\n",
      "main.c:60:1: warning: control reaches end of non-void function [-Wreturn-type]\n",
      "   60 | }\n",
      "      | ^\n"
     ]
    },
    {
     "name": "stdout",
     "output_type": "stream",
     "text": [
      ".\n",
      "Compiling C: randombytes.c\n",
      "arm-none-eabi-gcc -c -mcpu=cortex-m4 -I. -DTRACE -DA1 -DF419 -DHAL -mthumb -mfloat-abi=soft -fmessage-length=0 -ffunction-sections -gdwarf-2 -DSS_VER=SS_VER_2_1 -DSTM32F303xC -DSTM32F3 -DSTM32 -DDEBUG -DHAL_TYPE=HAL_stm32f3 -DPLATFORM=CW308_STM32F3 -DF_CPU=7372800UL -Os -funsigned-char -funsigned-bitfields -fshort-enums -Wall -Wstrict-prototypes -Wa,-adhlns=objdir/randombytes.lst -I./simpleserial/ -I./hal -I./hal/stm32f3 -I./hal/stm32f3/CMSIS -I./hal/stm32f3/CMSIS/core -I./hal/stm32f3/CMSIS/device -I./hal/stm32f4/Legacy -std=gnu99 -MMD -MP -MF .dep/randombytes.o.d randombytes.c -o objdir/randombytes.o \n",
      ".\n",
      "Compiling C: uint.c\n",
      "arm-none-eabi-gcc -c -mcpu=cortex-m4 -I. -DTRACE -DA1 -DF419 -DHAL -mthumb -mfloat-abi=soft -fmessage-length=0 -ffunction-sections -gdwarf-2 -DSS_VER=SS_VER_2_1 -DSTM32F303xC -DSTM32F3 -DSTM32 -DDEBUG -DHAL_TYPE=HAL_stm32f3 -DPLATFORM=CW308_STM32F3 -DF_CPU=7372800UL -Os -funsigned-char -funsigned-bitfields -fshort-enums -Wall -Wstrict-prototypes -Wa,-adhlns=objdir/uint.lst -I./simpleserial/ -I./hal -I./hal/stm32f3 -I./hal/stm32f3/CMSIS -I./hal/stm32f3/CMSIS/core -I./hal/stm32f3/CMSIS/device -I./hal/stm32f4/Legacy -std=gnu99 -MMD -MP -MF .dep/uint.o.d uint.c -o objdir/uint.o \n",
      ".\n",
      "Compiling C: parametrization.c\n",
      "arm-none-eabi-gcc -c -mcpu=cortex-m4 -I. -DTRACE -DA1 -DF419 -DHAL -mthumb -mfloat-abi=soft -fmessage-length=0 -ffunction-sections -gdwarf-2 -DSS_VER=SS_VER_2_1 -DSTM32F303xC -DSTM32F3 -DSTM32 -DDEBUG -DHAL_TYPE=HAL_stm32f3 -DPLATFORM=CW308_STM32F3 -DF_CPU=7372800UL -Os -funsigned-char -funsigned-bitfields -fshort-enums -Wall -Wstrict-prototypes -Wa,-adhlns=objdir/parametrization.lst -I./simpleserial/ -I./hal -I./hal/stm32f3 -I./hal/stm32f3/CMSIS -I./hal/stm32f3/CMSIS/core -I./hal/stm32f3/CMSIS/device -I./hal/stm32f4/Legacy -std=gnu99 -MMD -MP -MF .dep/parametrization.o.d parametrization.c -o objdir/parametrization.o \n",
      ".\n",
      "Compiling C: ./simpleserial/simpleserial.c\n",
      "arm-none-eabi-gcc -c -mcpu=cortex-m4 -I. -DTRACE -DA1 -DF419 -DHAL -mthumb -mfloat-abi=soft -fmessage-length=0 -ffunction-sections -gdwarf-2 -DSS_VER=SS_VER_2_1 -DSTM32F303xC -DSTM32F3 -DSTM32 -DDEBUG -DHAL_TYPE=HAL_stm32f3 -DPLATFORM=CW308_STM32F3 -DF_CPU=7372800UL -Os -funsigned-char -funsigned-bitfields -fshort-enums -Wall -Wstrict-prototypes -Wa,-adhlns=objdir/simpleserial.lst -I./simpleserial/ -I./hal -I./hal/stm32f3 -I./hal/stm32f3/CMSIS -I./hal/stm32f3/CMSIS/core -I./hal/stm32f3/CMSIS/device -I./hal/stm32f4/Legacy -std=gnu99 -MMD -MP -MF .dep/simpleserial.o.d ./simpleserial/simpleserial.c -o objdir/simpleserial.o \n",
      ".\n",
      "Compiling C: ./hal/stm32f3/stm32f3_hal.c\n",
      "arm-none-eabi-gcc -c -mcpu=cortex-m4 -I. -DTRACE -DA1 -DF419 -DHAL -mthumb -mfloat-abi=soft -fmessage-length=0 -ffunction-sections -gdwarf-2 -DSS_VER=SS_VER_2_1 -DSTM32F303xC -DSTM32F3 -DSTM32 -DDEBUG -DHAL_TYPE=HAL_stm32f3 -DPLATFORM=CW308_STM32F3 -DF_CPU=7372800UL -Os -funsigned-char -funsigned-bitfields -fshort-enums -Wall -Wstrict-prototypes -Wa,-adhlns=objdir/stm32f3_hal.lst -I./simpleserial/ -I./hal -I./hal/stm32f3 -I./hal/stm32f3/CMSIS -I./hal/stm32f3/CMSIS/core -I./hal/stm32f3/CMSIS/device -I./hal/stm32f4/Legacy -std=gnu99 -MMD -MP -MF .dep/stm32f3_hal.o.d ./hal/stm32f3/stm32f3_hal.c -o objdir/stm32f3_hal.o \n",
      ".\n",
      "Compiling C: ./hal/stm32f3/stm32f3_hal_lowlevel.c\n",
      "arm-none-eabi-gcc -c -mcpu=cortex-m4 -I. -DTRACE -DA1 -DF419 -DHAL -mthumb -mfloat-abi=soft -fmessage-length=0 -ffunction-sections -gdwarf-2 -DSS_VER=SS_VER_2_1 -DSTM32F303xC -DSTM32F3 -DSTM32 -DDEBUG -DHAL_TYPE=HAL_stm32f3 -DPLATFORM=CW308_STM32F3 -DF_CPU=7372800UL -Os -funsigned-char -funsigned-bitfields -fshort-enums -Wall -Wstrict-prototypes -Wa,-adhlns=objdir/stm32f3_hal_lowlevel.lst -I./simpleserial/ -I./hal -I./hal/stm32f3 -I./hal/stm32f3/CMSIS -I./hal/stm32f3/CMSIS/core -I./hal/stm32f3/CMSIS/device -I./hal/stm32f4/Legacy -std=gnu99 -MMD -MP -MF .dep/stm32f3_hal_lowlevel.o.d ./hal/stm32f3/stm32f3_hal_lowlevel.c -o objdir/stm32f3_hal_lowlevel.o \n",
      ".\n",
      "Compiling C: ./hal/stm32f3/stm32f3_sysmem.c\n",
      "arm-none-eabi-gcc -c -mcpu=cortex-m4 -I. -DTRACE -DA1 -DF419 -DHAL -mthumb -mfloat-abi=soft -fmessage-length=0 -ffunction-sections -gdwarf-2 -DSS_VER=SS_VER_2_1 -DSTM32F303xC -DSTM32F3 -DSTM32 -DDEBUG -DHAL_TYPE=HAL_stm32f3 -DPLATFORM=CW308_STM32F3 -DF_CPU=7372800UL -Os -funsigned-char -funsigned-bitfields -fshort-enums -Wall -Wstrict-prototypes -Wa,-adhlns=objdir/stm32f3_sysmem.lst -I./simpleserial/ -I./hal -I./hal/stm32f3 -I./hal/stm32f3/CMSIS -I./hal/stm32f3/CMSIS/core -I./hal/stm32f3/CMSIS/device -I./hal/stm32f4/Legacy -std=gnu99 -MMD -MP -MF .dep/stm32f3_sysmem.o.d ./hal/stm32f3/stm32f3_sysmem.c -o objdir/stm32f3_sysmem.o \n",
      ".\n",
      "Assembling: ./hal/stm32f3/stm32f3_startup.S\n",
      "arm-none-eabi-gcc -c -mcpu=cortex-m4 -I. -x assembler-with-cpp -mthumb -mfloat-abi=soft -fmessage-length=0 -ffunction-sections -DF_CPU=7372800 -Wa,-gstabs,-adhlns=objdir/stm32f3_startup.lst -I./simpleserial/ -I./hal -I./hal/stm32f3 -I./hal/stm32f3/CMSIS -I./hal/stm32f3/CMSIS/core -I./hal/stm32f3/CMSIS/device -I./hal/stm32f4/Legacy ./hal/stm32f3/stm32f3_startup.S -o objdir/stm32f3_startup.o\n",
      ".\n",
      "Linking: main-CW308_STM32F3.elf\n",
      "arm-none-eabi-gcc -mcpu=cortex-m4 -I. -DTRACE -DA1 -DF419 -DHAL -mthumb -mfloat-abi=soft -fmessage-length=0 -ffunction-sections -gdwarf-2 -DSS_VER=SS_VER_2_1 -DSTM32F303xC -DSTM32F3 -DSTM32 -DDEBUG -DHAL_TYPE=HAL_stm32f3 -DPLATFORM=CW308_STM32F3 -DF_CPU=7372800UL -Os -funsigned-char -funsigned-bitfields -fshort-enums -Wall -Wstrict-prototypes -Wa,-adhlns=objdir/main.o -I./simpleserial/ -I./hal -I./hal/stm32f3 -I./hal/stm32f3/CMSIS -I./hal/stm32f3/CMSIS/core -I./hal/stm32f3/CMSIS/device -I./hal/stm32f4/Legacy -std=gnu99 -MMD -MP -MF .dep/main-CW308_STM32F3.elf.d objdir/main.o objdir/csidh.o objdir/fp.o objdir/mont.o objdir/randombytes.o objdir/uint.o objdir/parametrization.o objdir/simpleserial.o objdir/stm32f3_hal.o objdir/stm32f3_hal_lowlevel.o objdir/stm32f3_sysmem.o objdir/stm32f3_startup.o --output main-CW308_STM32F3.elf --specs=nano.specs --specs=nosys.specs -T ./hal/stm32f3/LinkerScript.ld -Wl,--gc-sections -lm -Wl,-Map=main-CW308_STM32F3.map,--cref   -lm  \n",
      ".\n",
      "Creating load file for Flash: main-CW308_STM32F3.hex\n",
      "arm-none-eabi-objcopy -O ihex -R .eeprom -R .fuse -R .lock -R .signature main-CW308_STM32F3.elf main-CW308_STM32F3.hex\n",
      ".\n",
      "Creating load file for EEPROM: main-CW308_STM32F3.eep\n",
      "arm-none-eabi-objcopy -j .eeprom --set-section-flags=.eeprom=\"alloc,load\" \\\n",
      "--change-section-lma .eeprom=0 --no-change-warnings -O ihex main-CW308_STM32F3.elf main-CW308_STM32F3.eep || exit 0\n",
      ".\n",
      "Creating Extended Listing: main-CW308_STM32F3.lss\n",
      "arm-none-eabi-objdump -h -S -z main-CW308_STM32F3.elf > main-CW308_STM32F3.lss\n",
      ".\n",
      "Creating Symbol Table: main-CW308_STM32F3.sym\n",
      "arm-none-eabi-nm -n main-CW308_STM32F3.elf > main-CW308_STM32F3.sym\n",
      "Size after:\n",
      "   text\t   data\t    bss\t    dec\t    hex\tfilename\n",
      "  15572\t    120\t   1512\t  17204\t   4334\tmain-CW308_STM32F3.elf\n",
      "+--------------------------------------------------------\n",
      "+ Built for platform CW308T: STM32F3 Target\n",
      "+--------------------------------------------------------\n",
      "Detected known STMF32: STM32F302xB(C)/303xB(C)\n",
      "Extended erase (0x44), this can take ten seconds or more\n",
      "Attempting to program 15699 bytes at 0x8000000\n",
      "STM32F Programming flash...\n",
      "STM32F Reading flash...\n",
      "Verified flash OK, 15699 bytes\n",
      "################################################################################\n",
      "First run of CSIDH\n",
      "################################################################################\n",
      "PUBLIC: 0\n",
      "TRIGS:  3820624\n",
      "################################################################################\n"
     ]
    }
   ],
   "source": [
    "%cd $PATH/scripts\n",
    "%run ./init.ipynb"
   ]
  },
  {
   "cell_type": "code",
   "execution_count": 10,
   "id": "c66d11c4-bdc9-4641-a513-c58b00db6461",
   "metadata": {},
   "outputs": [
    {
     "data": {
      "text/plain": [
       "(0, 30564992)"
      ]
     },
     "execution_count": 10,
     "metadata": {},
     "output_type": "execute_result"
    }
   ],
   "source": [
    "csidh.reset_target()\n",
    "csidh.scope.arm()\n",
    "csidh.action()"
   ]
  },
  {
   "cell_type": "code",
   "execution_count": null,
   "id": "116520bf-f6de-45b3-b1b7-5aa1f41a1d52",
   "metadata": {},
   "outputs": [],
   "source": [
    "isogeny_offsets = [\n",
    "    (5, 118555, 139478),\n",
    "    (7, 161541, 175472),\n",
    "    (5, 312859, 333855), \n",
    "    (3, 462833, 478086),\n",
    "    (5, 508058, 529109),\n",
    "    (7, 551170, 565075),\n",
    "    (3, 672017, 687331)\n",
    "]"
   ]
  },
  {
   "cell_type": "code",
   "execution_count": null,
   "id": "53ea107e-95d5-4298-aa85-79ee2e0e5e23",
   "metadata": {},
   "outputs": [],
   "source": [
    "#csidh.voltage_glitching_setup()\n",
    "csidh.scope.cglitch_setup()"
   ]
  },
  {
   "cell_type": "code",
   "execution_count": null,
   "id": "663c5082-4fcd-4409-8ca2-63b289cbe812",
   "metadata": {},
   "outputs": [],
   "source": [
    "csidh.scope.adc.timeout = 0.5"
   ]
  },
  {
   "cell_type": "code",
   "execution_count": null,
   "id": "47c7ec82-3a79-4851-8b6e-c531ba3c6187",
   "metadata": {},
   "outputs": [],
   "source": [
    "husky = [\n",
    "    \"./husky-clock-xISOG-first-5-isogeny-skip-parameter-search.json\"\n",
    "]\n",
    "\n",
    "df = read_cachefiles_to_dataframe(husky)\n",
    "df = df[(df[\"type\"] == \"RESET\") | (df[\"type\"] == \"JUSTRIGHT\")]\n",
    "candidates = df[((df[\"width\"] < 750) & (df[\"offset\"] < 1000)) | ((df[\"width\"] < 750) & (df[\"offset\"] > 3500))] \n",
    "candidates"
   ]
  },
  {
   "cell_type": "code",
   "execution_count": null,
   "id": "da2b078a-477c-4faa-aa2d-80463b4a0398",
   "metadata": {},
   "outputs": [],
   "source": [
    "candidates = list(set(candidates[\"unit\"]))"
   ]
  },
  {
   "cell_type": "code",
   "execution_count": null,
   "id": "d4d1a905-574d-487d-bd1e-343e8c25ccdd",
   "metadata": {},
   "outputs": [],
   "source": [
    "# potential = [\n",
    "#     \"./husky-clock-xISOG-first-5-isogeny-skip-search-until7.json\"\n",
    "# ]\n",
    "\n",
    "# df = read_cachefiles_to_dataframe(potential)\n",
    "# df = df[(df[\"type\"] == \"JUSTRIGHT\")].reset_index()\n",
    "# indices = [i  for i,x in enumerate(df[\"responses\"]) if 199 in x]\n",
    "# potential_skips = df.iloc[indices]\n",
    "# batch = list(set(potential_skips[\"unit\"]))\n",
    "# batch.sort(key=lambda unit: -unit.ext_offset)\n",
    "# batch\n",
    "# cache = OrderedDict()\n",
    "# uut = batch[-1]\n",
    "# uut.offset = 2706\n",
    "# uut.width = 2600\n",
    "# uut.repeat = 4\n",
    "# evaluate_batch(csidh, [uut])\n",
    "# write_cache_to_file(f\"first-5-isogeny-potential-skips.json\", cache, 1, len(cache), -1)   "
   ]
  },
  {
   "cell_type": "code",
   "execution_count": null,
   "id": "4a54c783-c2d9-454b-96f7-b176a4528493",
   "metadata": {},
   "outputs": [],
   "source": [
    "# cache = OrderedDict()\n",
    "# REPEATS = 20000\n",
    "# cache_interval = 2\n",
    "# for _ in tqdm(range(REPEATS//cache_interval)):\n",
    "#     batch = []\n",
    "#     for _ in range(cache_interval):\n",
    "#         i = random.randint(0, len(candidates)-1)\n",
    "#         base_unit = candidates[i]\n",
    "#         for j in range(len(isogeny_offsets)):\n",
    "#             if j == 0:\n",
    "#                 eof_min = 0\n",
    "#                 eof_max = isogeny_offsets[0][1]\n",
    "#             else:\n",
    "#                 eof_min = isogeny_offsets[j-1][2]\n",
    "#                 eof_max = isogeny_offsets[j][1]\n",
    "#             unit = Unit(repr=repr(base_unit))\n",
    "#             unit.ext_offset = random.randint(eof_min, eof_max)\n",
    "#             print(unit)\n",
    "#             batch.append(unit)\n",
    "\n",
    "#     evaluate_batch(csidh, batch)\n",
    "#     write_cache_to_file(f\"husky-clock-ISOGENY-SKIP-SEARCH.json\", cache, 1, len(cache), -1)   "
   ]
  },
  {
   "cell_type": "code",
   "execution_count": null,
   "id": "a5e7c14e-2c8b-4d64-a05a-ff344adcaa01",
   "metadata": {},
   "outputs": [],
   "source": [
    "# cache = OrderedDict()\n",
    "\n",
    "# REPEATS = 17500\n",
    "# cache_interval = 10\n",
    "# for _ in tqdm(range(REPEATS//cache_interval)):\n",
    "#     batch = []\n",
    "#     for _ in range(cache_interval):\n",
    "#         # width = random.randint(2650, 2750)\n",
    "#         # offset = random.randint(2560, 2610)\n",
    "#         # repeat = random.randint(4, 5)\n",
    "#         width = random.randint(0, csidh.scope.glitch.phase_shift_steps//2)\n",
    "#         offset = random.randint(0, csidh.scope.glitch.phase_shift_steps)\n",
    "#         repeat = random.randint(1, 18)\n",
    "        \n",
    "#         ext_offset = random.randint((474252//4 )+2000, (474252//4 ) + 3200)\n",
    "    \n",
    "#         unit = Unit(repr=f\"{ext_offset},{offset},{width},{repeat},None,0\")\n",
    "#         batch.append(unit)\n",
    "\n",
    "#     evaluate_batch(csidh, batch)\n",
    "#     write_cache_to_file(f\"husky-clock-xISOG-first-5-isogeny-skip-parameter-search.json\", cache, 1, len(cache), -1)   "
   ]
  },
  {
   "cell_type": "code",
   "execution_count": null,
   "id": "fe6c08a2-6848-4d1b-a47c-0464b7001472",
   "metadata": {},
   "outputs": [],
   "source": []
  }
 ],
 "metadata": {
  "kernelspec": {
   "display_name": "Python 3 (ipykernel)",
   "language": "python",
   "name": "python3"
  },
  "language_info": {
   "codemirror_mode": {
    "name": "ipython",
    "version": 3
   },
   "file_extension": ".py",
   "mimetype": "text/x-python",
   "name": "python",
   "nbconvert_exporter": "python",
   "pygments_lexer": "ipython3",
   "version": "3.11.6"
  }
 },
 "nbformat": 4,
 "nbformat_minor": 5
}
