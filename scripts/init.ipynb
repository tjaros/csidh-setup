{
 "cells": [
  {
   "cell_type": "code",
   "execution_count": null,
   "id": "79386746-98ff-4f08-b180-99c1885a1620",
   "metadata": {},
   "outputs": [],
   "source": [
    "from csidh import CSIDHCW\n",
    "import chipwhisperer as cw\n",
    "from tqdm import tqdm, trange\n",
    "import random"
   ]
  },
  {
   "cell_type": "code",
   "execution_count": null,
   "id": "36dccd9c-7437-4e7a-9da3-85c5e713cf78",
   "metadata": {},
   "outputs": [],
   "source": [
    "if 'csidh' in globals() or 'csidh' in locals():\n",
    "    csidh.reset_target()\n",
    "    csidh.dis()"
   ]
  },
  {
   "cell_type": "code",
   "execution_count": null,
   "id": "f2d77458-df1e-4f69-838d-9813f0f8a4ac",
   "metadata": {},
   "outputs": [],
   "source": [
    "csidh = CSIDHCW(PATH + '/csidh-target/src/', attack_type=attack_type)"
   ]
  },
  {
   "cell_type": "code",
   "execution_count": null,
   "id": "b7d3c981-a5de-4440-b380-ac1b9ba50a2c",
   "metadata": {},
   "outputs": [],
   "source": [
    "csidh.setup()"
   ]
  },
  {
   "cell_type": "code",
   "execution_count": null,
   "id": "8c95a5e0-58d1-4a20-8020-e7faa29dde9c",
   "metadata": {
    "scrolled": true
   },
   "outputs": [],
   "source": [
    "csidh.flash_target()\n",
    "csidh.reset_target()"
   ]
  },
  {
   "cell_type": "code",
   "execution_count": null,
   "id": "39148aa6-3cb5-4947-a533-2a8b1519f4f8",
   "metadata": {},
   "outputs": [],
   "source": [
    "csidh.reset_target()\n",
    "csidh.scope.arm()\n",
    "csidh.action()\n",
    "ret = csidh.scope.capture()\n",
    "if ret:\n",
    "    print(\"Timeout happened during acquisition\")\n",
    "PUBLIC_EXPECTED = csidh.public_with_errors\n",
    "MAX_EXT_OFFSET = csidh.scope.adc.trig_count"
   ]
  },
  {
   "cell_type": "code",
   "execution_count": null,
   "id": "c7deef74-379b-4058-a9d3-f3ed20f60725",
   "metadata": {},
   "outputs": [],
   "source": [
    "print(\"#\" * 80)\n",
    "print(\"First run of CSIDH\")\n",
    "print(\"#\" * 80)\n",
    "print(f\"PUBLIC: {PUBLIC_EXPECTED}\")\n",
    "print(f\"TRIGS:  {MAX_EXT_OFFSET}\")\n",
    "print(\"#\" * 80)"
   ]
  },
  {
   "cell_type": "code",
   "execution_count": null,
   "id": "ad5de1c6-dbfe-49b0-9454-0b28d4b49581",
   "metadata": {},
   "outputs": [],
   "source": [
    "from csidh.search import Unit, generate_population, write_cache_to_file\n",
    "from collections import OrderedDict\n",
    "import numpy as np\n",
    "cache = OrderedDict()\n",
    "\n",
    "\n",
    "def evaluate_unit(csidh, unit, num_measurements=1):\n",
    "    \"\"\"Evaluates a single unit\"\"\"\n",
    "    csidh.scope.glitch.num_glitches = 1\n",
    "    if csidh.scope._is_husky:\n",
    "        csidh.scope.glitch.width = int(unit.width)\n",
    "        csidh.scope.glitch.offset = int(unit.offset)\n",
    "        csidh.scope.glitch.repeat = int(unit.repeat)\n",
    "        csidh.scope.glitch.ext_offset = int(unit.ext_offset)\n",
    "    else:\n",
    "        csidh.scope.glitch.width = unit.width\n",
    "        csidh.scope.glitch.offset = unit.offset\n",
    "        csidh.scope.glitch.repeat = unit.repeat\n",
    "        csidh.scope.glitch.ext_offset = unit.ext_offset\n",
    "\n",
    "    # Perform the measurements\n",
    "    measurements = []\n",
    "    responses = []\n",
    "\n",
    "    for _ in range(num_measurements):\n",
    "        csidh.reset_target()\n",
    "        csidh.scope.glitch.state = None\n",
    "        csidh.scope.arm()\n",
    "        ret = csidh.action()\n",
    "        csidh.scope.io.vglitch_reset()\n",
    "        if ret:\n",
    "            logging.error(\"Timeout happened during acquisition\")\n",
    "\n",
    "\n",
    "        public_received = csidh.public_with_errors\n",
    "        if not isinstance(public_received, int):\n",
    "            measurements.append(\"RESET\")\n",
    "        elif public_received == PUBLIC_EXPECTED:\n",
    "            measurements.append(\"NORMAL\")\n",
    "        else:\n",
    "            measurements.append(\"JUSTRIGHT\")\n",
    "            responses.append(public_received)\n",
    "\n",
    "    unit.width = csidh.scope.glitch.width  # CW rounds the values\n",
    "    unit.offset = csidh.scope.glitch.offset\n",
    "    unit.repeat = csidh.scope.glitch.repeat\n",
    "    unit.measurements = measurements\n",
    "    unit.responses = responses\n",
    "    \n",
    "\n",
    "    # Classify\n",
    "    if not all(m == measurements[0] for m in measurements):\n",
    "        unit.type = \"CHANGING\"\n",
    "        N_normal = sum(1 for m in measurements if m == \"NORMAL\")\n",
    "        N_reset = sum(1 for m in measurements if m == \"RESET\")\n",
    "        N_justright = sum(1 for m in measurements if m == \"JUSTRIGHT\")\n",
    "        unit.fitness = 4 + 1.2 * N_justright + 0.2 * N_normal + 0.5 * N_reset\n",
    "    else:\n",
    "        if measurements[0] == \"NORMAL\":\n",
    "            unit.type = \"NORMAL\"\n",
    "            unit.fitness = 2\n",
    "        elif measurements[0] == \"RESET\":\n",
    "            unit.type = \"RESET\"\n",
    "            unit.fitness = 5\n",
    "        elif measurements[0] == \"JUSTRIGHT\":\n",
    "            unit.type = \"JUSTRIGHT\"\n",
    "            unit.fitness = 10\n",
    "    cache[unit] = unit.fitness\n",
    "\n",
    "def evaluate_batch(csidh, population, evaluate_unit=evaluate_unit):\n",
    "    uncached = [u for u in population if u not in cache]\n",
    "    if not uncached:\n",
    "        return [u.fitness for u in population]\n",
    "\n",
    "    to_visit = np.array(uncached)\n",
    "\n",
    "    for unit in population:\n",
    "        if unit in cache:\n",
    "            unit.fitness = cache[unit]\n",
    "\n",
    "    for unit in to_visit:\n",
    "        evaluate_unit(csidh, unit)\n",
    "\n",
    "    return [u.fitness for u in population]"
   ]
  },
  {
   "cell_type": "code",
   "execution_count": null,
   "id": "b0ed94b2-516a-49fc-a8b5-763bd20d5be9",
   "metadata": {},
   "outputs": [],
   "source": [
    "def generate_whole_population():\n",
    "    population = []\n",
    "    for offset in range(Unit.OFFSET_MIN, Unit.OFFSET_MAX+1):\n",
    "        for width in range(Unit.WIDTH_MIN, Unit.WIDTH_MAX+1):\n",
    "            for ext_offset in range(Unit.EXT_OFFSET_MIN, Unit.EXT_OFFSET_MAX+1):\n",
    "                for repeat in range(Unit.REPEAT_MIN, Unit.REPEAT_MAX+1, 1):\n",
    "                    unit = Unit(repr=f\"{ext_offset},{offset},{width},{repeat},None,0\")\n",
    "                    population.append(unit)\n",
    "    return population"
   ]
  }
 ],
 "metadata": {
  "kernelspec": {
   "display_name": "Python 3 (ipykernel)",
   "language": "python",
   "name": "python3"
  },
  "language_info": {
   "codemirror_mode": {
    "name": "ipython",
    "version": 3
   },
   "file_extension": ".py",
   "mimetype": "text/x-python",
   "name": "python",
   "nbconvert_exporter": "python",
   "pygments_lexer": "ipython3",
   "version": "3.11.6"
  }
 },
 "nbformat": 4,
 "nbformat_minor": 5
}
