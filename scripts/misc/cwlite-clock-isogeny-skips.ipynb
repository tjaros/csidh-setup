{
 "cells": [
  {
   "cell_type": "code",
   "execution_count": 1,
   "id": "750f1450-6e52-40dd-a19a-cbde554c8381",
   "metadata": {},
   "outputs": [],
   "source": [
    "SCOPETYPE = 'OPENADC'\n",
    "PLATFORM = 'CWLITEARM'\n",
    "SS_VER = 'SS_VER_2_1'\n",
    "PATH = \"/home/xjaros2/Documents/git/csidh-setup/csidh-target/src/\"\n",
    "attack_type = \"A2_CALL\""
   ]
  },
  {
   "cell_type": "code",
   "execution_count": 2,
   "id": "0fe5bf21-ef02-43ac-bcec-354d49d5a939",
   "metadata": {},
   "outputs": [],
   "source": [
    "from csidh import CSIDHCW\n",
    "import chipwhisperer as cw\n",
    "import random"
   ]
  },
  {
   "cell_type": "code",
   "execution_count": 3,
   "id": "1537814b-c681-4ed0-b35b-c714a5228506",
   "metadata": {},
   "outputs": [],
   "source": [
    "cw.set_all_log_levels(cw.logging.CRITICAL)"
   ]
  },
  {
   "cell_type": "code",
   "execution_count": 4,
   "id": "12bdeaa3-d9a1-4d09-98df-08b715c7163a",
   "metadata": {},
   "outputs": [
    {
     "name": "stdout",
     "output_type": "stream",
     "text": [
      "INFO: Found ChipWhisperer😍\n",
      "scope.gain.mode                          changed from low                       to high                     \n",
      "scope.gain.gain                          changed from 0                         to 30                       \n",
      "scope.gain.db                            changed from 5.5                       to 24.8359375               \n",
      "scope.adc.basic_mode                     changed from low                       to rising_edge              \n",
      "scope.adc.samples                        changed from 24400                     to 5000                     \n",
      "scope.adc.trig_count                     changed from 1733463352                to 1773396507               \n",
      "scope.clock.adc_src                      changed from clkgen_x1                 to clkgen_x4                \n",
      "scope.clock.adc_freq                     changed from 96000000                  to 5984607                  \n",
      "scope.clock.adc_rate                     changed from 96000000.0                to 5984607.0                \n",
      "scope.clock.clkgen_div                   changed from 1                         to 26                       \n",
      "scope.clock.clkgen_freq                  changed from 192000000.0               to 7384615.384615385        \n",
      "scope.io.tio1                            changed from serial_tx                 to serial_rx                \n",
      "scope.io.tio2                            changed from serial_rx                 to serial_tx                \n",
      "scope.io.hs2                             changed from None                      to clkgen                   \n"
     ]
    }
   ],
   "source": [
    "csidh = CSIDHCW(PATH, attack_type=attack_type, PLATFORM=PLATFORM)\n",
    "csidh.name = 'Lite'\n",
    "csidh.setup()"
   ]
  },
  {
   "cell_type": "code",
   "execution_count": 5,
   "id": "00b0d5ae-ed61-4b91-963f-90952792b523",
   "metadata": {},
   "outputs": [
    {
     "name": "stdout",
     "output_type": "stream",
     "text": [
      "SS_VER set to SS_VER_2_1\n",
      ".\n",
      "-------- begin --------\n",
      ".\n",
      "Cleaning project:\n",
      "rm -f -- main-CW308_CC2538.hex main-CW301_AVR.hex main-CW303.hex main-CW304.hex main-CW308_MEGARF.hex main-CW308_SAM4L.hex main-CW308_STM32F0.hex main-CW308_STM32F1.hex main-CW308_STM32F2.hex main-CW308_STM32F3.hex main-CW308_STM32F4.hex main-CW308_K24F.hex main-CW308_NRF52.hex main-CW308_AURIX.hex main-CW308_SAML11.hex main-CW308_EFM32TG11B.hex main-CWLITEARM.hex main-CWLITEXMEGA.hex main-CWNANO.hex main-CW308_K82F.hex main-CW308_PSOC62.hex main-CW308_IMXRT1062.hex main-CW308_FE310.hex main-CW308_EFR32MG21A.hex main-CW308_EFM32GG11.hex main-CW308_STM32L5.hex main-CW308_NEORV32.hex main-CW308_SAM4S.hex main-CW305_IBEX.hex\n",
      "rm -f -- main-CW308_CC2538.eep main-CW301_AVR.eep main-CW303.eep main-CW304.eep main-CW308_MEGARF.eep main-CW308_SAM4L.eep main-CW308_STM32F0.eep main-CW308_STM32F1.eep main-CW308_STM32F2.eep main-CW308_STM32F3.eep main-CW308_STM32F4.eep main-CW308_K24F.eep main-CW308_NRF52.eep main-CW308_AURIX.eep main-CW308_SAML11.eep main-CW308_EFM32TG11B.eep main-CWLITEARM.eep main-CWLITEXMEGA.eep main-CWNANO.eep main-CW308_K82F.eep main-CW308_PSOC62.eep main-CW308_IMXRT1062.eep main-CW308_FE310.eep main-CW308_EFR32MG21A.eep main-CW308_EFM32GG11.eep main-CW308_STM32L5.eep main-CW308_NEORV32.eep main-CW308_SAM4S.eep main-CW305_IBEX.eep\n",
      "rm -f -- main-CW308_CC2538.cof main-CW301_AVR.cof main-CW303.cof main-CW304.cof main-CW308_MEGARF.cof main-CW308_SAM4L.cof main-CW308_STM32F0.cof main-CW308_STM32F1.cof main-CW308_STM32F2.cof main-CW308_STM32F3.cof main-CW308_STM32F4.cof main-CW308_K24F.cof main-CW308_NRF52.cof main-CW308_AURIX.cof main-CW308_SAML11.cof main-CW308_EFM32TG11B.cof main-CWLITEARM.cof main-CWLITEXMEGA.cof main-CWNANO.cof main-CW308_K82F.cof main-CW308_PSOC62.cof main-CW308_IMXRT1062.cof main-CW308_FE310.cof main-CW308_EFR32MG21A.cof main-CW308_EFM32GG11.cof main-CW308_STM32L5.cof main-CW308_NEORV32.cof main-CW308_SAM4S.cof main-CW305_IBEX.cof\n",
      "rm -f -- main-CW308_CC2538.elf main-CW301_AVR.elf main-CW303.elf main-CW304.elf main-CW308_MEGARF.elf main-CW308_SAM4L.elf main-CW308_STM32F0.elf main-CW308_STM32F1.elf main-CW308_STM32F2.elf main-CW308_STM32F3.elf main-CW308_STM32F4.elf main-CW308_K24F.elf main-CW308_NRF52.elf main-CW308_AURIX.elf main-CW308_SAML11.elf main-CW308_EFM32TG11B.elf main-CWLITEARM.elf main-CWLITEXMEGA.elf main-CWNANO.elf main-CW308_K82F.elf main-CW308_PSOC62.elf main-CW308_IMXRT1062.elf main-CW308_FE310.elf main-CW308_EFR32MG21A.elf main-CW308_EFM32GG11.elf main-CW308_STM32L5.elf main-CW308_NEORV32.elf main-CW308_SAM4S.elf main-CW305_IBEX.elf\n",
      "rm -f -- main-CW308_CC2538.map main-CW301_AVR.map main-CW303.map main-CW304.map main-CW308_MEGARF.map main-CW308_SAM4L.map main-CW308_STM32F0.map main-CW308_STM32F1.map main-CW308_STM32F2.map main-CW308_STM32F3.map main-CW308_STM32F4.map main-CW308_K24F.map main-CW308_NRF52.map main-CW308_AURIX.map main-CW308_SAML11.map main-CW308_EFM32TG11B.map main-CWLITEARM.map main-CWLITEXMEGA.map main-CWNANO.map main-CW308_K82F.map main-CW308_PSOC62.map main-CW308_IMXRT1062.map main-CW308_FE310.map main-CW308_EFR32MG21A.map main-CW308_EFM32GG11.map main-CW308_STM32L5.map main-CW308_NEORV32.map main-CW308_SAM4S.map main-CW305_IBEX.map\n",
      "rm -f -- main-CW308_CC2538.sym main-CW301_AVR.sym main-CW303.sym main-CW304.sym main-CW308_MEGARF.sym main-CW308_SAM4L.sym main-CW308_STM32F0.sym main-CW308_STM32F1.sym main-CW308_STM32F2.sym main-CW308_STM32F3.sym main-CW308_STM32F4.sym main-CW308_K24F.sym main-CW308_NRF52.sym main-CW308_AURIX.sym main-CW308_SAML11.sym main-CW308_EFM32TG11B.sym main-CWLITEARM.sym main-CWLITEXMEGA.sym main-CWNANO.sym main-CW308_K82F.sym main-CW308_PSOC62.sym main-CW308_IMXRT1062.sym main-CW308_FE310.sym main-CW308_EFR32MG21A.sym main-CW308_EFM32GG11.sym main-CW308_STM32L5.sym main-CW308_NEORV32.sym main-CW308_SAM4S.sym main-CW305_IBEX.sym\n",
      "rm -f -- main-CW308_CC2538.lss main-CW301_AVR.lss main-CW303.lss main-CW304.lss main-CW308_MEGARF.lss main-CW308_SAM4L.lss main-CW308_STM32F0.lss main-CW308_STM32F1.lss main-CW308_STM32F2.lss main-CW308_STM32F3.lss main-CW308_STM32F4.lss main-CW308_K24F.lss main-CW308_NRF52.lss main-CW308_AURIX.lss main-CW308_SAML11.lss main-CW308_EFM32TG11B.lss main-CWLITEARM.lss main-CWLITEXMEGA.lss main-CWNANO.lss main-CW308_K82F.lss main-CW308_PSOC62.lss main-CW308_IMXRT1062.lss main-CW308_FE310.lss main-CW308_EFR32MG21A.lss main-CW308_EFM32GG11.lss main-CW308_STM32L5.lss main-CW308_NEORV32.lss main-CW308_SAM4S.lss main-CW305_IBEX.lss\n",
      "rm -f -- objdir/*.o\n",
      "rm -f -- objdir/*.lst\n",
      "rm -rf objdir\n",
      "rm -f -- main.s csidh.s fp.s mont.s randombytes.s uint.s parametrization.s simpleserial.s\n",
      "rm -f -- main.d csidh.d fp.d mont.d randombytes.d uint.d parametrization.d simpleserial.d\n",
      "rm -f -- main.i csidh.i fp.i mont.i randombytes.i uint.i parametrization.i simpleserial.i\n",
      "rm -rf .dep\n",
      "+--------------------------------------------------------\n",
      "+ Built for platform Unknown Platform\n",
      "+--------------------------------------------------------\n",
      "SS_VER set to SS_VER_2_1\n",
      "rm -f -- main-CWLITEARM.hex\n",
      "rm -f -- main-CWLITEARM.eep\n",
      "rm -f -- main-CWLITEARM.cof\n",
      "rm -f -- main-CWLITEARM.elf\n",
      "rm -f -- main-CWLITEARM.map\n",
      "rm -f -- main-CWLITEARM.sym\n",
      "rm -f -- main-CWLITEARM.lss\n",
      "rm -f -- objdir/*.o\n",
      "rm -f -- objdir/*.lst\n",
      "rm -f -- main.s csidh.s fp.s mont.s randombytes.s uint.s parametrization.s simpleserial.s stm32f3_hal.s stm32f3_hal_lowlevel.s stm32f3_sysmem.s\n",
      "rm -f -- main.d csidh.d fp.d mont.d randombytes.d uint.d parametrization.d simpleserial.d stm32f3_hal.d stm32f3_hal_lowlevel.d stm32f3_sysmem.d\n",
      "rm -f -- main.i csidh.i fp.i mont.i randombytes.i uint.i parametrization.i simpleserial.i stm32f3_hal.i stm32f3_hal_lowlevel.i stm32f3_sysmem.i\n",
      "mkdir objdir \n",
      "mkdir .dep\n",
      ".\n",
      "-------- begin --------\n",
      "arm-none-eabi-gcc (GNU Arm Embedded Toolchain 9-2020-q2-update) 9.3.1 20200408 (release)\n",
      "Copyright (C) 2019 Free Software Foundation, Inc.\n",
      "This is free software; see the source for copying conditions.  There is NO\n",
      "warranty; not even for MERCHANTABILITY or FITNESS FOR A PARTICULAR PURPOSE.\n",
      "\n",
      ".\n",
      "Compiling C: main.c\n",
      "arm-none-eabi-gcc -c -mcpu=cortex-m4 -I. -DTRACE -DA2_CALL -DF419 -DDETERMINISTIC -DHAL -mthumb -mfloat-abi=soft -fmessage-length=0 -ffunction-sections -gdwarf-2 -DSS_VER=SS_VER_2_1 -DSTM32F303xC -DSTM32F3 -DSTM32 -DDEBUG -DHAL_TYPE=HAL_stm32f3 -DPLATFORM=CWLITEARM -DF_CPU=7372800UL -Os -funsigned-char -funsigned-bitfields -fshort-enums -Wall -Wstrict-prototypes -Wa,-adhlns=objdir/main.lst -I./simpleserial/ -I./hal -I./hal/stm32f3 -I./hal/stm32f3/CMSIS -I./hal/stm32f3/CMSIS/core -I./hal/stm32f3/CMSIS/device -I./hal/stm32f4/Legacy -std=gnu99 -MMD -MP -MF .dep/main.o.d main.c -o objdir/main.o \n",
      ".\n",
      "Compiling C: csidh.c\n",
      "arm-none-eabi-gcc -c -mcpu=cortex-m4 -I. -DTRACE -DA2_CALL -DF419 -DDETERMINISTIC -DHAL -mthumb -mfloat-abi=soft -fmessage-length=0 -ffunction-sections -gdwarf-2 -DSS_VER=SS_VER_2_1 -DSTM32F303xC -DSTM32F3 -DSTM32 -DDEBUG -DHAL_TYPE=HAL_stm32f3 -DPLATFORM=CWLITEARM -DF_CPU=7372800UL -Os -funsigned-char -funsigned-bitfields -fshort-enums -Wall -Wstrict-prototypes -Wa,-adhlns=objdir/csidh.lst -I./simpleserial/ -I./hal -I./hal/stm32f3 -I./hal/stm32f3/CMSIS -I./hal/stm32f3/CMSIS/core -I./hal/stm32f3/CMSIS/device -I./hal/stm32f4/Legacy -std=gnu99 -MMD -MP -MF .dep/csidh.o.d csidh.c -o objdir/csidh.o \n",
      ".\n",
      "Compiling C: fp.c\n",
      "arm-none-eabi-gcc -c -mcpu=cortex-m4 -I. -DTRACE -DA2_CALL -DF419 -DDETERMINISTIC -DHAL -mthumb -mfloat-abi=soft -fmessage-length=0 -ffunction-sections -gdwarf-2 -DSS_VER=SS_VER_2_1 -DSTM32F303xC -DSTM32F3 -DSTM32 -DDEBUG -DHAL_TYPE=HAL_stm32f3 -DPLATFORM=CWLITEARM -DF_CPU=7372800UL -Os -funsigned-char -funsigned-bitfields -fshort-enums -Wall -Wstrict-prototypes -Wa,-adhlns=objdir/fp.lst -I./simpleserial/ -I./hal -I./hal/stm32f3 -I./hal/stm32f3/CMSIS -I./hal/stm32f3/CMSIS/core -I./hal/stm32f3/CMSIS/device -I./hal/stm32f4/Legacy -std=gnu99 -MMD -MP -MF .dep/fp.o.d fp.c -o objdir/fp.o \n",
      ".\n",
      "Compiling C: mont.c\n",
      "arm-none-eabi-gcc -c -mcpu=cortex-m4 -I. -DTRACE -DA2_CALL -DF419 -DDETERMINISTIC -DHAL -mthumb -mfloat-abi=soft -fmessage-length=0 -ffunction-sections -gdwarf-2 -DSS_VER=SS_VER_2_1 -DSTM32F303xC -DSTM32F3 -DSTM32 -DDEBUG -DHAL_TYPE=HAL_stm32f3 -DPLATFORM=CWLITEARM -DF_CPU=7372800UL -Os -funsigned-char -funsigned-bitfields -fshort-enums -Wall -Wstrict-prototypes -Wa,-adhlns=objdir/mont.lst -I./simpleserial/ -I./hal -I./hal/stm32f3 -I./hal/stm32f3/CMSIS -I./hal/stm32f3/CMSIS/core -I./hal/stm32f3/CMSIS/device -I./hal/stm32f4/Legacy -std=gnu99 -MMD -MP -MF .dep/mont.o.d mont.c -o objdir/mont.o \n",
      ".\n",
      "Compiling C: randombytes.c\n",
      "arm-none-eabi-gcc -c -mcpu=cortex-m4 -I. -DTRACE -DA2_CALL -DF419 -DDETERMINISTIC -DHAL -mthumb -mfloat-abi=soft -fmessage-length=0 -ffunction-sections -gdwarf-2 -DSS_VER=SS_VER_2_1 -DSTM32F303xC -DSTM32F3 -DSTM32 -DDEBUG -DHAL_TYPE=HAL_stm32f3 -DPLATFORM=CWLITEARM -DF_CPU=7372800UL -Os -funsigned-char -funsigned-bitfields -fshort-enums -Wall -Wstrict-prototypes -Wa,-adhlns=objdir/randombytes.lst -I./simpleserial/ -I./hal -I./hal/stm32f3 -I./hal/stm32f3/CMSIS -I./hal/stm32f3/CMSIS/core -I./hal/stm32f3/CMSIS/device -I./hal/stm32f4/Legacy -std=gnu99 -MMD -MP -MF .dep/randombytes.o.d randombytes.c -o objdir/randombytes.o \n",
      ".\n",
      "Compiling C: uint.c\n",
      "arm-none-eabi-gcc -c -mcpu=cortex-m4 -I. -DTRACE -DA2_CALL -DF419 -DDETERMINISTIC -DHAL -mthumb -mfloat-abi=soft -fmessage-length=0 -ffunction-sections -gdwarf-2 -DSS_VER=SS_VER_2_1 -DSTM32F303xC -DSTM32F3 -DSTM32 -DDEBUG -DHAL_TYPE=HAL_stm32f3 -DPLATFORM=CWLITEARM -DF_CPU=7372800UL -Os -funsigned-char -funsigned-bitfields -fshort-enums -Wall -Wstrict-prototypes -Wa,-adhlns=objdir/uint.lst -I./simpleserial/ -I./hal -I./hal/stm32f3 -I./hal/stm32f3/CMSIS -I./hal/stm32f3/CMSIS/core -I./hal/stm32f3/CMSIS/device -I./hal/stm32f4/Legacy -std=gnu99 -MMD -MP -MF .dep/uint.o.d uint.c -o objdir/uint.o \n",
      ".\n",
      "Compiling C: parametrization.c\n",
      "arm-none-eabi-gcc -c -mcpu=cortex-m4 -I. -DTRACE -DA2_CALL -DF419 -DDETERMINISTIC -DHAL -mthumb -mfloat-abi=soft -fmessage-length=0 -ffunction-sections -gdwarf-2 -DSS_VER=SS_VER_2_1 -DSTM32F303xC -DSTM32F3 -DSTM32 -DDEBUG -DHAL_TYPE=HAL_stm32f3 -DPLATFORM=CWLITEARM -DF_CPU=7372800UL -Os -funsigned-char -funsigned-bitfields -fshort-enums -Wall -Wstrict-prototypes -Wa,-adhlns=objdir/parametrization.lst -I./simpleserial/ -I./hal -I./hal/stm32f3 -I./hal/stm32f3/CMSIS -I./hal/stm32f3/CMSIS/core -I./hal/stm32f3/CMSIS/device -I./hal/stm32f4/Legacy -std=gnu99 -MMD -MP -MF .dep/parametrization.o.d parametrization.c -o objdir/parametrization.o \n",
      ".\n",
      "Compiling C: ./simpleserial/simpleserial.c\n",
      "arm-none-eabi-gcc -c -mcpu=cortex-m4 -I. -DTRACE -DA2_CALL -DF419 -DDETERMINISTIC -DHAL -mthumb -mfloat-abi=soft -fmessage-length=0 -ffunction-sections -gdwarf-2 -DSS_VER=SS_VER_2_1 -DSTM32F303xC -DSTM32F3 -DSTM32 -DDEBUG -DHAL_TYPE=HAL_stm32f3 -DPLATFORM=CWLITEARM -DF_CPU=7372800UL -Os -funsigned-char -funsigned-bitfields -fshort-enums -Wall -Wstrict-prototypes -Wa,-adhlns=objdir/simpleserial.lst -I./simpleserial/ -I./hal -I./hal/stm32f3 -I./hal/stm32f3/CMSIS -I./hal/stm32f3/CMSIS/core -I./hal/stm32f3/CMSIS/device -I./hal/stm32f4/Legacy -std=gnu99 -MMD -MP -MF .dep/simpleserial.o.d ./simpleserial/simpleserial.c -o objdir/simpleserial.o \n",
      ".\n",
      "Compiling C: ./hal/stm32f3/stm32f3_hal.c\n",
      "arm-none-eabi-gcc -c -mcpu=cortex-m4 -I. -DTRACE -DA2_CALL -DF419 -DDETERMINISTIC -DHAL -mthumb -mfloat-abi=soft -fmessage-length=0 -ffunction-sections -gdwarf-2 -DSS_VER=SS_VER_2_1 -DSTM32F303xC -DSTM32F3 -DSTM32 -DDEBUG -DHAL_TYPE=HAL_stm32f3 -DPLATFORM=CWLITEARM -DF_CPU=7372800UL -Os -funsigned-char -funsigned-bitfields -fshort-enums -Wall -Wstrict-prototypes -Wa,-adhlns=objdir/stm32f3_hal.lst -I./simpleserial/ -I./hal -I./hal/stm32f3 -I./hal/stm32f3/CMSIS -I./hal/stm32f3/CMSIS/core -I./hal/stm32f3/CMSIS/device -I./hal/stm32f4/Legacy -std=gnu99 -MMD -MP -MF .dep/stm32f3_hal.o.d ./hal/stm32f3/stm32f3_hal.c -o objdir/stm32f3_hal.o \n",
      ".\n",
      "Compiling C: ./hal/stm32f3/stm32f3_hal_lowlevel.c\n",
      "arm-none-eabi-gcc -c -mcpu=cortex-m4 -I. -DTRACE -DA2_CALL -DF419 -DDETERMINISTIC -DHAL -mthumb -mfloat-abi=soft -fmessage-length=0 -ffunction-sections -gdwarf-2 -DSS_VER=SS_VER_2_1 -DSTM32F303xC -DSTM32F3 -DSTM32 -DDEBUG -DHAL_TYPE=HAL_stm32f3 -DPLATFORM=CWLITEARM -DF_CPU=7372800UL -Os -funsigned-char -funsigned-bitfields -fshort-enums -Wall -Wstrict-prototypes -Wa,-adhlns=objdir/stm32f3_hal_lowlevel.lst -I./simpleserial/ -I./hal -I./hal/stm32f3 -I./hal/stm32f3/CMSIS -I./hal/stm32f3/CMSIS/core -I./hal/stm32f3/CMSIS/device -I./hal/stm32f4/Legacy -std=gnu99 -MMD -MP -MF .dep/stm32f3_hal_lowlevel.o.d ./hal/stm32f3/stm32f3_hal_lowlevel.c -o objdir/stm32f3_hal_lowlevel.o \n",
      ".\n",
      "Compiling C: ./hal/stm32f3/stm32f3_sysmem.c\n",
      "arm-none-eabi-gcc -c -mcpu=cortex-m4 -I. -DTRACE -DA2_CALL -DF419 -DDETERMINISTIC -DHAL -mthumb -mfloat-abi=soft -fmessage-length=0 -ffunction-sections -gdwarf-2 -DSS_VER=SS_VER_2_1 -DSTM32F303xC -DSTM32F3 -DSTM32 -DDEBUG -DHAL_TYPE=HAL_stm32f3 -DPLATFORM=CWLITEARM -DF_CPU=7372800UL -Os -funsigned-char -funsigned-bitfields -fshort-enums -Wall -Wstrict-prototypes -Wa,-adhlns=objdir/stm32f3_sysmem.lst -I./simpleserial/ -I./hal -I./hal/stm32f3 -I./hal/stm32f3/CMSIS -I./hal/stm32f3/CMSIS/core -I./hal/stm32f3/CMSIS/device -I./hal/stm32f4/Legacy -std=gnu99 -MMD -MP -MF .dep/stm32f3_sysmem.o.d ./hal/stm32f3/stm32f3_sysmem.c -o objdir/stm32f3_sysmem.o \n",
      ".\n",
      "Assembling: ./hal/stm32f3/stm32f3_startup.S\n",
      "arm-none-eabi-gcc -c -mcpu=cortex-m4 -I. -x assembler-with-cpp -mthumb -mfloat-abi=soft -fmessage-length=0 -ffunction-sections -DF_CPU=7372800 -Wa,-gstabs,-adhlns=objdir/stm32f3_startup.lst -I./simpleserial/ -I./hal -I./hal/stm32f3 -I./hal/stm32f3/CMSIS -I./hal/stm32f3/CMSIS/core -I./hal/stm32f3/CMSIS/device -I./hal/stm32f4/Legacy ./hal/stm32f3/stm32f3_startup.S -o objdir/stm32f3_startup.o\n",
      ".\n",
      "Linking: main-CWLITEARM.elf\n",
      "arm-none-eabi-gcc -mcpu=cortex-m4 -I. -DTRACE -DA2_CALL -DF419 -DDETERMINISTIC -DHAL -mthumb -mfloat-abi=soft -fmessage-length=0 -ffunction-sections -gdwarf-2 -DSS_VER=SS_VER_2_1 -DSTM32F303xC -DSTM32F3 -DSTM32 -DDEBUG -DHAL_TYPE=HAL_stm32f3 -DPLATFORM=CWLITEARM -DF_CPU=7372800UL -Os -funsigned-char -funsigned-bitfields -fshort-enums -Wall -Wstrict-prototypes -Wa,-adhlns=objdir/main.o -I./simpleserial/ -I./hal -I./hal/stm32f3 -I./hal/stm32f3/CMSIS -I./hal/stm32f3/CMSIS/core -I./hal/stm32f3/CMSIS/device -I./hal/stm32f4/Legacy -std=gnu99 -MMD -MP -MF .dep/main-CWLITEARM.elf.d objdir/main.o objdir/csidh.o objdir/fp.o objdir/mont.o objdir/randombytes.o objdir/uint.o objdir/parametrization.o objdir/simpleserial.o objdir/stm32f3_hal.o objdir/stm32f3_hal_lowlevel.o objdir/stm32f3_sysmem.o objdir/stm32f3_startup.o --output main-CWLITEARM.elf --specs=nano.specs --specs=nosys.specs -T ./hal/stm32f3/LinkerScript.ld -Wl,--gc-sections -lm -Wl,-Map=main-CWLITEARM.map,--cref   -lm  \n",
      ".\n",
      "Creating load file for Flash: main-CWLITEARM.hex\n",
      "arm-none-eabi-objcopy -O ihex -R .eeprom -R .fuse -R .lock -R .signature main-CWLITEARM.elf main-CWLITEARM.hex\n",
      ".\n",
      "Creating load file for EEPROM: main-CWLITEARM.eep\n",
      "arm-none-eabi-objcopy -j .eeprom --set-section-flags=.eeprom=\"alloc,load\" \\\n",
      "--change-section-lma .eeprom=0 --no-change-warnings -O ihex main-CWLITEARM.elf main-CWLITEARM.eep || exit 0\n",
      ".\n",
      "Creating Extended Listing: main-CWLITEARM.lss\n",
      "arm-none-eabi-objdump -h -S -z main-CWLITEARM.elf > main-CWLITEARM.lss\n",
      ".\n",
      "Creating Symbol Table: main-CWLITEARM.sym\n",
      "arm-none-eabi-nm -n main-CWLITEARM.elf > main-CWLITEARM.sym\n",
      "Size after:\n",
      "   text\t   data\t    bss\t    dec\t    hex\tfilename\n",
      "  14996\t    120\t   1432\t  16548\t   40a4\tmain-CWLITEARM.elf\n",
      "+--------------------------------------------------------\n",
      "+ Built for platform CW-Lite Arm (STM32F3)\n",
      "+--------------------------------------------------------\n",
      "Detected known STMF32: STM32F302xB(C)/303xB(C)\n",
      "Extended erase (0x44), this can take ten seconds or more\n",
      "Attempting to program 15123 bytes at 0x8000000\n",
      "STM32F Programming flash...\n",
      "STM32F Reading flash...\n",
      "Verified flash OK, 15123 bytes\n"
     ]
    }
   ],
   "source": [
    "csidh.flash_target()"
   ]
  },
  {
   "cell_type": "code",
   "execution_count": 6,
   "id": "827e1b57-a96a-4d9e-bfc4-a0b8523ae5f0",
   "metadata": {},
   "outputs": [
    {
     "name": "stdout",
     "output_type": "stream",
     "text": [
      "Public key: 0\n",
      "Max ext offset: 10058044\n"
     ]
    }
   ],
   "source": [
    "csidh.reset_target()\n",
    "csidh.scope.arm()\n",
    "csidh.action()\n",
    "ret = csidh.scope.capture()\n",
    "if ret:\n",
    "    print(\"Timeout happened during acquisition\")\n",
    "PUBLIC_EXPECTED = csidh.public_with_errors\n",
    "max_ext_offset = csidh.scope.adc.trig_count\n",
    "print(\"Public key:\", PUBLIC_EXPECTED)\n",
    "print(\"Max ext offset:\", max_ext_offset)"
   ]
  },
  {
   "cell_type": "code",
   "execution_count": null,
   "id": "f6055543-c172-4c4f-8aba-1778fc6dd6bd",
   "metadata": {},
   "outputs": [],
   "source": []
  },
  {
   "cell_type": "code",
   "execution_count": 7,
   "id": "a568c80c-0459-45a2-a02d-e08fc566fe78",
   "metadata": {},
   "outputs": [],
   "source": [
    "# csidh.setup_()"
   ]
  },
  {
   "cell_type": "code",
   "execution_count": 8,
   "id": "9dc600ad-46e5-4e27-9e2c-f5186f4013cf",
   "metadata": {},
   "outputs": [],
   "source": [
    "# # Glitch setup\n",
    "# csidh.scope.glitch.clk_src = \"clkgen\"\n",
    "# csidh.scope.glitch.output = \"clock_xor\"\n",
    "# csidh.scope.glitch.trigger_src = \"ext_single\"\n",
    "# csidh.scope.io.hs2 = \"glitch\"\n",
    "csidh.voltage_glitching_setup()"
   ]
  },
  {
   "cell_type": "code",
   "execution_count": 9,
   "id": "27519961-7af1-45c7-8884-a597b81b0355",
   "metadata": {},
   "outputs": [],
   "source": [
    "# Adc timeout\n",
    "csidh.scope.adc.timeout = 0.5"
   ]
  },
  {
   "cell_type": "code",
   "execution_count": 10,
   "id": "292cc867-0e70-4ae4-afb0-7073c7f1cd76",
   "metadata": {},
   "outputs": [],
   "source": [
    "from csidh.search import Unit, generate_population, write_cache_to_file\n",
    "from collections import OrderedDict\n",
    "import numpy as np\n",
    "from tqdm import tqdm\n",
    "\n",
    "cache = OrderedDict()\n",
    "\n",
    "\n",
    "def evaluate_unit(csidh, unit, num_measurements=1):\n",
    "    \"\"\"Evaluates a single unit\"\"\"\n",
    "    if csidh.scope._is_husky:\n",
    "        csidh.scope.glitch.num_glitches = 1\n",
    "        csidh.scope.glitch.width = int(unit.width)\n",
    "        csidh.scope.glitch.offset = int(unit.offset)\n",
    "        csidh.scope.glitch.repeat = int(unit.repeat)\n",
    "        csidh.scope.glitch.ext_offset = int(unit.ext_offset)\n",
    "    else:\n",
    "        csidh.scope.glitch.width = unit.width\n",
    "        csidh.scope.glitch.offset = unit.offset\n",
    "        csidh.scope.glitch.repeat = unit.repeat\n",
    "        csidh.scope.glitch.ext_offset = unit.ext_offset\n",
    "\n",
    "    # Perform the measurements\n",
    "    measurements = []\n",
    "    responses = []\n",
    "\n",
    "    for _ in range(num_measurements):\n",
    "        csidh.reset_target()\n",
    "        if csidh.scope._is_husky:\n",
    "            csidh.scope.glitch.state = None\n",
    "        csidh.scope.arm()\n",
    "        ret = csidh.action()\n",
    "        csidh.scope.io.vglitch_reset()\n",
    "        if ret:\n",
    "            logging.error(\"Timeout happened during acquisition\")\n",
    "\n",
    "\n",
    "        public_received = csidh.public_with_errors\n",
    "        if not isinstance(public_received, int):\n",
    "            measurements.append(\"RESET\")\n",
    "        elif public_received == PUBLIC_EXPECTED:\n",
    "            measurements.append(\"NORMAL\")\n",
    "        else:\n",
    "            measurements.append(\"JUSTRIGHT\")\n",
    "            responses.append(public_received)\n",
    "\n",
    "    unit.width = csidh.scope.glitch.width  # CW rounds the values\n",
    "    unit.offset = csidh.scope.glitch.offset\n",
    "    unit.repeat = csidh.scope.glitch.repeat\n",
    "    unit.measurements = measurements\n",
    "    unit.responses = responses\n",
    "    \n",
    "\n",
    "    # Classify\n",
    "    if not all(m == measurements[0] for m in measurements):\n",
    "        unit.type = \"CHANGING\"\n",
    "        N_normal = sum(1 for m in measurements if m == \"NORMAL\")\n",
    "        N_reset = sum(1 for m in measurements if m == \"RESET\")\n",
    "        N_justright = sum(1 for m in measurements if m == \"JUSTRIGHT\")\n",
    "        unit.fitness = 4 + 1.2 * N_justright + 0.2 * N_normal + 0.5 * N_reset\n",
    "    else:\n",
    "        if measurements[0] == \"NORMAL\":\n",
    "            unit.type = \"NORMAL\"\n",
    "            unit.fitness = 2\n",
    "        elif measurements[0] == \"RESET\":\n",
    "            unit.type = \"RESET\"\n",
    "            unit.fitness = 5\n",
    "        elif measurements[0] == \"JUSTRIGHT\":\n",
    "            unit.type = \"JUSTRIGHT\"\n",
    "            unit.fitness = 10\n",
    "    cache[unit] = unit.fitness\n",
    "    if unit.responses != []:\n",
    "        pass\n",
    "    print(unit)\n",
    "    print(unit.responses)\n",
    "\n",
    "\n",
    "def evaluate_batch(csidh, population):\n",
    "    uncached = [u for u in population if u not in cache]\n",
    "    if not uncached:\n",
    "        return [u.fitness for u in population]\n",
    "\n",
    "    to_visit = np.array(uncached)\n",
    "\n",
    "    for unit in population:\n",
    "        if unit in cache:\n",
    "            unit.fitness = cache[unit]\n",
    "\n",
    "    for unit in tqdm(to_visit):\n",
    "        evaluate_unit(csidh, unit)\n",
    "\n",
    "    return [u.fitness for u in population]"
   ]
  },
  {
   "cell_type": "code",
   "execution_count": 11,
   "id": "3307b62a-21eb-466b-a8ad-2ae280aab3b5",
   "metadata": {},
   "outputs": [],
   "source": [
    "def generate_whole_population():\n",
    "    population = []\n",
    "    for ext_offset in range(Unit.EXT_OFFSET_MIN, Unit.EXT_OFFSET_MAX+1, 1):\n",
    "        for repeat in range(Unit.REPEAT_MIN, Unit.REPEAT_MAX+1):\n",
    "            unit = Unit(repr=f\"{ext_offset},{Unit.OFFSET_MIN},{Unit.WIDTH_MIN},{repeat},None,0,0,0\")\n",
    "            population.append(unit)\n",
    "    return population"
   ]
  },
  {
   "cell_type": "code",
   "execution_count": 12,
   "id": "6e18ed6f-a666-4b96-af99-882940aac0e0",
   "metadata": {},
   "outputs": [],
   "source": [
    "TOP15 = [\n",
    "    (-9.0, 46.0),\n",
    "    (-9.0, 44.0),\n",
    "    (3.0, -13.0),\n",
    "    (9.0, 3.0),\n",
    "    (14.0, -3.0),\n",
    "    (-13.0, -46.0),\n",
    "    (-12.0, -47.0),\n",
    "    (-13.0, -41.0),\n",
    "    (-6.0, 42.0),\n",
    "    (5.0, -13.0),\n",
    "    (-13.0, -47.0),\n",
    "    (5.0, 7.0),\n",
    "    (-7.0, 43.0),\n",
    "    (-3.0, 40.0),\n",
    "    (-13.0, -43.0),\n",
    "]\n",
    "\n",
    "batch = []\n",
    "REPEATS = 10000\n",
    "for _ in range(REPEATS):\n",
    "    i = random.randint(0, len(TOP15) - 1)\n",
    "    width = TOP15[i][0]\n",
    "    offset = TOP15[i][1]\n",
    "    repeat = random.randint(8, 18)\n",
    "    ext_offset = random.randint(2175, 2222)\n",
    "\n",
    "    unit = Unit(repr=f\"{ext_offset},{offset},{width},{repeat},None,0,0,0\")\n",
    "    batch.append(unit)\n",
    "batch.sort(key=lambda unit:unit.ext_offset)"
   ]
  },
  {
   "cell_type": "code",
   "execution_count": 13,
   "id": "d2e4a914-bd1a-415d-9b76-a82eaabe68fe",
   "metadata": {},
   "outputs": [
    {
     "name": "stderr",
     "output_type": "stream",
     "text": [
      "  0%|                                                                             | 1/10000 [00:00<2:10:40,  1.28it/s]"
     ]
    },
    {
     "name": "stdout",
     "output_type": "stream",
     "text": [
      "(ext_offset=2175, offset=-3.125, width=14.0625, repeat=9, type=NORMAL, fitness=2)\n",
      "[]\n"
     ]
    },
    {
     "name": "stderr",
     "output_type": "stream",
     "text": [
      "  0%|                                                                             | 2/10000 [00:01<2:10:38,  1.28it/s]"
     ]
    },
    {
     "name": "stdout",
     "output_type": "stream",
     "text": [
      "(ext_offset=2175, offset=39.84375, width=-3.125, repeat=11, type=NORMAL, fitness=2)\n",
      "[]\n"
     ]
    },
    {
     "name": "stderr",
     "output_type": "stream",
     "text": [
      "  0%|                                                                             | 3/10000 [00:02<2:10:37,  1.28it/s]"
     ]
    },
    {
     "name": "stdout",
     "output_type": "stream",
     "text": [
      "(ext_offset=2175, offset=-41.015625, width=-12.890625, repeat=13, type=NORMAL, fitness=2)\n",
      "[]\n"
     ]
    },
    {
     "name": "stderr",
     "output_type": "stream",
     "text": [
      "  0%|                                                                             | 4/10000 [00:03<2:10:40,  1.27it/s]"
     ]
    },
    {
     "name": "stdout",
     "output_type": "stream",
     "text": [
      "(ext_offset=2175, offset=39.84375, width=-3.125, repeat=17, type=NORMAL, fitness=2)\n",
      "[]\n"
     ]
    },
    {
     "name": "stderr",
     "output_type": "stream",
     "text": [
      "  0%|                                                                             | 5/10000 [00:03<2:10:38,  1.28it/s]"
     ]
    },
    {
     "name": "stdout",
     "output_type": "stream",
     "text": [
      "(ext_offset=2175, offset=-12.890625, width=5.078125, repeat=15, type=NORMAL, fitness=2)\n",
      "[]\n"
     ]
    },
    {
     "name": "stderr",
     "output_type": "stream",
     "text": [
      "  0%|                                                                             | 6/10000 [00:04<2:10:40,  1.27it/s]"
     ]
    },
    {
     "name": "stdout",
     "output_type": "stream",
     "text": [
      "(ext_offset=2175, offset=-46.09375, width=-12.890625, repeat=18, type=NORMAL, fitness=2)\n",
      "[]\n"
     ]
    },
    {
     "name": "stderr",
     "output_type": "stream",
     "text": [
      "  0%|                                                                             | 7/10000 [00:05<2:10:41,  1.27it/s]"
     ]
    },
    {
     "name": "stdout",
     "output_type": "stream",
     "text": [
      "(ext_offset=2175, offset=-46.09375, width=-12.890625, repeat=15, type=NORMAL, fitness=2)\n",
      "[]\n"
     ]
    },
    {
     "name": "stderr",
     "output_type": "stream",
     "text": [
      "  0%|                                                                             | 8/10000 [00:06<2:10:41,  1.27it/s]"
     ]
    },
    {
     "name": "stdout",
     "output_type": "stream",
     "text": [
      "(ext_offset=2175, offset=-12.890625, width=3.125, repeat=8, type=NORMAL, fitness=2)\n",
      "[]\n"
     ]
    },
    {
     "name": "stderr",
     "output_type": "stream",
     "text": [
      "  0%|                                                                             | 9/10000 [00:07<2:10:41,  1.27it/s]"
     ]
    },
    {
     "name": "stdout",
     "output_type": "stream",
     "text": [
      "(ext_offset=2175, offset=-12.890625, width=5.078125, repeat=10, type=NORMAL, fitness=2)\n",
      "[]\n"
     ]
    },
    {
     "name": "stderr",
     "output_type": "stream",
     "text": [
      "  0%|                                                                            | 10/10000 [00:07<2:10:40,  1.27it/s]"
     ]
    },
    {
     "name": "stdout",
     "output_type": "stream",
     "text": [
      "(ext_offset=2175, offset=39.84375, width=-3.125, repeat=18, type=NORMAL, fitness=2)\n",
      "[]\n"
     ]
    },
    {
     "name": "stderr",
     "output_type": "stream",
     "text": [
      "  0%|                                                                            | 11/10000 [00:08<2:10:43,  1.27it/s]"
     ]
    },
    {
     "name": "stdout",
     "output_type": "stream",
     "text": [
      "(ext_offset=2175, offset=42.96875, width=-7.03125, repeat=8, type=NORMAL, fitness=2)\n",
      "[]\n"
     ]
    },
    {
     "name": "stderr",
     "output_type": "stream",
     "text": [
      "  0%|                                                                            | 12/10000 [00:09<2:10:38,  1.27it/s]"
     ]
    },
    {
     "name": "stdout",
     "output_type": "stream",
     "text": [
      "(ext_offset=2175, offset=46.09375, width=-8.984375, repeat=14, type=NORMAL, fitness=2)\n",
      "[]\n"
     ]
    },
    {
     "name": "stderr",
     "output_type": "stream",
     "text": [
      "  0%|                                                                            | 13/10000 [00:10<2:10:38,  1.27it/s]"
     ]
    },
    {
     "name": "stdout",
     "output_type": "stream",
     "text": [
      "(ext_offset=2175, offset=44.140625, width=-8.984375, repeat=18, type=NORMAL, fitness=2)\n",
      "[]\n"
     ]
    },
    {
     "name": "stderr",
     "output_type": "stream",
     "text": [
      "  0%|                                                                            | 14/10000 [00:10<2:10:38,  1.27it/s]"
     ]
    },
    {
     "name": "stdout",
     "output_type": "stream",
     "text": [
      "(ext_offset=2175, offset=-42.96875, width=-12.890625, repeat=14, type=NORMAL, fitness=2)\n",
      "[]\n"
     ]
    },
    {
     "name": "stderr",
     "output_type": "stream",
     "text": [
      "  0%|                                                                            | 15/10000 [00:11<2:10:37,  1.27it/s]"
     ]
    },
    {
     "name": "stdout",
     "output_type": "stream",
     "text": [
      "(ext_offset=2175, offset=-12.890625, width=3.125, repeat=17, type=NORMAL, fitness=2)\n",
      "[]\n"
     ]
    },
    {
     "name": "stderr",
     "output_type": "stream",
     "text": [
      "  0%|                                                                            | 16/10000 [00:12<2:10:36,  1.27it/s]"
     ]
    },
    {
     "name": "stdout",
     "output_type": "stream",
     "text": [
      "(ext_offset=2175, offset=-12.890625, width=5.078125, repeat=11, type=NORMAL, fitness=2)\n",
      "[]\n"
     ]
    },
    {
     "name": "stderr",
     "output_type": "stream",
     "text": [
      "  0%|▏                                                                           | 17/10000 [00:13<2:10:36,  1.27it/s]"
     ]
    },
    {
     "name": "stdout",
     "output_type": "stream",
     "text": [
      "(ext_offset=2175, offset=-42.96875, width=-12.890625, repeat=14, type=NORMAL, fitness=2)\n",
      "[]\n"
     ]
    },
    {
     "name": "stderr",
     "output_type": "stream",
     "text": [
      "  0%|▏                                                                           | 18/10000 [00:14<2:10:35,  1.27it/s]"
     ]
    },
    {
     "name": "stdout",
     "output_type": "stream",
     "text": [
      "(ext_offset=2175, offset=7.03125, width=5.078125, repeat=15, type=NORMAL, fitness=2)\n",
      "[]\n"
     ]
    },
    {
     "name": "stderr",
     "output_type": "stream",
     "text": [
      "  0%|▏                                                                           | 19/10000 [00:14<2:10:34,  1.27it/s]"
     ]
    },
    {
     "name": "stdout",
     "output_type": "stream",
     "text": [
      "(ext_offset=2175, offset=39.84375, width=-3.125, repeat=17, type=NORMAL, fitness=2)\n",
      "[]\n"
     ]
    },
    {
     "name": "stderr",
     "output_type": "stream",
     "text": [
      "  0%|▏                                                                           | 20/10000 [00:15<2:10:34,  1.27it/s]"
     ]
    },
    {
     "name": "stdout",
     "output_type": "stream",
     "text": [
      "(ext_offset=2175, offset=3.125, width=8.984375, repeat=15, type=NORMAL, fitness=2)\n",
      "[]\n"
     ]
    },
    {
     "name": "stderr",
     "output_type": "stream",
     "text": [
      "  0%|▏                                                                           | 21/10000 [00:16<2:10:33,  1.27it/s]"
     ]
    },
    {
     "name": "stdout",
     "output_type": "stream",
     "text": [
      "(ext_offset=2175, offset=42.1875, width=-5.859375, repeat=17, type=NORMAL, fitness=2)\n",
      "[]\n"
     ]
    },
    {
     "name": "stderr",
     "output_type": "stream",
     "text": [
      "  0%|▏                                                                           | 22/10000 [00:17<2:10:32,  1.27it/s]"
     ]
    },
    {
     "name": "stdout",
     "output_type": "stream",
     "text": [
      "(ext_offset=2175, offset=-46.09375, width=-12.890625, repeat=17, type=NORMAL, fitness=2)\n",
      "[]\n"
     ]
    },
    {
     "name": "stderr",
     "output_type": "stream",
     "text": [
      "  0%|▏                                                                           | 23/10000 [00:18<2:10:25,  1.27it/s]"
     ]
    },
    {
     "name": "stdout",
     "output_type": "stream",
     "text": [
      "(ext_offset=2175, offset=42.1875, width=-5.859375, repeat=11, type=NORMAL, fitness=2)\n",
      "[]\n"
     ]
    },
    {
     "name": "stderr",
     "output_type": "stream",
     "text": [
      "  0%|▏                                                                           | 24/10000 [00:18<2:10:23,  1.28it/s]"
     ]
    },
    {
     "name": "stdout",
     "output_type": "stream",
     "text": [
      "(ext_offset=2175, offset=-46.875, width=-12.109375, repeat=8, type=NORMAL, fitness=2)\n",
      "[]\n"
     ]
    },
    {
     "name": "stderr",
     "output_type": "stream",
     "text": [
      "  0%|▏                                                                           | 25/10000 [00:19<2:10:25,  1.27it/s]"
     ]
    },
    {
     "name": "stdout",
     "output_type": "stream",
     "text": [
      "(ext_offset=2175, offset=-3.125, width=14.0625, repeat=8, type=NORMAL, fitness=2)\n",
      "[]\n"
     ]
    },
    {
     "name": "stderr",
     "output_type": "stream",
     "text": [
      "  0%|▏                                                                           | 26/10000 [00:20<2:10:25,  1.27it/s]"
     ]
    },
    {
     "name": "stdout",
     "output_type": "stream",
     "text": [
      "(ext_offset=2175, offset=39.84375, width=-3.125, repeat=13, type=NORMAL, fitness=2)\n",
      "[]\n"
     ]
    },
    {
     "name": "stderr",
     "output_type": "stream",
     "text": [
      "  0%|▏                                                                           | 27/10000 [00:21<2:10:26,  1.27it/s]"
     ]
    },
    {
     "name": "stdout",
     "output_type": "stream",
     "text": [
      "(ext_offset=2175, offset=42.96875, width=-7.03125, repeat=17, type=NORMAL, fitness=2)\n",
      "[]\n"
     ]
    },
    {
     "name": "stderr",
     "output_type": "stream",
     "text": [
      "  0%|▏                                                                           | 28/10000 [00:21<2:10:23,  1.27it/s]"
     ]
    },
    {
     "name": "stdout",
     "output_type": "stream",
     "text": [
      "(ext_offset=2175, offset=39.84375, width=-3.125, repeat=13, type=NORMAL, fitness=2)\n",
      "[]\n"
     ]
    },
    {
     "name": "stderr",
     "output_type": "stream",
     "text": [
      "  0%|▏                                                                           | 29/10000 [00:22<2:10:23,  1.27it/s]"
     ]
    },
    {
     "name": "stdout",
     "output_type": "stream",
     "text": [
      "(ext_offset=2175, offset=42.96875, width=-7.03125, repeat=15, type=NORMAL, fitness=2)\n",
      "[]\n"
     ]
    },
    {
     "name": "stderr",
     "output_type": "stream",
     "text": [
      "  0%|▏                                                                           | 30/10000 [00:23<2:10:20,  1.27it/s]"
     ]
    },
    {
     "name": "stdout",
     "output_type": "stream",
     "text": [
      "(ext_offset=2175, offset=-46.09375, width=-12.890625, repeat=13, type=NORMAL, fitness=2)\n",
      "[]\n"
     ]
    },
    {
     "name": "stderr",
     "output_type": "stream",
     "text": [
      "  0%|▏                                                                           | 31/10000 [00:24<2:10:21,  1.27it/s]"
     ]
    },
    {
     "name": "stdout",
     "output_type": "stream",
     "text": [
      "(ext_offset=2175, offset=7.03125, width=5.078125, repeat=13, type=NORMAL, fitness=2)\n",
      "[]\n"
     ]
    },
    {
     "name": "stderr",
     "output_type": "stream",
     "text": [
      "  0%|▏                                                                           | 32/10000 [00:25<2:10:22,  1.27it/s]"
     ]
    },
    {
     "name": "stdout",
     "output_type": "stream",
     "text": [
      "(ext_offset=2175, offset=42.96875, width=-7.03125, repeat=16, type=NORMAL, fitness=2)\n",
      "[]\n"
     ]
    },
    {
     "name": "stderr",
     "output_type": "stream",
     "text": [
      "  0%|▎                                                                           | 33/10000 [00:25<2:10:22,  1.27it/s]"
     ]
    },
    {
     "name": "stdout",
     "output_type": "stream",
     "text": [
      "(ext_offset=2175, offset=-46.09375, width=-12.890625, repeat=14, type=NORMAL, fitness=2)\n",
      "[]\n"
     ]
    },
    {
     "name": "stderr",
     "output_type": "stream",
     "text": [
      "  0%|▎                                                                           | 34/10000 [00:26<2:10:21,  1.27it/s]"
     ]
    },
    {
     "name": "stdout",
     "output_type": "stream",
     "text": [
      "(ext_offset=2175, offset=-41.015625, width=-12.890625, repeat=10, type=NORMAL, fitness=2)\n",
      "[]\n"
     ]
    },
    {
     "name": "stderr",
     "output_type": "stream",
     "text": [
      "  0%|▎                                                                           | 35/10000 [00:27<2:10:18,  1.27it/s]"
     ]
    },
    {
     "name": "stdout",
     "output_type": "stream",
     "text": [
      "(ext_offset=2175, offset=46.09375, width=-8.984375, repeat=9, type=NORMAL, fitness=2)\n",
      "[]\n"
     ]
    },
    {
     "name": "stderr",
     "output_type": "stream",
     "text": [
      "  0%|▎                                                                           | 36/10000 [00:28<2:10:18,  1.27it/s]"
     ]
    },
    {
     "name": "stdout",
     "output_type": "stream",
     "text": [
      "(ext_offset=2175, offset=3.125, width=8.984375, repeat=8, type=NORMAL, fitness=2)\n",
      "[]\n"
     ]
    },
    {
     "name": "stderr",
     "output_type": "stream",
     "text": [
      "  0%|▎                                                                           | 37/10000 [00:29<2:10:18,  1.27it/s]"
     ]
    },
    {
     "name": "stdout",
     "output_type": "stream",
     "text": [
      "(ext_offset=2175, offset=42.1875, width=-5.859375, repeat=13, type=NORMAL, fitness=2)\n",
      "[]\n"
     ]
    },
    {
     "name": "stderr",
     "output_type": "stream",
     "text": [
      "  0%|▎                                                                           | 38/10000 [00:29<2:10:18,  1.27it/s]"
     ]
    },
    {
     "name": "stdout",
     "output_type": "stream",
     "text": [
      "(ext_offset=2175, offset=42.1875, width=-5.859375, repeat=10, type=NORMAL, fitness=2)\n",
      "[]\n"
     ]
    },
    {
     "name": "stderr",
     "output_type": "stream",
     "text": [
      "  0%|▎                                                                           | 39/10000 [00:30<2:10:19,  1.27it/s]"
     ]
    },
    {
     "name": "stdout",
     "output_type": "stream",
     "text": [
      "(ext_offset=2175, offset=-12.890625, width=3.125, repeat=11, type=NORMAL, fitness=2)\n",
      "[]\n"
     ]
    },
    {
     "name": "stderr",
     "output_type": "stream",
     "text": [
      "  0%|▎                                                                           | 40/10000 [00:31<2:10:20,  1.27it/s]"
     ]
    },
    {
     "name": "stdout",
     "output_type": "stream",
     "text": [
      "(ext_offset=2175, offset=-12.890625, width=5.078125, repeat=10, type=NORMAL, fitness=2)\n",
      "[]\n"
     ]
    },
    {
     "name": "stderr",
     "output_type": "stream",
     "text": [
      "  0%|▎                                                                           | 41/10000 [00:32<2:10:19,  1.27it/s]"
     ]
    },
    {
     "name": "stdout",
     "output_type": "stream",
     "text": [
      "(ext_offset=2175, offset=-12.890625, width=3.125, repeat=13, type=NORMAL, fitness=2)\n",
      "[]\n"
     ]
    },
    {
     "name": "stderr",
     "output_type": "stream",
     "text": [
      "  0%|▎                                                                           | 42/10000 [00:32<2:10:17,  1.27it/s]"
     ]
    },
    {
     "name": "stdout",
     "output_type": "stream",
     "text": [
      "(ext_offset=2175, offset=-46.875, width=-12.890625, repeat=17, type=NORMAL, fitness=2)\n",
      "[]\n"
     ]
    },
    {
     "name": "stderr",
     "output_type": "stream",
     "text": [
      "  0%|▎                                                                           | 43/10000 [00:33<2:10:16,  1.27it/s]"
     ]
    },
    {
     "name": "stdout",
     "output_type": "stream",
     "text": [
      "(ext_offset=2175, offset=44.140625, width=-8.984375, repeat=15, type=NORMAL, fitness=2)\n",
      "[]\n"
     ]
    },
    {
     "name": "stderr",
     "output_type": "stream",
     "text": [
      "  0%|▎                                                                           | 44/10000 [00:34<2:10:15,  1.27it/s]"
     ]
    },
    {
     "name": "stdout",
     "output_type": "stream",
     "text": [
      "(ext_offset=2175, offset=44.140625, width=-8.984375, repeat=13, type=NORMAL, fitness=2)\n",
      "[]\n"
     ]
    },
    {
     "name": "stderr",
     "output_type": "stream",
     "text": [
      "  0%|▎                                                                           | 45/10000 [00:35<2:10:14,  1.27it/s]"
     ]
    },
    {
     "name": "stdout",
     "output_type": "stream",
     "text": [
      "(ext_offset=2175, offset=-3.125, width=14.0625, repeat=10, type=NORMAL, fitness=2)\n",
      "[]\n"
     ]
    },
    {
     "name": "stderr",
     "output_type": "stream",
     "text": [
      "  0%|▎                                                                           | 46/10000 [00:36<2:10:14,  1.27it/s]"
     ]
    },
    {
     "name": "stdout",
     "output_type": "stream",
     "text": [
      "(ext_offset=2175, offset=7.03125, width=5.078125, repeat=16, type=NORMAL, fitness=2)\n",
      "[]\n"
     ]
    },
    {
     "name": "stderr",
     "output_type": "stream",
     "text": [
      "  0%|▎                                                                           | 47/10000 [00:36<2:10:13,  1.27it/s]"
     ]
    },
    {
     "name": "stdout",
     "output_type": "stream",
     "text": [
      "(ext_offset=2175, offset=46.09375, width=-8.984375, repeat=9, type=NORMAL, fitness=2)\n",
      "[]\n"
     ]
    },
    {
     "name": "stderr",
     "output_type": "stream",
     "text": [
      "  0%|▎                                                                           | 48/10000 [00:37<2:10:12,  1.27it/s]"
     ]
    },
    {
     "name": "stdout",
     "output_type": "stream",
     "text": [
      "(ext_offset=2175, offset=-41.015625, width=-12.890625, repeat=13, type=NORMAL, fitness=2)\n",
      "[]\n"
     ]
    },
    {
     "name": "stderr",
     "output_type": "stream",
     "text": [
      "  0%|▎                                                                           | 49/10000 [00:38<2:10:11,  1.27it/s]"
     ]
    },
    {
     "name": "stdout",
     "output_type": "stream",
     "text": [
      "(ext_offset=2175, offset=42.96875, width=-7.03125, repeat=18, type=NORMAL, fitness=2)\n",
      "[]\n"
     ]
    },
    {
     "name": "stderr",
     "output_type": "stream",
     "text": [
      "  0%|▍                                                                           | 50/10000 [00:39<2:10:10,  1.27it/s]"
     ]
    },
    {
     "name": "stdout",
     "output_type": "stream",
     "text": [
      "(ext_offset=2175, offset=-41.015625, width=-12.890625, repeat=16, type=NORMAL, fitness=2)\n",
      "[]\n"
     ]
    },
    {
     "name": "stderr",
     "output_type": "stream",
     "text": [
      "  1%|▍                                                                           | 51/10000 [00:40<2:10:03,  1.27it/s]"
     ]
    },
    {
     "name": "stdout",
     "output_type": "stream",
     "text": [
      "(ext_offset=2175, offset=42.96875, width=-7.03125, repeat=16, type=NORMAL, fitness=2)\n",
      "[]\n"
     ]
    },
    {
     "name": "stderr",
     "output_type": "stream",
     "text": [
      "  1%|▍                                                                           | 52/10000 [00:40<2:10:04,  1.27it/s]"
     ]
    },
    {
     "name": "stdout",
     "output_type": "stream",
     "text": [
      "(ext_offset=2175, offset=-3.125, width=14.0625, repeat=14, type=NORMAL, fitness=2)\n",
      "[]\n"
     ]
    },
    {
     "name": "stderr",
     "output_type": "stream",
     "text": [
      "  1%|▍                                                                           | 53/10000 [00:41<2:10:05,  1.27it/s]"
     ]
    },
    {
     "name": "stdout",
     "output_type": "stream",
     "text": [
      "(ext_offset=2175, offset=-12.890625, width=3.125, repeat=18, type=NORMAL, fitness=2)\n",
      "[]\n"
     ]
    },
    {
     "name": "stderr",
     "output_type": "stream",
     "text": [
      "  1%|▍                                                                           | 54/10000 [00:42<2:10:02,  1.27it/s]"
     ]
    },
    {
     "name": "stdout",
     "output_type": "stream",
     "text": [
      "(ext_offset=2175, offset=-3.125, width=14.0625, repeat=12, type=NORMAL, fitness=2)\n",
      "[]\n"
     ]
    },
    {
     "name": "stderr",
     "output_type": "stream",
     "text": [
      "  1%|▍                                                                           | 55/10000 [00:43<2:10:03,  1.27it/s]"
     ]
    },
    {
     "name": "stdout",
     "output_type": "stream",
     "text": [
      "(ext_offset=2175, offset=3.125, width=8.984375, repeat=15, type=NORMAL, fitness=2)\n",
      "[]\n"
     ]
    },
    {
     "name": "stderr",
     "output_type": "stream",
     "text": [
      "  1%|▍                                                                           | 56/10000 [00:43<2:10:00,  1.27it/s]"
     ]
    },
    {
     "name": "stdout",
     "output_type": "stream",
     "text": [
      "(ext_offset=2175, offset=42.96875, width=-7.03125, repeat=12, type=NORMAL, fitness=2)\n",
      "[]\n"
     ]
    },
    {
     "name": "stderr",
     "output_type": "stream",
     "text": [
      "  1%|▍                                                                           | 57/10000 [00:44<2:10:01,  1.27it/s]"
     ]
    },
    {
     "name": "stdout",
     "output_type": "stream",
     "text": [
      "(ext_offset=2175, offset=-12.890625, width=5.078125, repeat=11, type=NORMAL, fitness=2)\n",
      "[]\n"
     ]
    },
    {
     "name": "stderr",
     "output_type": "stream",
     "text": [
      "  1%|▍                                                                           | 58/10000 [00:45<2:09:58,  1.27it/s]"
     ]
    },
    {
     "name": "stdout",
     "output_type": "stream",
     "text": [
      "(ext_offset=2175, offset=-46.875, width=-12.109375, repeat=9, type=NORMAL, fitness=2)\n",
      "[]\n"
     ]
    },
    {
     "name": "stderr",
     "output_type": "stream",
     "text": [
      "  1%|▍                                                                           | 59/10000 [00:46<2:09:59,  1.27it/s]"
     ]
    },
    {
     "name": "stdout",
     "output_type": "stream",
     "text": [
      "(ext_offset=2175, offset=44.140625, width=-8.984375, repeat=17, type=NORMAL, fitness=2)\n",
      "[]\n"
     ]
    },
    {
     "name": "stderr",
     "output_type": "stream",
     "text": [
      "  1%|▍                                                                           | 60/10000 [00:47<2:09:59,  1.27it/s]"
     ]
    },
    {
     "name": "stdout",
     "output_type": "stream",
     "text": [
      "(ext_offset=2175, offset=-41.015625, width=-12.890625, repeat=15, type=NORMAL, fitness=2)\n",
      "[]\n"
     ]
    },
    {
     "name": "stderr",
     "output_type": "stream",
     "text": [
      "  1%|▍                                                                           | 61/10000 [00:47<2:09:59,  1.27it/s]"
     ]
    },
    {
     "name": "stdout",
     "output_type": "stream",
     "text": [
      "(ext_offset=2175, offset=-12.890625, width=5.078125, repeat=9, type=NORMAL, fitness=2)\n",
      "[]\n"
     ]
    },
    {
     "name": "stderr",
     "output_type": "stream",
     "text": [
      "  1%|▍                                                                           | 62/10000 [00:48<2:10:01,  1.27it/s]"
     ]
    },
    {
     "name": "stdout",
     "output_type": "stream",
     "text": [
      "(ext_offset=2175, offset=3.125, width=8.984375, repeat=18, type=NORMAL, fitness=2)\n",
      "[]\n"
     ]
    },
    {
     "name": "stderr",
     "output_type": "stream",
     "text": [
      "  1%|▍                                                                           | 63/10000 [00:49<2:10:01,  1.27it/s]"
     ]
    },
    {
     "name": "stdout",
     "output_type": "stream",
     "text": [
      "(ext_offset=2175, offset=44.140625, width=-8.984375, repeat=8, type=NORMAL, fitness=2)\n",
      "[]\n"
     ]
    },
    {
     "name": "stderr",
     "output_type": "stream",
     "text": [
      "  1%|▍                                                                           | 64/10000 [00:50<2:10:00,  1.27it/s]"
     ]
    },
    {
     "name": "stdout",
     "output_type": "stream",
     "text": [
      "(ext_offset=2175, offset=7.03125, width=5.078125, repeat=9, type=NORMAL, fitness=2)\n",
      "[]\n"
     ]
    },
    {
     "name": "stderr",
     "output_type": "stream",
     "text": [
      "  1%|▍                                                                           | 65/10000 [00:51<2:09:59,  1.27it/s]"
     ]
    },
    {
     "name": "stdout",
     "output_type": "stream",
     "text": [
      "(ext_offset=2175, offset=7.03125, width=5.078125, repeat=15, type=NORMAL, fitness=2)\n",
      "[]\n"
     ]
    },
    {
     "name": "stderr",
     "output_type": "stream",
     "text": [
      "  1%|▌                                                                           | 66/10000 [00:51<2:09:58,  1.27it/s]"
     ]
    },
    {
     "name": "stdout",
     "output_type": "stream",
     "text": [
      "(ext_offset=2175, offset=-46.09375, width=-12.890625, repeat=16, type=NORMAL, fitness=2)\n",
      "[]\n"
     ]
    },
    {
     "name": "stderr",
     "output_type": "stream",
     "text": [
      "  1%|▌                                                                           | 67/10000 [00:52<2:09:57,  1.27it/s]"
     ]
    },
    {
     "name": "stdout",
     "output_type": "stream",
     "text": [
      "(ext_offset=2175, offset=3.125, width=8.984375, repeat=13, type=NORMAL, fitness=2)\n",
      "[]\n"
     ]
    },
    {
     "name": "stderr",
     "output_type": "stream",
     "text": [
      "  1%|▌                                                                           | 68/10000 [00:53<2:09:56,  1.27it/s]"
     ]
    },
    {
     "name": "stdout",
     "output_type": "stream",
     "text": [
      "(ext_offset=2175, offset=-46.875, width=-12.890625, repeat=10, type=NORMAL, fitness=2)\n",
      "[]\n"
     ]
    },
    {
     "name": "stderr",
     "output_type": "stream",
     "text": [
      "  1%|▌                                                                           | 69/10000 [00:54<2:09:55,  1.27it/s]"
     ]
    },
    {
     "name": "stdout",
     "output_type": "stream",
     "text": [
      "(ext_offset=2175, offset=42.96875, width=-7.03125, repeat=18, type=NORMAL, fitness=2)\n",
      "[]\n"
     ]
    },
    {
     "name": "stderr",
     "output_type": "stream",
     "text": [
      "  1%|▌                                                                           | 70/10000 [00:54<2:09:55,  1.27it/s]"
     ]
    },
    {
     "name": "stdout",
     "output_type": "stream",
     "text": [
      "(ext_offset=2175, offset=3.125, width=8.984375, repeat=12, type=NORMAL, fitness=2)\n",
      "[]\n"
     ]
    },
    {
     "name": "stderr",
     "output_type": "stream",
     "text": [
      "  1%|▌                                                                           | 71/10000 [00:55<2:09:54,  1.27it/s]"
     ]
    },
    {
     "name": "stdout",
     "output_type": "stream",
     "text": [
      "(ext_offset=2175, offset=46.09375, width=-8.984375, repeat=18, type=NORMAL, fitness=2)\n",
      "[]\n"
     ]
    },
    {
     "name": "stderr",
     "output_type": "stream",
     "text": [
      "  1%|▌                                                                           | 72/10000 [00:56<2:09:53,  1.27it/s]"
     ]
    },
    {
     "name": "stdout",
     "output_type": "stream",
     "text": [
      "(ext_offset=2175, offset=-3.125, width=14.0625, repeat=11, type=NORMAL, fitness=2)\n",
      "[]\n"
     ]
    },
    {
     "name": "stderr",
     "output_type": "stream",
     "text": [
      "  1%|▌                                                                           | 73/10000 [00:57<2:09:52,  1.27it/s]"
     ]
    },
    {
     "name": "stdout",
     "output_type": "stream",
     "text": [
      "(ext_offset=2175, offset=42.96875, width=-7.03125, repeat=8, type=NORMAL, fitness=2)\n",
      "[]\n"
     ]
    },
    {
     "name": "stderr",
     "output_type": "stream",
     "text": [
      "  1%|▌                                                                           | 74/10000 [00:58<2:09:51,  1.27it/s]"
     ]
    },
    {
     "name": "stdout",
     "output_type": "stream",
     "text": [
      "(ext_offset=2175, offset=42.1875, width=-5.859375, repeat=9, type=NORMAL, fitness=2)\n",
      "[]\n"
     ]
    },
    {
     "name": "stderr",
     "output_type": "stream",
     "text": [
      "  1%|▌                                                                           | 75/10000 [00:58<2:09:52,  1.27it/s]"
     ]
    },
    {
     "name": "stdout",
     "output_type": "stream",
     "text": [
      "(ext_offset=2175, offset=-41.015625, width=-12.890625, repeat=14, type=NORMAL, fitness=2)\n",
      "[]\n"
     ]
    },
    {
     "name": "stderr",
     "output_type": "stream",
     "text": [
      "  1%|▌                                                                           | 76/10000 [00:59<2:09:52,  1.27it/s]"
     ]
    },
    {
     "name": "stdout",
     "output_type": "stream",
     "text": [
      "(ext_offset=2175, offset=-46.875, width=-12.109375, repeat=10, type=NORMAL, fitness=2)\n",
      "[]\n"
     ]
    },
    {
     "name": "stderr",
     "output_type": "stream",
     "text": [
      "  1%|▌                                                                           | 77/10000 [01:00<2:09:51,  1.27it/s]"
     ]
    },
    {
     "name": "stdout",
     "output_type": "stream",
     "text": [
      "(ext_offset=2175, offset=-46.875, width=-12.890625, repeat=11, type=NORMAL, fitness=2)\n",
      "[]\n"
     ]
    },
    {
     "name": "stderr",
     "output_type": "stream",
     "text": [
      "  1%|▌                                                                           | 78/10000 [01:01<2:09:49,  1.27it/s]"
     ]
    },
    {
     "name": "stdout",
     "output_type": "stream",
     "text": [
      "(ext_offset=2175, offset=3.125, width=8.984375, repeat=12, type=NORMAL, fitness=2)\n",
      "[]\n"
     ]
    },
    {
     "name": "stderr",
     "output_type": "stream",
     "text": [
      "  1%|▌                                                                           | 79/10000 [01:02<2:09:48,  1.27it/s]"
     ]
    },
    {
     "name": "stdout",
     "output_type": "stream",
     "text": [
      "(ext_offset=2175, offset=-46.875, width=-12.890625, repeat=15, type=NORMAL, fitness=2)\n",
      "[]\n"
     ]
    },
    {
     "name": "stderr",
     "output_type": "stream",
     "text": [
      "  1%|▌                                                                           | 80/10000 [01:02<2:09:47,  1.27it/s]"
     ]
    },
    {
     "name": "stdout",
     "output_type": "stream",
     "text": [
      "(ext_offset=2175, offset=7.03125, width=5.078125, repeat=10, type=NORMAL, fitness=2)\n",
      "[]\n"
     ]
    },
    {
     "name": "stderr",
     "output_type": "stream",
     "text": [
      "  1%|▌                                                                           | 81/10000 [01:03<2:09:46,  1.27it/s]"
     ]
    },
    {
     "name": "stdout",
     "output_type": "stream",
     "text": [
      "(ext_offset=2175, offset=-3.125, width=14.0625, repeat=13, type=NORMAL, fitness=2)\n",
      "[]\n"
     ]
    },
    {
     "name": "stderr",
     "output_type": "stream",
     "text": [
      "  1%|▌                                                                           | 82/10000 [01:04<2:09:45,  1.27it/s]"
     ]
    },
    {
     "name": "stdout",
     "output_type": "stream",
     "text": [
      "(ext_offset=2175, offset=-12.890625, width=3.125, repeat=17, type=NORMAL, fitness=2)\n",
      "[]\n"
     ]
    },
    {
     "name": "stderr",
     "output_type": "stream",
     "text": [
      "  1%|▋                                                                           | 83/10000 [01:05<2:09:44,  1.27it/s]"
     ]
    },
    {
     "name": "stdout",
     "output_type": "stream",
     "text": [
      "(ext_offset=2175, offset=3.125, width=8.984375, repeat=9, type=NORMAL, fitness=2)\n",
      "[]\n"
     ]
    },
    {
     "name": "stderr",
     "output_type": "stream",
     "text": [
      "  1%|▋                                                                           | 84/10000 [01:05<2:09:41,  1.27it/s]"
     ]
    },
    {
     "name": "stdout",
     "output_type": "stream",
     "text": [
      "(ext_offset=2175, offset=-46.875, width=-12.109375, repeat=16, type=NORMAL, fitness=2)\n",
      "[]\n"
     ]
    },
    {
     "name": "stderr",
     "output_type": "stream",
     "text": [
      "  1%|▋                                                                           | 85/10000 [01:06<2:09:41,  1.27it/s]"
     ]
    },
    {
     "name": "stdout",
     "output_type": "stream",
     "text": [
      "(ext_offset=2175, offset=7.03125, width=5.078125, repeat=11, type=NORMAL, fitness=2)\n",
      "[]\n"
     ]
    },
    {
     "name": "stderr",
     "output_type": "stream",
     "text": [
      "  1%|▋                                                                           | 86/10000 [01:07<2:09:40,  1.27it/s]"
     ]
    },
    {
     "name": "stdout",
     "output_type": "stream",
     "text": [
      "(ext_offset=2175, offset=42.96875, width=-7.03125, repeat=9, type=NORMAL, fitness=2)\n",
      "[]\n"
     ]
    },
    {
     "name": "stderr",
     "output_type": "stream",
     "text": [
      "  1%|▋                                                                           | 87/10000 [01:08<2:09:40,  1.27it/s]"
     ]
    },
    {
     "name": "stdout",
     "output_type": "stream",
     "text": [
      "(ext_offset=2175, offset=42.1875, width=-5.859375, repeat=14, type=NORMAL, fitness=2)\n",
      "[]\n"
     ]
    },
    {
     "name": "stderr",
     "output_type": "stream",
     "text": [
      "  1%|▋                                                                           | 88/10000 [01:09<2:09:42,  1.27it/s]"
     ]
    },
    {
     "name": "stdout",
     "output_type": "stream",
     "text": [
      "(ext_offset=2175, offset=-3.125, width=14.0625, repeat=12, type=NORMAL, fitness=2)\n",
      "[]\n"
     ]
    },
    {
     "name": "stderr",
     "output_type": "stream",
     "text": [
      "  1%|▋                                                                           | 89/10000 [01:09<2:09:41,  1.27it/s]"
     ]
    },
    {
     "name": "stdout",
     "output_type": "stream",
     "text": [
      "(ext_offset=2175, offset=-3.125, width=14.0625, repeat=15, type=NORMAL, fitness=2)\n",
      "[]\n"
     ]
    },
    {
     "name": "stderr",
     "output_type": "stream",
     "text": [
      "  1%|▋                                                                           | 90/10000 [01:10<2:09:40,  1.27it/s]"
     ]
    },
    {
     "name": "stdout",
     "output_type": "stream",
     "text": [
      "(ext_offset=2175, offset=7.03125, width=5.078125, repeat=11, type=NORMAL, fitness=2)\n",
      "[]\n"
     ]
    },
    {
     "name": "stderr",
     "output_type": "stream",
     "text": [
      "  1%|▋                                                                           | 91/10000 [01:11<2:09:39,  1.27it/s]"
     ]
    },
    {
     "name": "stdout",
     "output_type": "stream",
     "text": [
      "(ext_offset=2175, offset=3.125, width=8.984375, repeat=12, type=NORMAL, fitness=2)\n",
      "[]\n"
     ]
    },
    {
     "name": "stderr",
     "output_type": "stream",
     "text": [
      "  1%|▋                                                                           | 92/10000 [01:12<2:09:38,  1.27it/s]"
     ]
    },
    {
     "name": "stdout",
     "output_type": "stream",
     "text": [
      "(ext_offset=2175, offset=3.125, width=8.984375, repeat=10, type=NORMAL, fitness=2)\n",
      "[]\n"
     ]
    },
    {
     "name": "stderr",
     "output_type": "stream",
     "text": [
      "  1%|▋                                                                           | 93/10000 [01:12<2:09:37,  1.27it/s]"
     ]
    },
    {
     "name": "stdout",
     "output_type": "stream",
     "text": [
      "(ext_offset=2175, offset=-12.890625, width=5.078125, repeat=15, type=NORMAL, fitness=2)\n",
      "[]\n"
     ]
    },
    {
     "name": "stderr",
     "output_type": "stream",
     "text": [
      "  1%|▋                                                                           | 94/10000 [01:13<2:09:36,  1.27it/s]"
     ]
    },
    {
     "name": "stdout",
     "output_type": "stream",
     "text": [
      "(ext_offset=2175, offset=-12.890625, width=3.125, repeat=11, type=NORMAL, fitness=2)\n",
      "[]\n"
     ]
    },
    {
     "name": "stderr",
     "output_type": "stream",
     "text": [
      "  1%|▋                                                                           | 95/10000 [01:14<2:09:35,  1.27it/s]"
     ]
    },
    {
     "name": "stdout",
     "output_type": "stream",
     "text": [
      "(ext_offset=2175, offset=-46.875, width=-12.109375, repeat=10, type=NORMAL, fitness=2)\n",
      "[]\n"
     ]
    },
    {
     "name": "stderr",
     "output_type": "stream",
     "text": [
      "  1%|▋                                                                           | 96/10000 [01:15<2:09:31,  1.27it/s]"
     ]
    },
    {
     "name": "stdout",
     "output_type": "stream",
     "text": [
      "(ext_offset=2175, offset=-12.890625, width=5.078125, repeat=15, type=NORMAL, fitness=2)\n",
      "[]\n"
     ]
    },
    {
     "name": "stderr",
     "output_type": "stream",
     "text": [
      "  1%|▋                                                                           | 97/10000 [01:16<2:09:31,  1.27it/s]"
     ]
    },
    {
     "name": "stdout",
     "output_type": "stream",
     "text": [
      "(ext_offset=2175, offset=44.140625, width=-8.984375, repeat=15, type=NORMAL, fitness=2)\n",
      "[]\n"
     ]
    },
    {
     "name": "stderr",
     "output_type": "stream",
     "text": [
      "  1%|▋                                                                           | 98/10000 [01:16<2:09:31,  1.27it/s]"
     ]
    },
    {
     "name": "stdout",
     "output_type": "stream",
     "text": [
      "(ext_offset=2175, offset=-12.890625, width=3.125, repeat=8, type=NORMAL, fitness=2)\n",
      "[]\n"
     ]
    },
    {
     "name": "stderr",
     "output_type": "stream",
     "text": [
      "  1%|▊                                                                           | 99/10000 [01:17<2:09:31,  1.27it/s]"
     ]
    },
    {
     "name": "stdout",
     "output_type": "stream",
     "text": [
      "(ext_offset=2175, offset=-12.890625, width=3.125, repeat=12, type=NORMAL, fitness=2)\n",
      "[]\n"
     ]
    },
    {
     "name": "stderr",
     "output_type": "stream",
     "text": [
      "  1%|▊                                                                          | 100/10000 [01:18<2:09:30,  1.27it/s]"
     ]
    },
    {
     "name": "stdout",
     "output_type": "stream",
     "text": [
      "(ext_offset=2175, offset=-3.125, width=14.0625, repeat=14, type=NORMAL, fitness=2)\n",
      "[]\n"
     ]
    },
    {
     "name": "stderr",
     "output_type": "stream",
     "text": [
      "  1%|▊                                                                          | 101/10000 [01:19<2:09:27,  1.27it/s]"
     ]
    },
    {
     "name": "stdout",
     "output_type": "stream",
     "text": [
      "(ext_offset=2175, offset=3.125, width=8.984375, repeat=10, type=NORMAL, fitness=2)\n",
      "[]\n"
     ]
    },
    {
     "name": "stderr",
     "output_type": "stream",
     "text": [
      "  1%|▊                                                                          | 102/10000 [01:20<2:09:24,  1.27it/s]"
     ]
    },
    {
     "name": "stdout",
     "output_type": "stream",
     "text": [
      "(ext_offset=2175, offset=3.125, width=8.984375, repeat=15, type=NORMAL, fitness=2)\n",
      "[]\n"
     ]
    },
    {
     "name": "stderr",
     "output_type": "stream",
     "text": [
      "  1%|▊                                                                          | 103/10000 [01:20<2:09:25,  1.27it/s]"
     ]
    },
    {
     "name": "stdout",
     "output_type": "stream",
     "text": [
      "(ext_offset=2175, offset=-46.875, width=-12.109375, repeat=17, type=NORMAL, fitness=2)\n",
      "[]\n"
     ]
    },
    {
     "name": "stderr",
     "output_type": "stream",
     "text": [
      "  1%|▊                                                                          | 104/10000 [01:21<2:09:25,  1.27it/s]"
     ]
    },
    {
     "name": "stdout",
     "output_type": "stream",
     "text": [
      "(ext_offset=2175, offset=3.125, width=8.984375, repeat=12, type=NORMAL, fitness=2)\n",
      "[]\n"
     ]
    },
    {
     "name": "stderr",
     "output_type": "stream",
     "text": [
      "  1%|▊                                                                          | 105/10000 [01:22<2:09:25,  1.27it/s]"
     ]
    },
    {
     "name": "stdout",
     "output_type": "stream",
     "text": [
      "(ext_offset=2175, offset=42.96875, width=-7.03125, repeat=11, type=NORMAL, fitness=2)\n",
      "[]\n"
     ]
    },
    {
     "name": "stderr",
     "output_type": "stream",
     "text": [
      "  1%|▊                                                                          | 106/10000 [01:23<2:09:25,  1.27it/s]"
     ]
    },
    {
     "name": "stdout",
     "output_type": "stream",
     "text": [
      "(ext_offset=2175, offset=42.1875, width=-5.859375, repeat=18, type=NORMAL, fitness=2)\n",
      "[]\n"
     ]
    },
    {
     "name": "stderr",
     "output_type": "stream",
     "text": [
      "  1%|▊                                                                          | 107/10000 [01:23<2:09:18,  1.28it/s]"
     ]
    },
    {
     "name": "stdout",
     "output_type": "stream",
     "text": [
      "(ext_offset=2175, offset=44.140625, width=-8.984375, repeat=14, type=NORMAL, fitness=2)\n",
      "[]\n"
     ]
    },
    {
     "name": "stderr",
     "output_type": "stream",
     "text": [
      "  1%|▊                                                                          | 108/10000 [01:24<2:09:20,  1.27it/s]"
     ]
    },
    {
     "name": "stdout",
     "output_type": "stream",
     "text": [
      "(ext_offset=2175, offset=-42.96875, width=-12.890625, repeat=17, type=NORMAL, fitness=2)\n",
      "[]\n"
     ]
    },
    {
     "name": "stderr",
     "output_type": "stream",
     "text": [
      "  1%|▊                                                                          | 109/10000 [01:25<2:09:20,  1.27it/s]"
     ]
    },
    {
     "name": "stdout",
     "output_type": "stream",
     "text": [
      "(ext_offset=2175, offset=39.84375, width=-3.125, repeat=15, type=NORMAL, fitness=2)\n",
      "[]\n"
     ]
    },
    {
     "name": "stderr",
     "output_type": "stream",
     "text": [
      "  1%|▊                                                                          | 110/10000 [01:26<2:09:21,  1.27it/s]"
     ]
    },
    {
     "name": "stdout",
     "output_type": "stream",
     "text": [
      "(ext_offset=2175, offset=-46.875, width=-12.109375, repeat=12, type=NORMAL, fitness=2)\n",
      "[]\n"
     ]
    },
    {
     "name": "stderr",
     "output_type": "stream",
     "text": [
      "  1%|▊                                                                          | 111/10000 [01:27<2:09:21,  1.27it/s]"
     ]
    },
    {
     "name": "stdout",
     "output_type": "stream",
     "text": [
      "(ext_offset=2175, offset=39.84375, width=-3.125, repeat=16, type=NORMAL, fitness=2)\n",
      "[]\n"
     ]
    },
    {
     "name": "stderr",
     "output_type": "stream",
     "text": [
      "  1%|▊                                                                          | 112/10000 [01:27<2:09:20,  1.27it/s]"
     ]
    },
    {
     "name": "stdout",
     "output_type": "stream",
     "text": [
      "(ext_offset=2175, offset=39.84375, width=-3.125, repeat=9, type=NORMAL, fitness=2)\n",
      "[]\n"
     ]
    },
    {
     "name": "stderr",
     "output_type": "stream",
     "text": [
      "  1%|▊                                                                          | 113/10000 [01:28<2:09:20,  1.27it/s]"
     ]
    },
    {
     "name": "stdout",
     "output_type": "stream",
     "text": [
      "(ext_offset=2175, offset=46.09375, width=-8.984375, repeat=9, type=NORMAL, fitness=2)\n",
      "[]\n"
     ]
    },
    {
     "name": "stderr",
     "output_type": "stream",
     "text": [
      "  1%|▊                                                                          | 114/10000 [01:29<2:09:16,  1.27it/s]"
     ]
    },
    {
     "name": "stdout",
     "output_type": "stream",
     "text": [
      "(ext_offset=2175, offset=-46.875, width=-12.109375, repeat=10, type=NORMAL, fitness=2)\n",
      "[]\n"
     ]
    },
    {
     "name": "stderr",
     "output_type": "stream",
     "text": [
      "  1%|▊                                                                          | 115/10000 [01:30<2:09:17,  1.27it/s]"
     ]
    },
    {
     "name": "stdout",
     "output_type": "stream",
     "text": [
      "(ext_offset=2175, offset=-46.875, width=-12.109375, repeat=17, type=NORMAL, fitness=2)\n",
      "[]\n"
     ]
    },
    {
     "name": "stderr",
     "output_type": "stream",
     "text": [
      "  1%|▊                                                                          | 116/10000 [01:31<2:09:17,  1.27it/s]"
     ]
    },
    {
     "name": "stdout",
     "output_type": "stream",
     "text": [
      "(ext_offset=2175, offset=-12.890625, width=5.078125, repeat=15, type=NORMAL, fitness=2)\n",
      "[]\n"
     ]
    },
    {
     "name": "stderr",
     "output_type": "stream",
     "text": [
      "  1%|▉                                                                          | 117/10000 [01:31<2:09:16,  1.27it/s]"
     ]
    },
    {
     "name": "stdout",
     "output_type": "stream",
     "text": [
      "(ext_offset=2175, offset=-3.125, width=14.0625, repeat=8, type=NORMAL, fitness=2)\n",
      "[]\n"
     ]
    },
    {
     "name": "stderr",
     "output_type": "stream",
     "text": [
      "  1%|▉                                                                          | 118/10000 [01:32<2:09:10,  1.28it/s]"
     ]
    },
    {
     "name": "stdout",
     "output_type": "stream",
     "text": [
      "(ext_offset=2175, offset=-12.890625, width=3.125, repeat=9, type=NORMAL, fitness=2)\n",
      "[]\n"
     ]
    },
    {
     "name": "stderr",
     "output_type": "stream",
     "text": [
      "  1%|▉                                                                          | 119/10000 [01:33<2:09:08,  1.28it/s]"
     ]
    },
    {
     "name": "stdout",
     "output_type": "stream",
     "text": [
      "(ext_offset=2175, offset=7.03125, width=5.078125, repeat=9, type=NORMAL, fitness=2)\n",
      "[]\n"
     ]
    },
    {
     "name": "stderr",
     "output_type": "stream",
     "text": [
      "  1%|▉                                                                          | 120/10000 [01:34<2:09:10,  1.27it/s]"
     ]
    },
    {
     "name": "stdout",
     "output_type": "stream",
     "text": [
      "(ext_offset=2175, offset=-12.890625, width=5.078125, repeat=12, type=NORMAL, fitness=2)\n",
      "[]\n"
     ]
    },
    {
     "name": "stderr",
     "output_type": "stream",
     "text": [
      "  1%|▉                                                                          | 121/10000 [01:34<2:09:11,  1.27it/s]"
     ]
    },
    {
     "name": "stdout",
     "output_type": "stream",
     "text": [
      "(ext_offset=2175, offset=46.09375, width=-8.984375, repeat=13, type=NORMAL, fitness=2)\n",
      "[]\n"
     ]
    },
    {
     "name": "stderr",
     "output_type": "stream",
     "text": [
      "  1%|▉                                                                          | 122/10000 [01:35<2:09:11,  1.27it/s]"
     ]
    },
    {
     "name": "stdout",
     "output_type": "stream",
     "text": [
      "(ext_offset=2175, offset=42.1875, width=-5.859375, repeat=8, type=NORMAL, fitness=2)\n",
      "[]\n"
     ]
    },
    {
     "name": "stderr",
     "output_type": "stream",
     "text": [
      "  1%|▉                                                                          | 123/10000 [01:36<2:09:11,  1.27it/s]"
     ]
    },
    {
     "name": "stdout",
     "output_type": "stream",
     "text": [
      "(ext_offset=2175, offset=-41.015625, width=-12.890625, repeat=12, type=NORMAL, fitness=2)\n",
      "[]\n"
     ]
    },
    {
     "name": "stderr",
     "output_type": "stream",
     "text": [
      "  1%|▉                                                                          | 124/10000 [01:37<2:09:11,  1.27it/s]"
     ]
    },
    {
     "name": "stdout",
     "output_type": "stream",
     "text": [
      "(ext_offset=2175, offset=-42.96875, width=-12.890625, repeat=10, type=NORMAL, fitness=2)\n",
      "[]\n"
     ]
    },
    {
     "name": "stderr",
     "output_type": "stream",
     "text": [
      "  1%|▉                                                                          | 125/10000 [01:38<2:09:07,  1.27it/s]"
     ]
    },
    {
     "name": "stdout",
     "output_type": "stream",
     "text": [
      "(ext_offset=2175, offset=44.140625, width=-8.984375, repeat=13, type=NORMAL, fitness=2)\n",
      "[]\n"
     ]
    },
    {
     "name": "stderr",
     "output_type": "stream",
     "text": [
      "  1%|▉                                                                          | 126/10000 [01:38<2:09:08,  1.27it/s]"
     ]
    },
    {
     "name": "stdout",
     "output_type": "stream",
     "text": [
      "(ext_offset=2175, offset=-42.96875, width=-12.890625, repeat=13, type=NORMAL, fitness=2)\n",
      "[]\n"
     ]
    },
    {
     "name": "stderr",
     "output_type": "stream",
     "text": [
      "  1%|▉                                                                          | 127/10000 [01:39<2:09:08,  1.27it/s]"
     ]
    },
    {
     "name": "stdout",
     "output_type": "stream",
     "text": [
      "(ext_offset=2175, offset=3.125, width=8.984375, repeat=12, type=NORMAL, fitness=2)\n",
      "[]\n"
     ]
    },
    {
     "name": "stderr",
     "output_type": "stream",
     "text": [
      "  1%|▉                                                                          | 128/10000 [01:40<2:09:08,  1.27it/s]"
     ]
    },
    {
     "name": "stdout",
     "output_type": "stream",
     "text": [
      "(ext_offset=2175, offset=-46.09375, width=-12.890625, repeat=14, type=NORMAL, fitness=2)\n",
      "[]\n"
     ]
    },
    {
     "name": "stderr",
     "output_type": "stream",
     "text": [
      "  1%|▉                                                                          | 129/10000 [01:41<2:09:07,  1.27it/s]"
     ]
    },
    {
     "name": "stdout",
     "output_type": "stream",
     "text": [
      "(ext_offset=2175, offset=-12.890625, width=5.078125, repeat=17, type=NORMAL, fitness=2)\n",
      "[]\n"
     ]
    },
    {
     "name": "stderr",
     "output_type": "stream",
     "text": [
      "  1%|▉                                                                          | 130/10000 [01:42<2:09:01,  1.27it/s]"
     ]
    },
    {
     "name": "stdout",
     "output_type": "stream",
     "text": [
      "(ext_offset=2175, offset=44.140625, width=-8.984375, repeat=16, type=NORMAL, fitness=2)\n",
      "[]\n"
     ]
    },
    {
     "name": "stderr",
     "output_type": "stream",
     "text": [
      "  1%|▉                                                                          | 131/10000 [01:42<2:09:02,  1.27it/s]"
     ]
    },
    {
     "name": "stdout",
     "output_type": "stream",
     "text": [
      "(ext_offset=2175, offset=-41.015625, width=-12.890625, repeat=8, type=NORMAL, fitness=2)\n",
      "[]\n"
     ]
    },
    {
     "name": "stderr",
     "output_type": "stream",
     "text": [
      "  1%|▉                                                                          | 132/10000 [01:43<2:09:00,  1.27it/s]"
     ]
    },
    {
     "name": "stdout",
     "output_type": "stream",
     "text": [
      "(ext_offset=2175, offset=42.1875, width=-5.859375, repeat=14, type=NORMAL, fitness=2)\n",
      "[]\n"
     ]
    },
    {
     "name": "stderr",
     "output_type": "stream",
     "text": [
      "  1%|▉                                                                          | 133/10000 [01:44<2:09:01,  1.27it/s]"
     ]
    },
    {
     "name": "stdout",
     "output_type": "stream",
     "text": [
      "(ext_offset=2175, offset=-46.875, width=-12.109375, repeat=15, type=NORMAL, fitness=2)\n",
      "[]\n"
     ]
    },
    {
     "name": "stderr",
     "output_type": "stream",
     "text": [
      "  1%|█                                                                          | 134/10000 [01:45<2:09:01,  1.27it/s]"
     ]
    },
    {
     "name": "stdout",
     "output_type": "stream",
     "text": [
      "(ext_offset=2175, offset=-46.09375, width=-12.890625, repeat=14, type=NORMAL, fitness=2)\n",
      "[]\n"
     ]
    },
    {
     "name": "stderr",
     "output_type": "stream",
     "text": [
      "  1%|█                                                                          | 135/10000 [01:45<2:08:55,  1.28it/s]"
     ]
    },
    {
     "name": "stdout",
     "output_type": "stream",
     "text": [
      "(ext_offset=2175, offset=-46.875, width=-12.890625, repeat=13, type=NORMAL, fitness=2)\n",
      "[]\n"
     ]
    },
    {
     "name": "stderr",
     "output_type": "stream",
     "text": [
      "  1%|█                                                                          | 136/10000 [01:46<2:08:57,  1.27it/s]"
     ]
    },
    {
     "name": "stdout",
     "output_type": "stream",
     "text": [
      "(ext_offset=2175, offset=-12.890625, width=5.078125, repeat=16, type=NORMAL, fitness=2)\n",
      "[]\n"
     ]
    },
    {
     "name": "stderr",
     "output_type": "stream",
     "text": [
      "  1%|█                                                                          | 137/10000 [01:47<2:08:55,  1.28it/s]"
     ]
    },
    {
     "name": "stdout",
     "output_type": "stream",
     "text": [
      "(ext_offset=2175, offset=-12.890625, width=5.078125, repeat=17, type=NORMAL, fitness=2)\n",
      "[]\n"
     ]
    },
    {
     "name": "stderr",
     "output_type": "stream",
     "text": [
      "  1%|█                                                                          | 138/10000 [01:48<2:08:56,  1.27it/s]"
     ]
    },
    {
     "name": "stdout",
     "output_type": "stream",
     "text": [
      "(ext_offset=2175, offset=42.1875, width=-5.859375, repeat=11, type=NORMAL, fitness=2)\n",
      "[]\n"
     ]
    },
    {
     "name": "stderr",
     "output_type": "stream",
     "text": [
      "  1%|█                                                                          | 139/10000 [01:49<2:08:57,  1.27it/s]"
     ]
    },
    {
     "name": "stdout",
     "output_type": "stream",
     "text": [
      "(ext_offset=2175, offset=-12.890625, width=3.125, repeat=15, type=NORMAL, fitness=2)\n",
      "[]\n"
     ]
    },
    {
     "name": "stderr",
     "output_type": "stream",
     "text": [
      "  1%|█                                                                          | 140/10000 [01:49<2:08:57,  1.27it/s]"
     ]
    },
    {
     "name": "stdout",
     "output_type": "stream",
     "text": [
      "(ext_offset=2175, offset=7.03125, width=5.078125, repeat=9, type=NORMAL, fitness=2)\n",
      "[]\n"
     ]
    },
    {
     "name": "stderr",
     "output_type": "stream",
     "text": [
      "  1%|█                                                                          | 141/10000 [01:50<2:08:57,  1.27it/s]"
     ]
    },
    {
     "name": "stdout",
     "output_type": "stream",
     "text": [
      "(ext_offset=2175, offset=-12.890625, width=3.125, repeat=11, type=NORMAL, fitness=2)\n",
      "[]\n"
     ]
    },
    {
     "name": "stderr",
     "output_type": "stream",
     "text": [
      "  1%|█                                                                          | 142/10000 [01:51<2:08:54,  1.27it/s]"
     ]
    },
    {
     "name": "stdout",
     "output_type": "stream",
     "text": [
      "(ext_offset=2175, offset=-46.875, width=-12.890625, repeat=9, type=NORMAL, fitness=2)\n",
      "[]\n"
     ]
    },
    {
     "name": "stderr",
     "output_type": "stream",
     "text": [
      "  1%|█                                                                          | 143/10000 [01:52<2:08:54,  1.27it/s]"
     ]
    },
    {
     "name": "stdout",
     "output_type": "stream",
     "text": [
      "(ext_offset=2175, offset=7.03125, width=5.078125, repeat=14, type=NORMAL, fitness=2)\n",
      "[]\n"
     ]
    },
    {
     "name": "stderr",
     "output_type": "stream",
     "text": [
      "  1%|█                                                                          | 144/10000 [01:53<2:08:54,  1.27it/s]"
     ]
    },
    {
     "name": "stdout",
     "output_type": "stream",
     "text": [
      "(ext_offset=2175, offset=39.84375, width=-3.125, repeat=17, type=NORMAL, fitness=2)\n",
      "[]\n"
     ]
    },
    {
     "name": "stderr",
     "output_type": "stream",
     "text": [
      "  1%|█                                                                          | 145/10000 [01:53<2:08:54,  1.27it/s]"
     ]
    },
    {
     "name": "stdout",
     "output_type": "stream",
     "text": [
      "(ext_offset=2175, offset=-46.875, width=-12.890625, repeat=15, type=NORMAL, fitness=2)\n",
      "[]\n"
     ]
    },
    {
     "name": "stderr",
     "output_type": "stream",
     "text": [
      "  1%|█                                                                          | 146/10000 [01:54<2:08:54,  1.27it/s]"
     ]
    },
    {
     "name": "stdout",
     "output_type": "stream",
     "text": [
      "(ext_offset=2175, offset=42.96875, width=-7.03125, repeat=13, type=NORMAL, fitness=2)\n",
      "[]\n"
     ]
    },
    {
     "name": "stderr",
     "output_type": "stream",
     "text": [
      "  1%|█                                                                          | 147/10000 [01:55<2:08:54,  1.27it/s]"
     ]
    },
    {
     "name": "stdout",
     "output_type": "stream",
     "text": [
      "(ext_offset=2175, offset=-12.890625, width=3.125, repeat=14, type=NORMAL, fitness=2)\n",
      "[]\n"
     ]
    },
    {
     "name": "stderr",
     "output_type": "stream",
     "text": [
      "  1%|█                                                                          | 148/10000 [01:56<2:08:50,  1.27it/s]"
     ]
    },
    {
     "name": "stdout",
     "output_type": "stream",
     "text": [
      "(ext_offset=2175, offset=-41.015625, width=-12.890625, repeat=10, type=NORMAL, fitness=2)\n",
      "[]\n"
     ]
    },
    {
     "name": "stderr",
     "output_type": "stream",
     "text": [
      "  1%|█                                                                          | 149/10000 [01:56<2:08:50,  1.27it/s]"
     ]
    },
    {
     "name": "stdout",
     "output_type": "stream",
     "text": [
      "(ext_offset=2175, offset=44.140625, width=-8.984375, repeat=13, type=NORMAL, fitness=2)\n",
      "[]\n"
     ]
    },
    {
     "name": "stderr",
     "output_type": "stream",
     "text": [
      "  2%|█▏                                                                         | 150/10000 [01:57<2:08:50,  1.27it/s]"
     ]
    },
    {
     "name": "stdout",
     "output_type": "stream",
     "text": [
      "(ext_offset=2175, offset=7.03125, width=5.078125, repeat=15, type=NORMAL, fitness=2)\n",
      "[]\n"
     ]
    },
    {
     "name": "stderr",
     "output_type": "stream",
     "text": [
      "  2%|█▏                                                                         | 151/10000 [01:58<2:08:50,  1.27it/s]"
     ]
    },
    {
     "name": "stdout",
     "output_type": "stream",
     "text": [
      "(ext_offset=2175, offset=-12.890625, width=3.125, repeat=16, type=NORMAL, fitness=2)\n",
      "[]\n"
     ]
    },
    {
     "name": "stderr",
     "output_type": "stream",
     "text": [
      "  2%|█▏                                                                         | 152/10000 [01:59<2:08:49,  1.27it/s]"
     ]
    },
    {
     "name": "stdout",
     "output_type": "stream",
     "text": [
      "(ext_offset=2175, offset=-46.09375, width=-12.890625, repeat=14, type=NORMAL, fitness=2)\n",
      "[]\n"
     ]
    },
    {
     "name": "stderr",
     "output_type": "stream",
     "text": [
      "  2%|█▏                                                                         | 153/10000 [02:00<2:08:49,  1.27it/s]"
     ]
    },
    {
     "name": "stdout",
     "output_type": "stream",
     "text": [
      "(ext_offset=2175, offset=42.96875, width=-7.03125, repeat=8, type=NORMAL, fitness=2)\n",
      "[]\n"
     ]
    },
    {
     "name": "stderr",
     "output_type": "stream",
     "text": [
      "  2%|█▏                                                                         | 154/10000 [02:00<2:08:48,  1.27it/s]"
     ]
    },
    {
     "name": "stdout",
     "output_type": "stream",
     "text": [
      "(ext_offset=2175, offset=-12.890625, width=5.078125, repeat=8, type=NORMAL, fitness=2)\n",
      "[]\n"
     ]
    },
    {
     "name": "stderr",
     "output_type": "stream",
     "text": [
      "  2%|█▏                                                                         | 155/10000 [02:01<2:08:47,  1.27it/s]"
     ]
    },
    {
     "name": "stdout",
     "output_type": "stream",
     "text": [
      "(ext_offset=2175, offset=44.140625, width=-8.984375, repeat=14, type=NORMAL, fitness=2)\n",
      "[]\n"
     ]
    },
    {
     "name": "stderr",
     "output_type": "stream",
     "text": [
      "  2%|█▏                                                                         | 156/10000 [02:02<2:08:47,  1.27it/s]"
     ]
    },
    {
     "name": "stdout",
     "output_type": "stream",
     "text": [
      "(ext_offset=2175, offset=3.125, width=8.984375, repeat=16, type=NORMAL, fitness=2)\n",
      "[]\n"
     ]
    },
    {
     "name": "stderr",
     "output_type": "stream",
     "text": [
      "  2%|█▏                                                                         | 157/10000 [02:03<2:08:46,  1.27it/s]"
     ]
    },
    {
     "name": "stdout",
     "output_type": "stream",
     "text": [
      "(ext_offset=2175, offset=42.1875, width=-5.859375, repeat=11, type=NORMAL, fitness=2)\n",
      "[]\n"
     ]
    },
    {
     "name": "stderr",
     "output_type": "stream",
     "text": [
      "  2%|█▏                                                                         | 158/10000 [02:03<2:08:45,  1.27it/s]"
     ]
    },
    {
     "name": "stdout",
     "output_type": "stream",
     "text": [
      "(ext_offset=2175, offset=46.09375, width=-8.984375, repeat=17, type=NORMAL, fitness=2)\n",
      "[]\n"
     ]
    },
    {
     "name": "stderr",
     "output_type": "stream",
     "text": [
      "  2%|█▏                                                                         | 159/10000 [02:04<2:08:45,  1.27it/s]"
     ]
    },
    {
     "name": "stdout",
     "output_type": "stream",
     "text": [
      "(ext_offset=2175, offset=46.09375, width=-8.984375, repeat=12, type=NORMAL, fitness=2)\n",
      "[]\n"
     ]
    },
    {
     "name": "stderr",
     "output_type": "stream",
     "text": [
      "  2%|█▏                                                                         | 160/10000 [02:05<2:08:41,  1.27it/s]"
     ]
    },
    {
     "name": "stdout",
     "output_type": "stream",
     "text": [
      "(ext_offset=2175, offset=46.09375, width=-8.984375, repeat=14, type=NORMAL, fitness=2)\n",
      "[]\n"
     ]
    },
    {
     "name": "stderr",
     "output_type": "stream",
     "text": [
      "  2%|█▏                                                                         | 161/10000 [02:06<2:08:41,  1.27it/s]"
     ]
    },
    {
     "name": "stdout",
     "output_type": "stream",
     "text": [
      "(ext_offset=2175, offset=-46.09375, width=-12.890625, repeat=13, type=NORMAL, fitness=2)\n",
      "[]\n"
     ]
    },
    {
     "name": "stderr",
     "output_type": "stream",
     "text": [
      "  2%|█▏                                                                         | 162/10000 [02:07<2:08:41,  1.27it/s]"
     ]
    },
    {
     "name": "stdout",
     "output_type": "stream",
     "text": [
      "(ext_offset=2175, offset=42.96875, width=-7.03125, repeat=9, type=NORMAL, fitness=2)\n",
      "[]\n"
     ]
    },
    {
     "name": "stderr",
     "output_type": "stream",
     "text": [
      "  2%|█▏                                                                         | 163/10000 [02:07<2:08:37,  1.27it/s]"
     ]
    },
    {
     "name": "stdout",
     "output_type": "stream",
     "text": [
      "(ext_offset=2175, offset=-41.015625, width=-12.890625, repeat=15, type=NORMAL, fitness=2)\n",
      "[]\n"
     ]
    },
    {
     "name": "stderr",
     "output_type": "stream",
     "text": [
      "  2%|█▏                                                                         | 164/10000 [02:08<2:08:38,  1.27it/s]"
     ]
    },
    {
     "name": "stdout",
     "output_type": "stream",
     "text": [
      "(ext_offset=2175, offset=-12.890625, width=5.078125, repeat=14, type=NORMAL, fitness=2)\n",
      "[]\n"
     ]
    },
    {
     "name": "stderr",
     "output_type": "stream",
     "text": [
      "  2%|█▏                                                                         | 165/10000 [02:09<2:08:35,  1.27it/s]"
     ]
    },
    {
     "name": "stdout",
     "output_type": "stream",
     "text": [
      "(ext_offset=2175, offset=-3.125, width=14.0625, repeat=10, type=NORMAL, fitness=2)\n",
      "[]\n"
     ]
    },
    {
     "name": "stderr",
     "output_type": "stream",
     "text": [
      "  2%|█▏                                                                         | 166/10000 [02:10<2:08:36,  1.27it/s]"
     ]
    },
    {
     "name": "stdout",
     "output_type": "stream",
     "text": [
      "(ext_offset=2175, offset=-46.875, width=-12.890625, repeat=13, type=NORMAL, fitness=2)\n",
      "[]\n"
     ]
    },
    {
     "name": "stderr",
     "output_type": "stream",
     "text": [
      "  2%|█▎                                                                         | 167/10000 [02:11<2:08:36,  1.27it/s]"
     ]
    },
    {
     "name": "stdout",
     "output_type": "stream",
     "text": [
      "(ext_offset=2175, offset=42.1875, width=-5.859375, repeat=12, type=NORMAL, fitness=2)\n",
      "[]\n"
     ]
    },
    {
     "name": "stderr",
     "output_type": "stream",
     "text": [
      "  2%|█▎                                                                         | 168/10000 [02:11<2:08:36,  1.27it/s]"
     ]
    },
    {
     "name": "stdout",
     "output_type": "stream",
     "text": [
      "(ext_offset=2175, offset=-12.890625, width=3.125, repeat=11, type=NORMAL, fitness=2)\n",
      "[]\n"
     ]
    },
    {
     "name": "stderr",
     "output_type": "stream",
     "text": [
      "  2%|█▎                                                                         | 169/10000 [02:12<2:08:36,  1.27it/s]"
     ]
    },
    {
     "name": "stdout",
     "output_type": "stream",
     "text": [
      "(ext_offset=2175, offset=-46.09375, width=-12.890625, repeat=15, type=NORMAL, fitness=2)\n",
      "[]\n"
     ]
    },
    {
     "name": "stderr",
     "output_type": "stream",
     "text": [
      "  2%|█▎                                                                         | 170/10000 [02:13<2:08:32,  1.27it/s]"
     ]
    },
    {
     "name": "stdout",
     "output_type": "stream",
     "text": [
      "(ext_offset=2175, offset=-41.015625, width=-12.890625, repeat=13, type=NORMAL, fitness=2)\n",
      "[]\n"
     ]
    },
    {
     "name": "stderr",
     "output_type": "stream",
     "text": [
      "  2%|█▎                                                                         | 171/10000 [02:14<2:08:33,  1.27it/s]"
     ]
    },
    {
     "name": "stdout",
     "output_type": "stream",
     "text": [
      "(ext_offset=2175, offset=-46.09375, width=-12.890625, repeat=16, type=NORMAL, fitness=2)\n",
      "[]\n"
     ]
    },
    {
     "name": "stderr",
     "output_type": "stream",
     "text": [
      "  2%|█▎                                                                         | 172/10000 [02:14<2:08:33,  1.27it/s]"
     ]
    },
    {
     "name": "stdout",
     "output_type": "stream",
     "text": [
      "(ext_offset=2175, offset=-46.875, width=-12.890625, repeat=15, type=NORMAL, fitness=2)\n",
      "[]\n"
     ]
    },
    {
     "name": "stderr",
     "output_type": "stream",
     "text": [
      "  2%|█▎                                                                         | 173/10000 [02:15<2:08:32,  1.27it/s]"
     ]
    },
    {
     "name": "stdout",
     "output_type": "stream",
     "text": [
      "(ext_offset=2175, offset=39.84375, width=-3.125, repeat=15, type=NORMAL, fitness=2)\n",
      "[]\n"
     ]
    },
    {
     "name": "stderr",
     "output_type": "stream",
     "text": [
      "  2%|█▎                                                                         | 174/10000 [02:16<2:08:32,  1.27it/s]"
     ]
    },
    {
     "name": "stdout",
     "output_type": "stream",
     "text": [
      "(ext_offset=2175, offset=44.140625, width=-8.984375, repeat=17, type=NORMAL, fitness=2)\n",
      "[]\n"
     ]
    },
    {
     "name": "stderr",
     "output_type": "stream",
     "text": [
      "  2%|█▎                                                                         | 175/10000 [02:17<2:08:31,  1.27it/s]"
     ]
    },
    {
     "name": "stdout",
     "output_type": "stream",
     "text": [
      "(ext_offset=2175, offset=-41.015625, width=-12.890625, repeat=12, type=NORMAL, fitness=2)\n",
      "[]\n"
     ]
    },
    {
     "name": "stderr",
     "output_type": "stream",
     "text": [
      "  2%|█▎                                                                         | 176/10000 [02:18<2:08:28,  1.27it/s]"
     ]
    },
    {
     "name": "stdout",
     "output_type": "stream",
     "text": [
      "(ext_offset=2175, offset=42.1875, width=-5.859375, repeat=12, type=NORMAL, fitness=2)\n",
      "[]\n"
     ]
    },
    {
     "name": "stderr",
     "output_type": "stream",
     "text": [
      "  2%|█▎                                                                         | 177/10000 [02:18<2:08:28,  1.27it/s]"
     ]
    },
    {
     "name": "stdout",
     "output_type": "stream",
     "text": [
      "(ext_offset=2175, offset=42.96875, width=-7.03125, repeat=14, type=NORMAL, fitness=2)\n",
      "[]\n"
     ]
    },
    {
     "name": "stderr",
     "output_type": "stream",
     "text": [
      "  2%|█▎                                                                         | 178/10000 [02:19<2:08:28,  1.27it/s]"
     ]
    },
    {
     "name": "stdout",
     "output_type": "stream",
     "text": [
      "(ext_offset=2175, offset=42.96875, width=-7.03125, repeat=18, type=NORMAL, fitness=2)\n",
      "[]\n"
     ]
    },
    {
     "name": "stderr",
     "output_type": "stream",
     "text": [
      "  2%|█▎                                                                         | 179/10000 [02:20<2:08:28,  1.27it/s]"
     ]
    },
    {
     "name": "stdout",
     "output_type": "stream",
     "text": [
      "(ext_offset=2175, offset=42.96875, width=-7.03125, repeat=12, type=NORMAL, fitness=2)\n",
      "[]\n"
     ]
    },
    {
     "name": "stderr",
     "output_type": "stream",
     "text": [
      "  2%|█▎                                                                         | 180/10000 [02:21<2:08:27,  1.27it/s]"
     ]
    },
    {
     "name": "stdout",
     "output_type": "stream",
     "text": [
      "(ext_offset=2175, offset=42.1875, width=-5.859375, repeat=9, type=NORMAL, fitness=2)\n",
      "[]\n"
     ]
    },
    {
     "name": "stderr",
     "output_type": "stream",
     "text": [
      "  2%|█▎                                                                         | 181/10000 [02:22<2:08:18,  1.28it/s]"
     ]
    },
    {
     "name": "stdout",
     "output_type": "stream",
     "text": [
      "(ext_offset=2175, offset=-46.875, width=-12.109375, repeat=16, type=NORMAL, fitness=2)\n",
      "[]\n"
     ]
    },
    {
     "name": "stderr",
     "output_type": "stream",
     "text": [
      "  2%|█▎                                                                         | 182/10000 [02:22<2:08:20,  1.28it/s]"
     ]
    },
    {
     "name": "stdout",
     "output_type": "stream",
     "text": [
      "(ext_offset=2175, offset=44.140625, width=-8.984375, repeat=17, type=NORMAL, fitness=2)\n",
      "[]\n"
     ]
    },
    {
     "name": "stderr",
     "output_type": "stream",
     "text": [
      "  2%|█▎                                                                         | 183/10000 [02:23<2:08:18,  1.28it/s]"
     ]
    },
    {
     "name": "stdout",
     "output_type": "stream",
     "text": [
      "(ext_offset=2175, offset=3.125, width=8.984375, repeat=15, type=NORMAL, fitness=2)\n",
      "[]\n"
     ]
    },
    {
     "name": "stderr",
     "output_type": "stream",
     "text": [
      "  2%|█▍                                                                         | 184/10000 [02:24<2:08:20,  1.27it/s]"
     ]
    },
    {
     "name": "stdout",
     "output_type": "stream",
     "text": [
      "(ext_offset=2175, offset=-46.875, width=-12.890625, repeat=17, type=NORMAL, fitness=2)\n",
      "[]\n"
     ]
    },
    {
     "name": "stderr",
     "output_type": "stream",
     "text": [
      "  2%|█▍                                                                         | 185/10000 [02:25<2:08:20,  1.27it/s]"
     ]
    },
    {
     "name": "stdout",
     "output_type": "stream",
     "text": [
      "(ext_offset=2175, offset=-42.96875, width=-12.890625, repeat=13, type=NORMAL, fitness=2)\n",
      "[]\n"
     ]
    },
    {
     "name": "stderr",
     "output_type": "stream",
     "text": [
      "  2%|█▍                                                                         | 186/10000 [02:25<2:08:18,  1.27it/s]"
     ]
    },
    {
     "name": "stdout",
     "output_type": "stream",
     "text": [
      "(ext_offset=2175, offset=-46.09375, width=-12.890625, repeat=9, type=NORMAL, fitness=2)\n",
      "[]\n"
     ]
    },
    {
     "name": "stderr",
     "output_type": "stream",
     "text": [
      "  2%|█▍                                                                         | 187/10000 [02:26<2:08:19,  1.27it/s]"
     ]
    },
    {
     "name": "stdout",
     "output_type": "stream",
     "text": [
      "(ext_offset=2175, offset=3.125, width=8.984375, repeat=8, type=NORMAL, fitness=2)\n",
      "[]\n"
     ]
    },
    {
     "name": "stderr",
     "output_type": "stream",
     "text": [
      "  2%|█▍                                                                         | 188/10000 [02:27<2:08:16,  1.27it/s]"
     ]
    },
    {
     "name": "stdout",
     "output_type": "stream",
     "text": [
      "(ext_offset=2175, offset=46.09375, width=-8.984375, repeat=14, type=NORMAL, fitness=2)\n",
      "[]\n"
     ]
    },
    {
     "name": "stderr",
     "output_type": "stream",
     "text": [
      "  2%|█▍                                                                         | 189/10000 [02:28<2:08:17,  1.27it/s]"
     ]
    },
    {
     "name": "stdout",
     "output_type": "stream",
     "text": [
      "(ext_offset=2175, offset=-12.890625, width=5.078125, repeat=16, type=NORMAL, fitness=2)\n",
      "[]\n"
     ]
    },
    {
     "name": "stderr",
     "output_type": "stream",
     "text": [
      "  2%|█▍                                                                         | 190/10000 [02:29<2:08:17,  1.27it/s]"
     ]
    },
    {
     "name": "stdout",
     "output_type": "stream",
     "text": [
      "(ext_offset=2175, offset=7.03125, width=5.078125, repeat=13, type=NORMAL, fitness=2)\n",
      "[]\n"
     ]
    },
    {
     "name": "stderr",
     "output_type": "stream",
     "text": [
      "  2%|█▍                                                                         | 191/10000 [02:29<2:08:18,  1.27it/s]"
     ]
    },
    {
     "name": "stdout",
     "output_type": "stream",
     "text": [
      "(ext_offset=2175, offset=-3.125, width=14.0625, repeat=16, type=NORMAL, fitness=2)\n",
      "[]\n"
     ]
    },
    {
     "name": "stderr",
     "output_type": "stream",
     "text": [
      "  2%|█▍                                                                         | 192/10000 [02:30<2:08:17,  1.27it/s]"
     ]
    },
    {
     "name": "stdout",
     "output_type": "stream",
     "text": [
      "(ext_offset=2175, offset=44.140625, width=-8.984375, repeat=13, type=NORMAL, fitness=2)\n",
      "[]\n"
     ]
    },
    {
     "name": "stderr",
     "output_type": "stream",
     "text": [
      "  2%|█▍                                                                         | 193/10000 [02:31<2:08:17,  1.27it/s]"
     ]
    },
    {
     "name": "stdout",
     "output_type": "stream",
     "text": [
      "(ext_offset=2175, offset=44.140625, width=-8.984375, repeat=16, type=NORMAL, fitness=2)\n",
      "[]\n"
     ]
    },
    {
     "name": "stderr",
     "output_type": "stream",
     "text": [
      "  2%|█▍                                                                         | 194/10000 [02:32<2:08:11,  1.27it/s]"
     ]
    },
    {
     "name": "stdout",
     "output_type": "stream",
     "text": [
      "(ext_offset=2175, offset=3.125, width=8.984375, repeat=11, type=NORMAL, fitness=2)\n",
      "[]\n"
     ]
    },
    {
     "name": "stderr",
     "output_type": "stream",
     "text": [
      "  2%|█▍                                                                         | 195/10000 [02:33<2:08:12,  1.27it/s]"
     ]
    },
    {
     "name": "stdout",
     "output_type": "stream",
     "text": [
      "(ext_offset=2175, offset=-46.09375, width=-12.890625, repeat=9, type=NORMAL, fitness=2)\n",
      "[]\n"
     ]
    },
    {
     "name": "stderr",
     "output_type": "stream",
     "text": [
      "  2%|█▍                                                                         | 196/10000 [02:33<2:08:12,  1.27it/s]"
     ]
    },
    {
     "name": "stdout",
     "output_type": "stream",
     "text": [
      "(ext_offset=2175, offset=-3.125, width=14.0625, repeat=10, type=NORMAL, fitness=2)\n",
      "[]\n"
     ]
    },
    {
     "name": "stderr",
     "output_type": "stream",
     "text": [
      "  2%|█▍                                                                         | 197/10000 [02:34<2:08:12,  1.27it/s]"
     ]
    },
    {
     "name": "stdout",
     "output_type": "stream",
     "text": [
      "(ext_offset=2175, offset=46.09375, width=-8.984375, repeat=18, type=NORMAL, fitness=2)\n",
      "[]\n"
     ]
    },
    {
     "name": "stderr",
     "output_type": "stream",
     "text": [
      "  2%|█▍                                                                         | 198/10000 [02:35<2:08:12,  1.27it/s]"
     ]
    },
    {
     "name": "stdout",
     "output_type": "stream",
     "text": [
      "(ext_offset=2175, offset=3.125, width=8.984375, repeat=8, type=NORMAL, fitness=2)\n",
      "[]\n"
     ]
    },
    {
     "name": "stderr",
     "output_type": "stream",
     "text": [
      "  2%|█▍                                                                         | 199/10000 [02:36<2:08:12,  1.27it/s]"
     ]
    },
    {
     "name": "stdout",
     "output_type": "stream",
     "text": [
      "(ext_offset=2175, offset=-42.96875, width=-12.890625, repeat=15, type=NORMAL, fitness=2)\n",
      "[]\n"
     ]
    },
    {
     "name": "stderr",
     "output_type": "stream",
     "text": [
      "  2%|█▌                                                                         | 200/10000 [02:36<2:08:12,  1.27it/s]"
     ]
    },
    {
     "name": "stdout",
     "output_type": "stream",
     "text": [
      "(ext_offset=2175, offset=-46.875, width=-12.109375, repeat=11, type=NORMAL, fitness=2)\n",
      "[]\n"
     ]
    },
    {
     "name": "stderr",
     "output_type": "stream",
     "text": [
      "  2%|█▌                                                                         | 201/10000 [02:37<2:08:11,  1.27it/s]"
     ]
    },
    {
     "name": "stdout",
     "output_type": "stream",
     "text": [
      "(ext_offset=2175, offset=-41.015625, width=-12.890625, repeat=15, type=NORMAL, fitness=2)\n",
      "[]\n"
     ]
    },
    {
     "name": "stderr",
     "output_type": "stream",
     "text": [
      "  2%|█▌                                                                         | 202/10000 [02:38<2:08:10,  1.27it/s]"
     ]
    },
    {
     "name": "stdout",
     "output_type": "stream",
     "text": [
      "(ext_offset=2175, offset=-41.015625, width=-12.890625, repeat=9, type=NORMAL, fitness=2)\n",
      "[]\n"
     ]
    },
    {
     "name": "stderr",
     "output_type": "stream",
     "text": [
      "  2%|█▌                                                                         | 203/10000 [02:39<2:08:10,  1.27it/s]"
     ]
    },
    {
     "name": "stdout",
     "output_type": "stream",
     "text": [
      "(ext_offset=2175, offset=7.03125, width=5.078125, repeat=12, type=NORMAL, fitness=2)\n",
      "[]\n"
     ]
    },
    {
     "name": "stderr",
     "output_type": "stream",
     "text": [
      "  2%|█▌                                                                         | 204/10000 [02:40<2:08:09,  1.27it/s]"
     ]
    },
    {
     "name": "stdout",
     "output_type": "stream",
     "text": [
      "(ext_offset=2175, offset=-46.875, width=-12.109375, repeat=15, type=NORMAL, fitness=2)\n",
      "[]\n"
     ]
    },
    {
     "name": "stderr",
     "output_type": "stream",
     "text": [
      "  2%|█▌                                                                         | 205/10000 [02:40<2:08:08,  1.27it/s]"
     ]
    },
    {
     "name": "stdout",
     "output_type": "stream",
     "text": [
      "(ext_offset=2175, offset=44.140625, width=-8.984375, repeat=12, type=NORMAL, fitness=2)\n",
      "[]\n"
     ]
    },
    {
     "name": "stderr",
     "output_type": "stream",
     "text": [
      "  2%|█▌                                                                         | 206/10000 [02:41<2:08:08,  1.27it/s]"
     ]
    },
    {
     "name": "stdout",
     "output_type": "stream",
     "text": [
      "(ext_offset=2175, offset=46.09375, width=-8.984375, repeat=9, type=NORMAL, fitness=2)\n",
      "[]\n"
     ]
    },
    {
     "name": "stderr",
     "output_type": "stream",
     "text": [
      "  2%|█▌                                                                         | 207/10000 [02:42<2:08:07,  1.27it/s]"
     ]
    },
    {
     "name": "stdout",
     "output_type": "stream",
     "text": [
      "(ext_offset=2175, offset=-46.875, width=-12.109375, repeat=14, type=NORMAL, fitness=2)\n",
      "[]\n"
     ]
    },
    {
     "name": "stderr",
     "output_type": "stream",
     "text": [
      "  2%|█▌                                                                         | 208/10000 [02:43<2:08:06,  1.27it/s]"
     ]
    },
    {
     "name": "stdout",
     "output_type": "stream",
     "text": [
      "(ext_offset=2175, offset=3.125, width=8.984375, repeat=18, type=NORMAL, fitness=2)\n",
      "[]\n"
     ]
    },
    {
     "name": "stderr",
     "output_type": "stream",
     "text": [
      "  2%|█▌                                                                         | 209/10000 [02:44<2:07:59,  1.27it/s]"
     ]
    },
    {
     "name": "stdout",
     "output_type": "stream",
     "text": [
      "(ext_offset=2175, offset=44.140625, width=-8.984375, repeat=10, type=NORMAL, fitness=2)\n",
      "[]\n"
     ]
    },
    {
     "name": "stderr",
     "output_type": "stream",
     "text": [
      "  2%|█▌                                                                         | 210/10000 [02:44<2:08:00,  1.27it/s]"
     ]
    },
    {
     "name": "stdout",
     "output_type": "stream",
     "text": [
      "(ext_offset=2175, offset=42.96875, width=-7.03125, repeat=11, type=NORMAL, fitness=2)\n",
      "[]\n"
     ]
    },
    {
     "name": "stderr",
     "output_type": "stream",
     "text": [
      "  2%|█▌                                                                         | 211/10000 [02:45<2:07:58,  1.27it/s]"
     ]
    },
    {
     "name": "stdout",
     "output_type": "stream",
     "text": [
      "(ext_offset=2175, offset=-12.890625, width=3.125, repeat=18, type=NORMAL, fitness=2)\n",
      "[]\n"
     ]
    },
    {
     "name": "stderr",
     "output_type": "stream",
     "text": [
      "  2%|█▌                                                                         | 212/10000 [02:46<2:07:59,  1.27it/s]"
     ]
    },
    {
     "name": "stdout",
     "output_type": "stream",
     "text": [
      "(ext_offset=2175, offset=3.125, width=8.984375, repeat=9, type=NORMAL, fitness=2)\n",
      "[]\n"
     ]
    },
    {
     "name": "stderr",
     "output_type": "stream",
     "text": [
      "  2%|█▌                                                                         | 213/10000 [02:47<2:07:59,  1.27it/s]"
     ]
    },
    {
     "name": "stdout",
     "output_type": "stream",
     "text": [
      "(ext_offset=2175, offset=42.1875, width=-5.859375, repeat=16, type=NORMAL, fitness=2)\n",
      "[]\n"
     ]
    },
    {
     "name": "stderr",
     "output_type": "stream",
     "text": [
      "  2%|█▌                                                                         | 214/10000 [02:47<2:07:56,  1.27it/s]"
     ]
    },
    {
     "name": "stdout",
     "output_type": "stream",
     "text": [
      "(ext_offset=2175, offset=-42.96875, width=-12.890625, repeat=13, type=NORMAL, fitness=2)\n",
      "[]\n"
     ]
    },
    {
     "name": "stderr",
     "output_type": "stream",
     "text": [
      "  2%|█▌                                                                         | 215/10000 [02:48<2:07:57,  1.27it/s]"
     ]
    },
    {
     "name": "stdout",
     "output_type": "stream",
     "text": [
      "(ext_offset=2175, offset=42.1875, width=-5.859375, repeat=9, type=NORMAL, fitness=2)\n",
      "[]\n"
     ]
    },
    {
     "name": "stderr",
     "output_type": "stream",
     "text": [
      "  2%|█▌                                                                         | 216/10000 [02:49<2:07:55,  1.27it/s]"
     ]
    },
    {
     "name": "stdout",
     "output_type": "stream",
     "text": [
      "(ext_offset=2175, offset=-3.125, width=14.0625, repeat=18, type=NORMAL, fitness=2)\n",
      "[]\n"
     ]
    },
    {
     "name": "stderr",
     "output_type": "stream",
     "text": [
      "  2%|█▋                                                                         | 217/10000 [02:50<2:07:55,  1.27it/s]"
     ]
    },
    {
     "name": "stdout",
     "output_type": "stream",
     "text": [
      "(ext_offset=2175, offset=-46.09375, width=-12.890625, repeat=10, type=NORMAL, fitness=2)\n",
      "[]\n"
     ]
    },
    {
     "name": "stderr",
     "output_type": "stream",
     "text": [
      "  2%|█▋                                                                         | 218/10000 [02:51<2:07:56,  1.27it/s]"
     ]
    },
    {
     "name": "stdout",
     "output_type": "stream",
     "text": [
      "(ext_offset=2175, offset=42.1875, width=-5.859375, repeat=8, type=NORMAL, fitness=2)\n",
      "[]\n"
     ]
    },
    {
     "name": "stderr",
     "output_type": "stream",
     "text": [
      "  2%|█▋                                                                         | 219/10000 [02:51<2:07:56,  1.27it/s]"
     ]
    },
    {
     "name": "stdout",
     "output_type": "stream",
     "text": [
      "(ext_offset=2175, offset=-41.015625, width=-12.890625, repeat=12, type=NORMAL, fitness=2)\n",
      "[]\n"
     ]
    },
    {
     "name": "stderr",
     "output_type": "stream",
     "text": [
      "  2%|█▋                                                                         | 220/10000 [02:52<2:07:55,  1.27it/s]"
     ]
    },
    {
     "name": "stdout",
     "output_type": "stream",
     "text": [
      "(ext_offset=2175, offset=42.96875, width=-7.03125, repeat=15, type=NORMAL, fitness=2)\n",
      "[]\n"
     ]
    },
    {
     "name": "stderr",
     "output_type": "stream",
     "text": [
      "  2%|█▋                                                                         | 221/10000 [02:53<2:07:52,  1.27it/s]"
     ]
    },
    {
     "name": "stdout",
     "output_type": "stream",
     "text": [
      "(ext_offset=2176, offset=42.1875, width=-5.859375, repeat=16, type=NORMAL, fitness=2)\n",
      "[]\n"
     ]
    },
    {
     "name": "stderr",
     "output_type": "stream",
     "text": [
      "  2%|█▋                                                                         | 222/10000 [02:54<2:07:52,  1.27it/s]"
     ]
    },
    {
     "name": "stdout",
     "output_type": "stream",
     "text": [
      "(ext_offset=2176, offset=-46.09375, width=-12.890625, repeat=8, type=NORMAL, fitness=2)\n",
      "[]\n"
     ]
    },
    {
     "name": "stderr",
     "output_type": "stream",
     "text": [
      "  2%|█▋                                                                         | 223/10000 [02:55<2:07:52,  1.27it/s]"
     ]
    },
    {
     "name": "stdout",
     "output_type": "stream",
     "text": [
      "(ext_offset=2176, offset=-3.125, width=14.0625, repeat=15, type=NORMAL, fitness=2)\n",
      "[]\n"
     ]
    },
    {
     "name": "stderr",
     "output_type": "stream",
     "text": [
      "  2%|█▋                                                                         | 224/10000 [02:55<2:07:52,  1.27it/s]"
     ]
    },
    {
     "name": "stdout",
     "output_type": "stream",
     "text": [
      "(ext_offset=2176, offset=-46.09375, width=-12.890625, repeat=16, type=NORMAL, fitness=2)\n",
      "[]\n"
     ]
    },
    {
     "name": "stderr",
     "output_type": "stream",
     "text": [
      "  2%|█▋                                                                         | 225/10000 [02:56<2:07:52,  1.27it/s]"
     ]
    },
    {
     "name": "stdout",
     "output_type": "stream",
     "text": [
      "(ext_offset=2176, offset=42.1875, width=-5.859375, repeat=17, type=NORMAL, fitness=2)\n",
      "[]\n"
     ]
    },
    {
     "name": "stderr",
     "output_type": "stream",
     "text": [
      "  2%|█▋                                                                         | 226/10000 [02:57<2:07:51,  1.27it/s]"
     ]
    },
    {
     "name": "stdout",
     "output_type": "stream",
     "text": [
      "(ext_offset=2176, offset=-46.875, width=-12.109375, repeat=9, type=NORMAL, fitness=2)\n",
      "[]\n"
     ]
    },
    {
     "name": "stderr",
     "output_type": "stream",
     "text": [
      "  2%|█▋                                                                         | 227/10000 [02:58<2:07:51,  1.27it/s]"
     ]
    },
    {
     "name": "stdout",
     "output_type": "stream",
     "text": [
      "(ext_offset=2176, offset=-46.875, width=-12.109375, repeat=14, type=NORMAL, fitness=2)\n",
      "[]\n"
     ]
    },
    {
     "name": "stderr",
     "output_type": "stream",
     "text": [
      "  2%|█▋                                                                         | 228/10000 [02:58<2:07:50,  1.27it/s]"
     ]
    },
    {
     "name": "stdout",
     "output_type": "stream",
     "text": [
      "(ext_offset=2176, offset=42.1875, width=-5.859375, repeat=10, type=NORMAL, fitness=2)\n",
      "[]\n"
     ]
    },
    {
     "name": "stderr",
     "output_type": "stream",
     "text": [
      "  2%|█▋                                                                         | 229/10000 [02:59<2:07:49,  1.27it/s]"
     ]
    },
    {
     "name": "stdout",
     "output_type": "stream",
     "text": [
      "(ext_offset=2176, offset=-3.125, width=14.0625, repeat=14, type=NORMAL, fitness=2)\n",
      "[]\n"
     ]
    },
    {
     "name": "stderr",
     "output_type": "stream",
     "text": [
      "  2%|█▋                                                                         | 230/10000 [03:00<2:07:49,  1.27it/s]"
     ]
    },
    {
     "name": "stdout",
     "output_type": "stream",
     "text": [
      "(ext_offset=2176, offset=-46.875, width=-12.109375, repeat=10, type=NORMAL, fitness=2)\n",
      "[]\n"
     ]
    },
    {
     "name": "stderr",
     "output_type": "stream",
     "text": [
      "  2%|█▋                                                                         | 231/10000 [03:01<2:07:48,  1.27it/s]"
     ]
    },
    {
     "name": "stdout",
     "output_type": "stream",
     "text": [
      "(ext_offset=2176, offset=-12.890625, width=3.125, repeat=9, type=NORMAL, fitness=2)\n",
      "[]\n"
     ]
    },
    {
     "name": "stderr",
     "output_type": "stream",
     "text": [
      "  2%|█▋                                                                         | 232/10000 [03:02<2:07:41,  1.27it/s]"
     ]
    },
    {
     "name": "stdout",
     "output_type": "stream",
     "text": [
      "(ext_offset=2176, offset=-46.875, width=-12.890625, repeat=13, type=NORMAL, fitness=2)\n",
      "[]\n"
     ]
    },
    {
     "name": "stderr",
     "output_type": "stream",
     "text": [
      "  2%|█▋                                                                         | 232/10000 [03:02<2:08:14,  1.27it/s]\n"
     ]
    },
    {
     "ename": "USBErrorNoDevice",
     "evalue": "LIBUSB_ERROR_NO_DEVICE [-4]",
     "output_type": "error",
     "traceback": [
      "\u001b[31m---------------------------------------------------------------------------\u001b[39m",
      "\u001b[31mUSBErrorNoDevice\u001b[39m                          Traceback (most recent call last)",
      "\u001b[36mCell\u001b[39m\u001b[36m \u001b[39m\u001b[32mIn[13]\u001b[39m\u001b[32m, line 2\u001b[39m\n\u001b[32m      1\u001b[39m cache = OrderedDict()\n\u001b[32m----> \u001b[39m\u001b[32m2\u001b[39m \u001b[43mevaluate_batch\u001b[49m\u001b[43m(\u001b[49m\u001b[43mcsidh\u001b[49m\u001b[43m,\u001b[49m\u001b[43m \u001b[49m\u001b[43mbatch\u001b[49m\u001b[43m)\u001b[49m\n\u001b[32m      3\u001b[39m write_cache_to_file(\u001b[33mf\u001b[39m\u001b[33m\"\u001b[39m\u001b[33mcwlitearm-xISOG-5-isogeny-skip-test.json\u001b[39m\u001b[33m\"\u001b[39m, cache, \u001b[32m1\u001b[39m, \u001b[38;5;28mlen\u001b[39m(batch), -\u001b[32m1\u001b[39m)   \n",
      "\u001b[36mCell\u001b[39m\u001b[36m \u001b[39m\u001b[32mIn[10]\u001b[39m\u001b[32m, line 90\u001b[39m, in \u001b[36mevaluate_batch\u001b[39m\u001b[34m(csidh, population)\u001b[39m\n\u001b[32m     87\u001b[39m         unit.fitness = cache[unit]\n\u001b[32m     89\u001b[39m \u001b[38;5;28;01mfor\u001b[39;00m unit \u001b[38;5;129;01min\u001b[39;00m tqdm(to_visit):\n\u001b[32m---> \u001b[39m\u001b[32m90\u001b[39m     \u001b[43mevaluate_unit\u001b[49m\u001b[43m(\u001b[49m\u001b[43mcsidh\u001b[49m\u001b[43m,\u001b[49m\u001b[43m \u001b[49m\u001b[43munit\u001b[49m\u001b[43m)\u001b[49m\n\u001b[32m     92\u001b[39m \u001b[38;5;28;01mreturn\u001b[39;00m [u.fitness \u001b[38;5;28;01mfor\u001b[39;00m u \u001b[38;5;129;01min\u001b[39;00m population]\n",
      "\u001b[36mCell\u001b[39m\u001b[36m \u001b[39m\u001b[32mIn[10]\u001b[39m\u001b[32m, line 33\u001b[39m, in \u001b[36mevaluate_unit\u001b[39m\u001b[34m(csidh, unit, num_measurements)\u001b[39m\n\u001b[32m     31\u001b[39m csidh.scope.arm()\n\u001b[32m     32\u001b[39m ret = csidh.action()\n\u001b[32m---> \u001b[39m\u001b[32m33\u001b[39m \u001b[43mcsidh\u001b[49m\u001b[43m.\u001b[49m\u001b[43mscope\u001b[49m\u001b[43m.\u001b[49m\u001b[43mio\u001b[49m\u001b[43m.\u001b[49m\u001b[43mvglitch_reset\u001b[49m\u001b[43m(\u001b[49m\u001b[43m)\u001b[49m\n\u001b[32m     34\u001b[39m \u001b[38;5;28;01mif\u001b[39;00m ret:\n\u001b[32m     35\u001b[39m     logging.error(\u001b[33m\"\u001b[39m\u001b[33mTimeout happened during acquisition\u001b[39m\u001b[33m\"\u001b[39m)\n",
      "\u001b[36mFile \u001b[39m\u001b[32m~/Documents/git/csidh-setup/_build/pip_packages/lib/python3.11/site-packages/chipwhisperer/capture/scopes/cwhardware/ChipWhispererExtra.py:1320\u001b[39m, in \u001b[36mGPIOSettings.vglitch_reset\u001b[39m\u001b[34m(self, delay)\u001b[39m\n\u001b[32m   1317\u001b[39m \u001b[38;5;28;01mdef\u001b[39;00m\u001b[38;5;250m \u001b[39m\u001b[34mvglitch_reset\u001b[39m(\u001b[38;5;28mself\u001b[39m, delay=\u001b[32m0.005\u001b[39m):\n\u001b[32m   1318\u001b[39m \u001b[38;5;250m    \u001b[39m\u001b[33;03m\"\"\"Disables and reenables the glitch mosfets that were previously enabled.\u001b[39;00m\n\u001b[32m   1319\u001b[39m \u001b[33;03m    \"\"\"\u001b[39;00m\n\u001b[32m-> \u001b[39m\u001b[32m1320\u001b[39m     \u001b[38;5;28;43mself\u001b[39;49m\u001b[43m.\u001b[49m\u001b[43mcwe\u001b[49m\u001b[43m.\u001b[49m\u001b[43mvglitch_reset\u001b[49m\u001b[43m(\u001b[49m\u001b[43mdelay\u001b[49m\u001b[43m)\u001b[49m\n",
      "\u001b[36mFile \u001b[39m\u001b[32m~/Documents/git/csidh-setup/_build/pip_packages/lib/python3.11/site-packages/chipwhisperer/capture/scopes/cwhardware/ChipWhispererExtra.py:478\u001b[39m, in \u001b[36mCWExtraSettings.vglitch_reset\u001b[39m\u001b[34m(self, delay)\u001b[39m\n\u001b[32m    470\u001b[39m \u001b[38;5;28;01mdef\u001b[39;00m\u001b[38;5;250m \u001b[39m\u001b[34mvglitch_reset\u001b[39m(\u001b[38;5;28mself\u001b[39m, delay):\n\u001b[32m    471\u001b[39m \u001b[38;5;250m    \u001b[39m\u001b[33;03m\"\"\"Disables and reenables the VCC glitch mosfets that were previously enabled.\u001b[39;00m\n\u001b[32m    472\u001b[39m \n\u001b[32m    473\u001b[39m \u001b[33;03m    TODO: Would be nice to have this as firmware API call.\u001b[39;00m\n\u001b[32m   (...)\u001b[39m\u001b[32m    476\u001b[39m \u001b[33;03m        The updated IOROUTE state.\u001b[39;00m\n\u001b[32m    477\u001b[39m \u001b[33;03m    \"\"\"\u001b[39;00m\n\u001b[32m--> \u001b[39m\u001b[32m478\u001b[39m     data = \u001b[38;5;28;43mself\u001b[39;49m\u001b[43m.\u001b[49m\u001b[43mread_ioroute\u001b[49m\u001b[43m(\u001b[49m\u001b[43m)\u001b[49m\n\u001b[32m    479\u001b[39m     d4 = data[\u001b[32m4\u001b[39m]\n\u001b[32m    481\u001b[39m     data[\u001b[32m4\u001b[39m] = d4 & \u001b[38;5;28mself\u001b[39m.GLITCH_OUT_CLR\n",
      "\u001b[36mFile \u001b[39m\u001b[32m~/Documents/git/csidh-setup/_build/pip_packages/lib/python3.11/site-packages/chipwhisperer/capture/scopes/cwhardware/ChipWhispererExtra.py:204\u001b[39m, in \u001b[36mCWExtraSettings.read_ioroute\u001b[39m\u001b[34m(self)\u001b[39m\n\u001b[32m    198\u001b[39m \u001b[38;5;28;01mdef\u001b[39;00m\u001b[38;5;250m \u001b[39m\u001b[34mread_ioroute\u001b[39m(\u001b[38;5;28mself\u001b[39m):\n\u001b[32m    199\u001b[39m \u001b[38;5;250m    \u001b[39m\u001b[33;03m\"\"\"Reads the IOROUTE device state.\u001b[39;00m\n\u001b[32m    200\u001b[39m \n\u001b[32m    201\u001b[39m \u001b[33;03m    Return:\u001b[39;00m\n\u001b[32m    202\u001b[39m \u001b[33;03m        bytearray representing the IOROUTE state.\u001b[39;00m\n\u001b[32m    203\u001b[39m \u001b[33;03m    \"\"\"\u001b[39;00m\n\u001b[32m--> \u001b[39m\u001b[32m204\u001b[39m     \u001b[38;5;28;01mreturn\u001b[39;00m \u001b[38;5;28;43mself\u001b[39;49m\u001b[43m.\u001b[49m\u001b[43moa\u001b[49m\u001b[43m.\u001b[49m\u001b[43mmsg_read\u001b[49m\u001b[43m(\u001b[49m\u001b[33;43m\"\u001b[39;49m\u001b[33;43mCW_IOROUTE_ADDR\u001b[39;49m\u001b[33;43m\"\u001b[39;49m\u001b[43m,\u001b[49m\u001b[43m \u001b[49m\u001b[43mmax_resp\u001b[49m\u001b[43m=\u001b[49m\u001b[32;43m8\u001b[39;49m\u001b[43m)\u001b[49m\n",
      "\u001b[36mFile \u001b[39m\u001b[32m~/Documents/git/csidh-setup/_build/pip_packages/lib/python3.11/site-packages/chipwhisperer/capture/scopes/_OpenADCInterface.py:212\u001b[39m, in \u001b[36mOpenADCInterface.msg_read\u001b[39m\u001b[34m(self, address, max_resp)\u001b[39m\n\u001b[32m    209\u001b[39m         scope_logger.warning(\u001b[33m\"\u001b[39m\u001b[33mThe error trace below will show you what led to this:\u001b[39m\u001b[33m\"\u001b[39m)\n\u001b[32m    210\u001b[39m         \u001b[38;5;28;01mraise\u001b[39;00m \u001b[38;5;167;01mValueError\u001b[39;00m\n\u001b[32m--> \u001b[39m\u001b[32m212\u001b[39m     data = \u001b[38;5;28;43mself\u001b[39;49m\u001b[43m.\u001b[49m\u001b[43mserial\u001b[49m\u001b[43m.\u001b[49m\u001b[43mcmdReadMem\u001b[49m\u001b[43m(\u001b[49m\u001b[43maddress\u001b[49m\u001b[43m,\u001b[49m\u001b[43m \u001b[49m\u001b[43mmax_resp\u001b[49m\u001b[43m)\u001b[49m\n\u001b[32m    213\u001b[39m \u001b[38;5;28;01melse\u001b[39;00m:\n\u001b[32m    214\u001b[39m     \u001b[38;5;28mself\u001b[39m._send_msg_hdr(CODE_READ, address, \u001b[32m0\u001b[39m)\n",
      "\u001b[36mFile \u001b[39m\u001b[32m~/Documents/git/csidh-setup/_build/pip_packages/lib/python3.11/site-packages/chipwhisperer/hardware/naeusb/naeusb.py:864\u001b[39m, in \u001b[36mNAEUSB.cmdReadMem\u001b[39m\u001b[34m(self, addr, dlen)\u001b[39m\n\u001b[32m    858\u001b[39m \u001b[38;5;28;01mdef\u001b[39;00m\u001b[38;5;250m \u001b[39m\u001b[34mcmdReadMem\u001b[39m(\u001b[38;5;28mself\u001b[39m, addr : \u001b[38;5;28mint\u001b[39m, dlen : \u001b[38;5;28mint\u001b[39m) -> \u001b[38;5;28mbytearray\u001b[39m:\n\u001b[32m    859\u001b[39m \u001b[38;5;250m    \u001b[39m\u001b[33;03m\"\"\"\u001b[39;00m\n\u001b[32m    860\u001b[39m \u001b[33;03m    Send command to read over external memory interface from FPGA. Automatically\u001b[39;00m\n\u001b[32m    861\u001b[39m \u001b[33;03m    decides to use control-transfer or bulk-endpoint transfer based on data length.\u001b[39;00m\n\u001b[32m    862\u001b[39m \u001b[33;03m    \"\"\"\u001b[39;00m\n\u001b[32m--> \u001b[39m\u001b[32m864\u001b[39m     \u001b[38;5;28;01mreturn\u001b[39;00m \u001b[38;5;28;43mself\u001b[39;49m\u001b[43m.\u001b[49m\u001b[43musbserializer\u001b[49m\u001b[43m.\u001b[49m\u001b[43mcmdReadMem\u001b[49m\u001b[43m(\u001b[49m\u001b[43maddr\u001b[49m\u001b[43m,\u001b[49m\u001b[43m \u001b[49m\u001b[43mdlen\u001b[49m\u001b[43m)\u001b[49m\n",
      "\u001b[36mFile \u001b[39m\u001b[32m~/Documents/git/csidh-setup/_build/pip_packages/lib/python3.11/site-packages/chipwhisperer/hardware/naeusb/naeusb.py:610\u001b[39m, in \u001b[36mNAEUSB_Backend.cmdReadMem\u001b[39m\u001b[34m(self, addr, dlen)\u001b[39m\n\u001b[32m    608\u001b[39m dlen = \u001b[38;5;28mint\u001b[39m(dlen)\n\u001b[32m    609\u001b[39m \u001b[38;5;28;01mif\u001b[39;00m dlen < NAEUSB_CTRL_IO_THRESHOLD:\n\u001b[32m--> \u001b[39m\u001b[32m610\u001b[39m     data = \u001b[38;5;28;43mself\u001b[39;49m\u001b[43m.\u001b[49m\u001b[43m_cmd_readmem_ctrl\u001b[49m\u001b[43m(\u001b[49m\u001b[43maddr\u001b[49m\u001b[43m,\u001b[49m\u001b[43m \u001b[49m\u001b[43mdlen\u001b[49m\u001b[43m)\u001b[49m\n\u001b[32m    611\u001b[39m \u001b[38;5;28;01melse\u001b[39;00m:\n\u001b[32m    612\u001b[39m     data = \u001b[38;5;28mself\u001b[39m._cmd_readmem_bulk(addr, dlen)\n",
      "\u001b[36mFile \u001b[39m\u001b[32m~/Documents/git/csidh-setup/_build/pip_packages/lib/python3.11/site-packages/chipwhisperer/hardware/naeusb/naeusb.py:591\u001b[39m, in \u001b[36mNAEUSB_Backend._cmd_readmem_ctrl\u001b[39m\u001b[34m(self, addr, dlen)\u001b[39m\n\u001b[32m    585\u001b[39m \u001b[38;5;28;01mdef\u001b[39;00m\u001b[38;5;250m \u001b[39m\u001b[34m_cmd_readmem_ctrl\u001b[39m(\u001b[38;5;28mself\u001b[39m, addr : \u001b[38;5;28mint\u001b[39m, dlen : \u001b[38;5;28mint\u001b[39m):\n\u001b[32m    586\u001b[39m \u001b[38;5;250m    \u001b[39m\u001b[33;03m\"\"\"Reads data from the external memory interface over the control-transfer endpoint.\u001b[39;00m\n\u001b[32m    587\u001b[39m \n\u001b[32m    588\u001b[39m \u001b[33;03m    Returns:\u001b[39;00m\n\u001b[32m    589\u001b[39m \u001b[33;03m        The received data.\u001b[39;00m\n\u001b[32m    590\u001b[39m \u001b[33;03m    \"\"\"\u001b[39;00m\n\u001b[32m--> \u001b[39m\u001b[32m591\u001b[39m     \u001b[38;5;28;43mself\u001b[39;49m\u001b[43m.\u001b[49m\u001b[43m_cmd_ctrl_send_header\u001b[49m\u001b[43m(\u001b[49m\u001b[43maddr\u001b[49m\u001b[43m,\u001b[49m\u001b[43m \u001b[49m\u001b[43mdlen\u001b[49m\u001b[43m,\u001b[49m\u001b[43m \u001b[49m\u001b[38;5;28;43mself\u001b[39;49m\u001b[43m.\u001b[49m\u001b[43mCMD_READMEM_CTRL\u001b[49m\u001b[43m)\u001b[49m;\n\u001b[32m    592\u001b[39m     \u001b[38;5;28;01mreturn\u001b[39;00m \u001b[38;5;28mself\u001b[39m.readCtrl(\u001b[38;5;28mself\u001b[39m.CMD_READMEM_CTRL, dlen=dlen)\n",
      "\u001b[36mFile \u001b[39m\u001b[32m~/Documents/git/csidh-setup/_build/pip_packages/lib/python3.11/site-packages/chipwhisperer/hardware/naeusb/naeusb.py:583\u001b[39m, in \u001b[36mNAEUSB_Backend._cmd_ctrl_send_header\u001b[39m\u001b[34m(self, addr, dlen, cmd)\u001b[39m\n\u001b[32m    581\u001b[39m \u001b[38;5;66;03m# TODO: Alloc header class member? Won't hafta alloc mem every read and writectrl call...\u001b[39;00m\n\u001b[32m    582\u001b[39m pload = make_len_addr(dlen, addr)\n\u001b[32m--> \u001b[39m\u001b[32m583\u001b[39m \u001b[38;5;28;43mself\u001b[39;49m\u001b[43m.\u001b[49m\u001b[43m_cmd_ctrl_send_data\u001b[49m\u001b[43m(\u001b[49m\u001b[43mpload\u001b[49m\u001b[43m,\u001b[49m\u001b[43m \u001b[49m\u001b[43mcmd\u001b[49m\u001b[43m)\u001b[49m\n",
      "\u001b[36mFile \u001b[39m\u001b[32m~/Documents/git/csidh-setup/_build/pip_packages/lib/python3.11/site-packages/chipwhisperer/hardware/naeusb/naeusb.py:572\u001b[39m, in \u001b[36mNAEUSB_Backend._cmd_ctrl_send_data\u001b[39m\u001b[34m(self, pload, cmd)\u001b[39m\n\u001b[32m    568\u001b[39m \u001b[38;5;250m\u001b[39m\u001b[33;03m\"\"\"Sends data over the control-transfer channel and attempts a pipe error fix if an initial\u001b[39;00m\n\u001b[32m    569\u001b[39m \u001b[33;03merror occured.\u001b[39;00m\n\u001b[32m    570\u001b[39m \u001b[33;03m\"\"\"\u001b[39;00m\n\u001b[32m    571\u001b[39m \u001b[38;5;28;01mtry\u001b[39;00m:\n\u001b[32m--> \u001b[39m\u001b[32m572\u001b[39m     \u001b[38;5;28;43mself\u001b[39;49m\u001b[43m.\u001b[49m\u001b[43msendCtrl\u001b[49m\u001b[43m(\u001b[49m\u001b[43mcmd\u001b[49m\u001b[43m,\u001b[49m\u001b[43m \u001b[49m\u001b[43mdata\u001b[49m\u001b[43m=\u001b[49m\u001b[43mpload\u001b[49m\u001b[43m)\u001b[49m\n\u001b[32m    573\u001b[39m \u001b[38;5;28;01mexcept\u001b[39;00m usb1.USBErrorPipe:\n\u001b[32m    574\u001b[39m     naeusb_logger.info(\u001b[33m\"\u001b[39m\u001b[33mAttempting pipe error fix - typically safe to ignore\u001b[39m\u001b[33m\"\u001b[39m)\n",
      "\u001b[36mFile \u001b[39m\u001b[32m~/Documents/git/csidh-setup/_build/pip_packages/lib/python3.11/site-packages/chipwhisperer/hardware/naeusb/naeusb.py:526\u001b[39m, in \u001b[36mNAEUSB_Backend.sendCtrl\u001b[39m\u001b[34m(self, cmd, value, data)\u001b[39m\n\u001b[32m    524\u001b[39m \u001b[38;5;28;01mif\u001b[39;00m \u001b[38;5;28mlen\u001b[39m(data) > NAEUSB_CTRL_IO_MAX:\n\u001b[32m    525\u001b[39m     naeusb_logger.error(\u001b[33m\"\u001b[39m\u001b[33mThe naeusb fw ctrl buffer is 128 bytes, but len(data) > 128. If you get a pipe error, this is why.\u001b[39m\u001b[33m\"\u001b[39m)\n\u001b[32m--> \u001b[39m\u001b[32m526\u001b[39m \u001b[38;5;28;43mself\u001b[39;49m\u001b[43m.\u001b[49m\u001b[43mhandle\u001b[49m\u001b[43m.\u001b[49m\u001b[43mcontrolWrite\u001b[49m\u001b[43m(\u001b[49m\u001b[32;43m0x41\u001b[39;49m\u001b[43m,\u001b[49m\u001b[43m \u001b[49m\u001b[43mcmd\u001b[49m\u001b[43m,\u001b[49m\u001b[43m \u001b[49m\u001b[43mvalue\u001b[49m\u001b[43m,\u001b[49m\u001b[43m \u001b[49m\u001b[32;43m0\u001b[39;49m\u001b[43m,\u001b[49m\u001b[43m \u001b[49m\u001b[43mdata\u001b[49m\u001b[43m,\u001b[49m\u001b[43m \u001b[49m\u001b[43mtimeout\u001b[49m\u001b[43m=\u001b[49m\u001b[38;5;28;43mself\u001b[39;49m\u001b[43m.\u001b[49m\u001b[43m_timeout\u001b[49m\u001b[43m)\u001b[49m\n",
      "\u001b[36mFile \u001b[39m\u001b[32m~/Documents/git/csidh-setup/_build/pip_packages/lib/python3.11/site-packages/usb1/__init__.py:1406\u001b[39m, in \u001b[36mUSBDeviceHandle.controlWrite\u001b[39m\u001b[34m(self, request_type, request, value, index, data, timeout)\u001b[39m\n\u001b[32m   1404\u001b[39m \u001b[38;5;66;03m# pylint: enable=undefined-variable\u001b[39;00m\n\u001b[32m   1405\u001b[39m data, _ = create_initialised_buffer(data)\n\u001b[32m-> \u001b[39m\u001b[32m1406\u001b[39m \u001b[38;5;28;01mreturn\u001b[39;00m \u001b[38;5;28;43mself\u001b[39;49m\u001b[43m.\u001b[49m\u001b[43m_controlTransfer\u001b[49m\u001b[43m(\u001b[49m\u001b[43mrequest_type\u001b[49m\u001b[43m,\u001b[49m\u001b[43m \u001b[49m\u001b[43mrequest\u001b[49m\u001b[43m,\u001b[49m\u001b[43m \u001b[49m\u001b[43mvalue\u001b[49m\u001b[43m,\u001b[49m\u001b[43m \u001b[49m\u001b[43mindex\u001b[49m\u001b[43m,\u001b[49m\u001b[43m \u001b[49m\u001b[43mdata\u001b[49m\u001b[43m,\u001b[49m\n\u001b[32m   1407\u001b[39m \u001b[43m                             \u001b[49m\u001b[43msizeof\u001b[49m\u001b[43m(\u001b[49m\u001b[43mdata\u001b[49m\u001b[43m)\u001b[49m\u001b[43m,\u001b[49m\u001b[43m \u001b[49m\u001b[43mtimeout\u001b[49m\u001b[43m)\u001b[49m\n",
      "\u001b[36mFile \u001b[39m\u001b[32m~/Documents/git/csidh-setup/_build/pip_packages/lib/python3.11/site-packages/usb1/__init__.py:1383\u001b[39m, in \u001b[36mUSBDeviceHandle._controlTransfer\u001b[39m\u001b[34m(self, request_type, request, value, index, data, length, timeout)\u001b[39m\n\u001b[32m   1377\u001b[39m \u001b[38;5;28;01mdef\u001b[39;00m\u001b[38;5;250m \u001b[39m\u001b[34m_controlTransfer\u001b[39m(\n\u001b[32m   1378\u001b[39m         \u001b[38;5;28mself\u001b[39m, request_type, request, value, index, data, length, timeout):\n\u001b[32m   1379\u001b[39m     result = libusb1.libusb_control_transfer(\n\u001b[32m   1380\u001b[39m         \u001b[38;5;28mself\u001b[39m.__handle, request_type, request, value, index, data, length,\n\u001b[32m   1381\u001b[39m         timeout,\n\u001b[32m   1382\u001b[39m     )\n\u001b[32m-> \u001b[39m\u001b[32m1383\u001b[39m     \u001b[43mmayRaiseUSBError\u001b[49m\u001b[43m(\u001b[49m\u001b[43mresult\u001b[49m\u001b[43m)\u001b[49m\n\u001b[32m   1384\u001b[39m     \u001b[38;5;28;01mreturn\u001b[39;00m result\n",
      "\u001b[36mFile \u001b[39m\u001b[32m~/Documents/git/csidh-setup/_build/pip_packages/lib/python3.11/site-packages/usb1/__init__.py:129\u001b[39m, in \u001b[36mmayRaiseUSBError\u001b[39m\u001b[34m(value, __raiseUSBError)\u001b[39m\n\u001b[32m    123\u001b[39m \u001b[38;5;28;01mdef\u001b[39;00m\u001b[38;5;250m \u001b[39m\u001b[34mmayRaiseUSBError\u001b[39m(\n\u001b[32m    124\u001b[39m         value,\n\u001b[32m    125\u001b[39m         \u001b[38;5;66;03m# Avoid globals lookup on call to work during interpreter shutdown.\u001b[39;00m\n\u001b[32m    126\u001b[39m         __raiseUSBError=raiseUSBError,\n\u001b[32m    127\u001b[39m     ):\n\u001b[32m    128\u001b[39m     \u001b[38;5;28;01mif\u001b[39;00m value < \u001b[32m0\u001b[39m:\n\u001b[32m--> \u001b[39m\u001b[32m129\u001b[39m         \u001b[43m__raiseUSBError\u001b[49m\u001b[43m(\u001b[49m\u001b[43mvalue\u001b[49m\u001b[43m)\u001b[49m\n\u001b[32m    130\u001b[39m     \u001b[38;5;28;01mreturn\u001b[39;00m value\n",
      "\u001b[36mFile \u001b[39m\u001b[32m~/Documents/git/csidh-setup/_build/pip_packages/lib/python3.11/site-packages/usb1/__init__.py:121\u001b[39m, in \u001b[36mraiseUSBError\u001b[39m\u001b[34m(value, __STATUS_TO_EXCEPTION_DICT, __USBError)\u001b[39m\n\u001b[32m    115\u001b[39m \u001b[38;5;28;01mdef\u001b[39;00m\u001b[38;5;250m \u001b[39m\u001b[34mraiseUSBError\u001b[39m(\n\u001b[32m    116\u001b[39m         value,\n\u001b[32m    117\u001b[39m         \u001b[38;5;66;03m# Avoid globals lookup on call to work during interpreter shutdown.\u001b[39;00m\n\u001b[32m    118\u001b[39m         __STATUS_TO_EXCEPTION_DICT=STATUS_TO_EXCEPTION_DICT,\n\u001b[32m    119\u001b[39m         __USBError=USBError,\n\u001b[32m    120\u001b[39m     ): \u001b[38;5;66;03m# pylint: disable=dangerous-default-value\u001b[39;00m\n\u001b[32m--> \u001b[39m\u001b[32m121\u001b[39m     \u001b[38;5;28;01mraise\u001b[39;00m __STATUS_TO_EXCEPTION_DICT.get(value, __USBError)(value)\n",
      "\u001b[31mUSBErrorNoDevice\u001b[39m: LIBUSB_ERROR_NO_DEVICE [-4]"
     ]
    }
   ],
   "source": [
    "cache = OrderedDict()\n",
    "evaluate_batch(csidh, batch)\n",
    "write_cache_to_file(f\"cwlitearm-xISOG-5-isogeny-skip-test.json\", cache, 1, len(batch), -1)   "
   ]
  },
  {
   "cell_type": "code",
   "execution_count": null,
   "id": "e3f7f140-0d20-40c0-bfde-f2940610dca7",
   "metadata": {},
   "outputs": [],
   "source": []
  },
  {
   "cell_type": "code",
   "execution_count": null,
   "id": "2061a47f-df64-4140-bbff-564c54ca6efc",
   "metadata": {},
   "outputs": [],
   "source": []
  },
  {
   "cell_type": "code",
   "execution_count": null,
   "id": "62327547-90d0-4180-9d90-55e3ef3df5eb",
   "metadata": {},
   "outputs": [],
   "source": []
  },
  {
   "cell_type": "code",
   "execution_count": null,
   "id": "d11616bf-b663-4d8e-a517-416493a70a87",
   "metadata": {},
   "outputs": [],
   "source": []
  },
  {
   "cell_type": "code",
   "execution_count": null,
   "id": "7625f1d5-5ae3-428b-86da-a1da40c1348c",
   "metadata": {},
   "outputs": [],
   "source": []
  }
 ],
 "metadata": {
  "kernelspec": {
   "display_name": "Python 3 (ipykernel)",
   "language": "python",
   "name": "python3"
  },
  "language_info": {
   "codemirror_mode": {
    "name": "ipython",
    "version": 3
   },
   "file_extension": ".py",
   "mimetype": "text/x-python",
   "name": "python",
   "nbconvert_exporter": "python",
   "pygments_lexer": "ipython3",
   "version": "3.11.6"
  }
 },
 "nbformat": 4,
 "nbformat_minor": 5
}
