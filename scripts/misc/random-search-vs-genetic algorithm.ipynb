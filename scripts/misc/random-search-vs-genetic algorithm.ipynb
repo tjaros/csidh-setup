{
 "cells": [
  {
   "cell_type": "markdown",
   "id": "50d1b241-8768-4750-927c-74641e5f3340",
   "metadata": {},
   "source": [
    "# Comparison of random search versus genetic algorithm\n",
    "In this notebook, we first perform an experiment with random search glitching, following that we do the same using the genetic algorithm. "
   ]
  },
  {
   "cell_type": "code",
   "execution_count": null,
   "id": "4a7baa6c-8047-4f93-a205-a0161925cda0",
   "metadata": {},
   "outputs": [],
   "source": [
    "SCOPETYPE = 'OPENADC'\n",
    "PLATFORM = 'CW308_STM32F3'\n",
    "SS_VER = 'SS_VER_2_1'\n",
    "PATH = \"/home/xjaros2/Documents/git/csidh-setup/csidh-target/src/\"\n",
    "attack_type = \"A1\""
   ]
  },
  {
   "cell_type": "code",
   "execution_count": null,
   "id": "c344823c-5974-4835-a243-984689465d54",
   "metadata": {},
   "outputs": [],
   "source": [
    "from csidh import CSIDHCW\n",
    "import chipwhisperer as cw\n",
    "from tqdm import tqdm\n",
    "import random\n",
    "import time\n",
    "import sys\n",
    "import numpy as np\n",
    "from csidh.search import Unit, generate_population, evaluate_batch, selection_roulette, cache, write_cache_to_file, evaluate_unit_default"
   ]
  },
  {
   "cell_type": "code",
   "execution_count": null,
   "id": "da508cf2-f508-4194-bdbf-f9fd114b5c4d",
   "metadata": {},
   "outputs": [],
   "source": [
    "csidh = CSIDHCW(PATH, attack_type=attack_type)\n",
    "csidh.setup()"
   ]
  },
  {
   "cell_type": "code",
   "execution_count": null,
   "id": "b02fa144-8ef4-4f91-a237-87948a0e2176",
   "metadata": {
    "scrolled": true
   },
   "outputs": [],
   "source": [
    "csidh.flash_target()"
   ]
  },
  {
   "cell_type": "code",
   "execution_count": null,
   "id": "38c7e88a-df12-48cd-8bb2-793674eed70e",
   "metadata": {},
   "outputs": [],
   "source": [
    "csidh.reset_target()\n",
    "csidh.scope.arm()\n",
    "csidh.action()\n",
    "ret = csidh.scope.capture()\n",
    "if ret:\n",
    "    print(\"Timeout happened during acquisition\")\n",
    "PUBLIC_EXPECTED = csidh.public_with_errors\n",
    "MAX_EXT_OFFSET = csidh.scope.adc.trig_count\n",
    "print(\"Public key:\", PUBLIC_EXPECTED)\n",
    "print(\"Max ext offset:\", MAX_EXT_OFFSET)"
   ]
  },
  {
   "cell_type": "code",
   "execution_count": null,
   "id": "d8e16d7f-38b7-4543-a1f9-b6a41eea501e",
   "metadata": {},
   "outputs": [],
   "source": [
    "# csidh.voltage_glitching_setup()\n",
    "csidh.scope.cglitch_setup()"
   ]
  },
  {
   "cell_type": "code",
   "execution_count": null,
   "id": "8e73f9f7-9b14-4316-acd1-d8e624ab7f76",
   "metadata": {},
   "outputs": [],
   "source": [
    "Unit.is_husky = csidh.scope._is_husky\n",
    "\n",
    "if Unit.is_husky:\n",
    "    Unit.OFFSET_MIN = 0 \n",
    "    Unit.OFFSET_MAX = csidh.scope.glitch.phase_shift_steps // 2 \t\n",
    "    Unit.OFFSET_RANGE = Unit.OFFSET_MAX - Unit.OFFSET_MIN\n",
    "    \n",
    "    Unit.WIDTH_MIN = 0\n",
    "    Unit.WIDTH_MAX = csidh.scope.glitch.phase_shift_steps // 2\n",
    "    Unit.WIDTH_RANGE = Unit.WIDTH_MAX - Unit.WIDTH_MIN\n",
    "else:\n",
    "    Unit.OFFSET_MIN = -48 \t \n",
    "    Unit.OFFSET_MAX = 48\n",
    "    Unit.OFFSET_RANGE = Unit.OFFSET_MAX - Unit.OFFSET_MIN\n",
    "    \n",
    "    Unit.WIDTH_MIN = 0\n",
    "    Unit.WIDTH_MAX = 48\n",
    "    Unit.WIDTH_RANGE = Unit.WIDTH_MAX - Unit.WIDTH_MIN\n",
    "\n",
    "Unit.EXT_OFFSET_MIN = 0\n",
    "Unit.EXT_OFFSET_MAX = MAX_EXT_OFFSET // 4 \n",
    "Unit.EXT_OFFSET_RANGE = Unit.EXT_OFFSET_MAX - Unit.EXT_OFFSET_MIN\n",
    "\n",
    "Unit.REPEAT_MIN = 1\n",
    "Unit.REPEAT_MAX = 10"
   ]
  },
  {
   "cell_type": "code",
   "execution_count": null,
   "id": "6397ffbf-b982-466e-b393-1571135d3e78",
   "metadata": {},
   "outputs": [],
   "source": [
    "# POPULATION_SIZE = 10000\n",
    "# CACHE_INTERVAL = 10\n",
    "# NUM_TRIES = 3\n",
    "\n",
    "# cache.clear()\n",
    "\n",
    "# def evaluate_unit(csidh, unit):\n",
    "#     evaluate_unit_default(csidh, unit, NUM_TRIES)\n",
    "\n",
    "# population = generate_population(POPULATION_SIZE)\n",
    "# for i in tqdm(range(0, len(population), CACHE_INTERVAL)):\n",
    "#     batch = population[i:i+CACHE_INTERVAL]\n",
    "#     evaluate_batch(csidh, batch, evaluate_unit)\n",
    "#     write_cache_to_file(f\"husky-clock-param-search-random.json\", cache, 1, len(cache), -1)  "
   ]
  },
  {
   "cell_type": "code",
   "execution_count": null,
   "id": "be582c99-1722-4c6c-ad67-22c8956c7e76",
   "metadata": {},
   "outputs": [],
   "source": [
    "N_ITERS = 200\n",
    "POPSIZE = 500\n",
    "\n",
    "cache.clear()\n",
    "\n",
    "def algo_search(csidh):\n",
    "    population = generate_population(POPSIZE)\n",
    "    N_scanned = []\n",
    "    for i in tqdm(range(N_ITERS)):\n",
    "        fits = evaluate_batch(csidh, population)\n",
    "        population = selection_roulette(population, elite_size=1)\n",
    "        tgen = time.time()\n",
    "\n",
    "    N_scanned.append(len(cache))\n",
    "    write_cache_to_file(\"husky-clock-param-search-ga.json\", cache, N_ITERS, POPSIZE, -1)\n",
    "\n",
    "algo_search(csidh)"
   ]
  }
 ],
 "metadata": {
  "kernelspec": {
   "display_name": "Python 3 (ipykernel)",
   "language": "python",
   "name": "python3"
  },
  "language_info": {
   "codemirror_mode": {
    "name": "ipython",
    "version": 3
   },
   "file_extension": ".py",
   "mimetype": "text/x-python",
   "name": "python",
   "nbconvert_exporter": "python",
   "pygments_lexer": "ipython3",
   "version": "3.11.6"
  }
 },
 "nbformat": 4,
 "nbformat_minor": 5
}
