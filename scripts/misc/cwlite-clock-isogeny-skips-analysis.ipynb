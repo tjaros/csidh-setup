{
 "cells": [
  {
   "cell_type": "markdown",
   "id": "0c437779-099f-44db-9c08-a690d532e645",
   "metadata": {},
   "source": [
    "## Isogeny skips\n",
    "\n",
    "This notebook contains a simple visualizations for data collected by glitching CSIDH on Chipwhisperer, goal is to check how often do glitches cause a skip of single isogeny."
   ]
  },
  {
   "cell_type": "code",
   "execution_count": null,
   "id": "92938bf9-3227-45d3-93d2-5689c1eb463e",
   "metadata": {},
   "outputs": [],
   "source": [
    "import os\n",
    "PATH = \"/home/xjaros2/Documents/git/csidh-setup/\"\n",
    "os.chdir(PATH)"
   ]
  },
  {
   "cell_type": "code",
   "execution_count": null,
   "id": "d653984b-8a91-4f19-a442-259f0ad94aae",
   "metadata": {},
   "outputs": [],
   "source": [
    "import pandas as pd"
   ]
  },
  {
   "cell_type": "code",
   "execution_count": null,
   "id": "a67df420-415d-4406-b5e4-9d091c6f2574",
   "metadata": {},
   "outputs": [],
   "source": [
    "datasets = [\n",
    "    \"csidh-target/scripts/data/dummy-results/cwlite/results-[10,-10,10]-attack2-tight-trigger-clkgen_x4.csv\",\n",
    "    #\"csidh-target/scripts/data/dummy-results/cwlite/results-[10,-10,10]-attack2.csv\",\n",
    "    #\"csidh-target/scripts/data/dummy-results/cwlite/results-[10,-10,10]-attack2.csv\"\n",
    "]"
   ]
  },
  {
   "cell_type": "code",
   "execution_count": null,
   "id": "99b58cb4-be71-4b2b-af8a-a964042b790e",
   "metadata": {},
   "outputs": [],
   "source": [
    "pwd"
   ]
  },
  {
   "cell_type": "code",
   "execution_count": null,
   "id": "b9e75597-4351-4a4d-be0e-e91ac567f7cc",
   "metadata": {},
   "outputs": [],
   "source": [
    "for i,dataset in enumerate(datasets):\n",
    "    datasets[i] = pd.read_csv(dataset)"
   ]
  },
  {
   "cell_type": "code",
   "execution_count": null,
   "id": "ec39cf83-9ba8-45ca-8d4c-0a84cd48b094",
   "metadata": {},
   "outputs": [],
   "source": [
    "from csidh import CSIDHDLL\n",
    "PATH = \"/home/xjaros2/Documents/git/csidh-setup/csidh-target/src/\"\n",
    "csidhdll = CSIDHDLL(src_path=PATH)\n",
    "\n",
    "\n",
    "def isogeny_in_distance(public, i):\n",
    "    csidhdll.public = csidhdll.to_projective(public)\n",
    "    private = [0, 0, 0]\n",
    "    \n",
    "    private[i] = -1\n",
    "    csidhdll.private = private\n",
    "    positive_isogeny_skipped =  csidhdll.from_projective(csidhdll.action())\n",
    "\n",
    "    private[i] = 1\n",
    "    csidhdll.private = private\n",
    "    negative_isogeny_skipped = csidhdll.from_projective(csidhdll.action())\n",
    "    return [positive_isogeny_skipped, negative_isogeny_skipped]"
   ]
  },
  {
   "cell_type": "code",
   "execution_count": null,
   "id": "40108b57-5005-4a1c-b12a-9375a70c9de8",
   "metadata": {},
   "outputs": [],
   "source": [
    "import seaborn as sns"
   ]
  },
  {
   "cell_type": "code",
   "execution_count": null,
   "id": "d738c9b6-4568-4b12-947c-c9701561c287",
   "metadata": {},
   "outputs": [],
   "source": [
    "df = datasets[0]"
   ]
  },
  {
   "cell_type": "code",
   "execution_count": null,
   "id": "7c9772e9-ada8-4f16-8496-07e8829cd214",
   "metadata": {},
   "outputs": [],
   "source": [
    "df[\"scope.glitch.ext_offset\"].min()"
   ]
  },
  {
   "cell_type": "code",
   "execution_count": null,
   "id": "c06a3979-eadc-46e3-ae85-ebcba205bd26",
   "metadata": {},
   "outputs": [],
   "source": [
    "df = df[df[\"good/bad/crash\"] == \"bad\"]\n",
    "df = df[df[\"public\"] == 199]\n",
    "df.reset_index().sort_values(\"scope.glitch.ext_offset\")"
   ]
  },
  {
   "cell_type": "code",
   "execution_count": null,
   "id": "250c0c1a-4d70-4079-83c0-6b107d3e115c",
   "metadata": {},
   "outputs": [],
   "source": [
    "df[(df[\"scope.glitch.ext_offset\"] < 2940) & (df[\"scope.glitch.ext_offset\"] > 2919)].sort_values(\"scope.glitch.ext_offset\")"
   ]
  },
  {
   "cell_type": "code",
   "execution_count": null,
   "id": "11d27a95-1d9d-408b-b8b1-82e711bd81b8",
   "metadata": {},
   "outputs": [],
   "source": [
    "df = datasets[0]\n",
    "df[(2150 < df[\"scope.glitch.ext_offset\"]) & (df[\"good/bad/crash\"] )]"
   ]
  },
  {
   "cell_type": "code",
   "execution_count": null,
   "id": "a42fc25c-669d-457f-ab57-553e1fb2f216",
   "metadata": {},
   "outputs": [],
   "source": [
    "import re, seaborn as sns\n",
    "import numpy as np\n",
    "\n",
    "from matplotlib import pyplot as plt\n",
    "from mpl_toolkits.mplot3d import Axes3D\n",
    "from matplotlib.colors import ListedColormap\n",
    "\n",
    "# generate data\n",
    "n = 200\n",
    "x = df[\"scope.glitch.offset\"]\n",
    "y = df[\"scope.glitch.width\"]\n",
    "z = df[\"scope.glitch.repeat\"]\n",
    "\n",
    "# axes instance\n",
    "fig = plt.figure(figsize=(6,6))\n",
    "ax = Axes3D(fig, auto_add_to_figure=False)\n",
    "fig.add_axes(ax)\n",
    "\n",
    "# get colormap from seaborn\n",
    "cmap = ListedColormap(sns.color_palette(\"husl\", 256).as_hex())\n",
    "\n",
    "# plot\n",
    "sc = ax.scatter(x, y, z, s=40, c=x, marker='o', cmap=cmap, alpha=1)\n",
    "ax.set_xlabel('Offset')\n",
    "ax.set_ylabel('Width')\n",
    "ax.set_zlabel('Repeat')\n",
    "\n",
    "# legend\n",
    "plt.legend(*sc.legend_elements(), bbox_to_anchor=(1.05, 1), loc=2)\n",
    "\n",
    "# save\n",
    "plt.savefig(\"scatter_hue\", bbox_inches='tight')"
   ]
  },
  {
   "cell_type": "code",
   "execution_count": null,
   "id": "339dc36d-8efe-4063-9465-47b91e8e4626",
   "metadata": {},
   "outputs": [],
   "source": [
    "sns.histplot(df[(df[\"scope.glitch.ext_offset\"] >2000)][\"scope.glitch.ext_offset\"], bins=3000) # First isogeny is 5 isogeny"
   ]
  },
  {
   "cell_type": "code",
   "execution_count": null,
   "id": "672b3af0-808b-489c-a2f6-a6cc2da16226",
   "metadata": {},
   "outputs": [],
   "source": []
  },
  {
   "cell_type": "code",
   "execution_count": null,
   "id": "fed2713a-1e96-4889-8805-9ec72f88a2e9",
   "metadata": {},
   "outputs": [],
   "source": [
    "isogeny_in_distance(0, 0)"
   ]
  },
  {
   "cell_type": "code",
   "execution_count": null,
   "id": "eafb5d3a-d98a-4660-9161-42cd85de6d97",
   "metadata": {},
   "outputs": [],
   "source": [
    "isogeny_in_distance(0, 1)"
   ]
  },
  {
   "cell_type": "code",
   "execution_count": null,
   "id": "99c0d2b7-1830-420f-a69c-0040092768f1",
   "metadata": {},
   "outputs": [],
   "source": [
    "isogeny_in_distance(0, 2)"
   ]
  },
  {
   "cell_type": "code",
   "execution_count": null,
   "id": "74865056-5007-4d7f-9289-942460b6c6b0",
   "metadata": {},
   "outputs": [],
   "source": []
  }
 ],
 "metadata": {
  "kernelspec": {
   "display_name": "Python 3 (ipykernel)",
   "language": "python",
   "name": "python3"
  },
  "language_info": {
   "codemirror_mode": {
    "name": "ipython",
    "version": 3
   },
   "file_extension": ".py",
   "mimetype": "text/x-python",
   "name": "python",
   "nbconvert_exporter": "python",
   "pygments_lexer": "ipython3",
   "version": "3.11.6"
  }
 },
 "nbformat": 4,
 "nbformat_minor": 5
}
